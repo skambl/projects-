{
 "cells": [
  {
   "cell_type": "code",
   "execution_count": 1,
   "id": "e4549974",
   "metadata": {},
   "outputs": [],
   "source": [
    "import pandas as pd\n",
    "import numpy as np\n",
    "from sklearn.preprocessing import StandardScaler\n",
    "from sklearn.linear_model import LinearRegression\n",
    "from sklearn.model_selection import train_test_split\n",
    "from statsmodels.stats.outliers_influence import variance_inflation_factor\n",
    "from sklearn.metrics import accuracy_score,confusion_matrix,roc_curve,roc_auc_score\n",
    "import matplotlib.pyplot as plt\n",
    "import seaborn as sns\n",
    "\n",
    "\n",
    "import warnings\n",
    "warnings.filterwarnings('ignore')"
   ]
  },
  {
   "cell_type": "code",
   "execution_count": 6,
   "id": "77a512a6",
   "metadata": {},
   "outputs": [
    {
     "data": {
      "text/html": [
       "<div>\n",
       "<style scoped>\n",
       "    .dataframe tbody tr th:only-of-type {\n",
       "        vertical-align: middle;\n",
       "    }\n",
       "\n",
       "    .dataframe tbody tr th {\n",
       "        vertical-align: top;\n",
       "    }\n",
       "\n",
       "    .dataframe thead th {\n",
       "        text-align: right;\n",
       "    }\n",
       "</style>\n",
       "<table border=\"1\" class=\"dataframe\">\n",
       "  <thead>\n",
       "    <tr style=\"text-align: right;\">\n",
       "      <th></th>\n",
       "      <th>age</th>\n",
       "      <th>sex</th>\n",
       "      <th>bmi</th>\n",
       "      <th>children</th>\n",
       "      <th>smoker</th>\n",
       "      <th>region</th>\n",
       "      <th>charges</th>\n",
       "    </tr>\n",
       "  </thead>\n",
       "  <tbody>\n",
       "    <tr>\n",
       "      <th>0</th>\n",
       "      <td>19</td>\n",
       "      <td>female</td>\n",
       "      <td>27.900</td>\n",
       "      <td>0</td>\n",
       "      <td>yes</td>\n",
       "      <td>southwest</td>\n",
       "      <td>16884.92400</td>\n",
       "    </tr>\n",
       "    <tr>\n",
       "      <th>1</th>\n",
       "      <td>18</td>\n",
       "      <td>male</td>\n",
       "      <td>33.770</td>\n",
       "      <td>1</td>\n",
       "      <td>no</td>\n",
       "      <td>southeast</td>\n",
       "      <td>1725.55230</td>\n",
       "    </tr>\n",
       "    <tr>\n",
       "      <th>2</th>\n",
       "      <td>28</td>\n",
       "      <td>male</td>\n",
       "      <td>33.000</td>\n",
       "      <td>3</td>\n",
       "      <td>no</td>\n",
       "      <td>southeast</td>\n",
       "      <td>4449.46200</td>\n",
       "    </tr>\n",
       "    <tr>\n",
       "      <th>3</th>\n",
       "      <td>33</td>\n",
       "      <td>male</td>\n",
       "      <td>22.705</td>\n",
       "      <td>0</td>\n",
       "      <td>no</td>\n",
       "      <td>northwest</td>\n",
       "      <td>21984.47061</td>\n",
       "    </tr>\n",
       "    <tr>\n",
       "      <th>4</th>\n",
       "      <td>32</td>\n",
       "      <td>male</td>\n",
       "      <td>28.880</td>\n",
       "      <td>0</td>\n",
       "      <td>no</td>\n",
       "      <td>northwest</td>\n",
       "      <td>3866.85520</td>\n",
       "    </tr>\n",
       "  </tbody>\n",
       "</table>\n",
       "</div>"
      ],
      "text/plain": [
       "   age     sex     bmi  children smoker     region      charges\n",
       "0   19  female  27.900         0    yes  southwest  16884.92400\n",
       "1   18    male  33.770         1     no  southeast   1725.55230\n",
       "2   28    male  33.000         3     no  southeast   4449.46200\n",
       "3   33    male  22.705         0     no  northwest  21984.47061\n",
       "4   32    male  28.880         0     no  northwest   3866.85520"
      ]
     },
     "execution_count": 6,
     "metadata": {},
     "output_type": "execute_result"
    }
   ],
   "source": [
    "df=pd.read_csv('https://raw.githubusercontent.com/dsrscientist/dataset4/main/medical_cost_insurance.csv')\n",
    "df.head()"
   ]
  },
  {
   "cell_type": "code",
   "execution_count": 8,
   "id": "830d11b2",
   "metadata": {},
   "outputs": [
    {
     "data": {
      "text/plain": [
       "(1338, 7)"
      ]
     },
     "execution_count": 8,
     "metadata": {},
     "output_type": "execute_result"
    }
   ],
   "source": [
    "df.shape"
   ]
  },
  {
   "cell_type": "code",
   "execution_count": 9,
   "id": "1c18a13b",
   "metadata": {},
   "outputs": [
    {
     "name": "stdout",
     "output_type": "stream",
     "text": [
      "<class 'pandas.core.frame.DataFrame'>\n",
      "RangeIndex: 1338 entries, 0 to 1337\n",
      "Data columns (total 7 columns):\n",
      " #   Column    Non-Null Count  Dtype  \n",
      "---  ------    --------------  -----  \n",
      " 0   age       1338 non-null   int64  \n",
      " 1   sex       1338 non-null   object \n",
      " 2   bmi       1338 non-null   float64\n",
      " 3   children  1338 non-null   int64  \n",
      " 4   smoker    1338 non-null   object \n",
      " 5   region    1338 non-null   object \n",
      " 6   charges   1338 non-null   float64\n",
      "dtypes: float64(2), int64(2), object(3)\n",
      "memory usage: 73.3+ KB\n"
     ]
    }
   ],
   "source": [
    "df.info()"
   ]
  },
  {
   "cell_type": "code",
   "execution_count": 10,
   "id": "558721f9",
   "metadata": {},
   "outputs": [
    {
     "data": {
      "text/html": [
       "<div>\n",
       "<style scoped>\n",
       "    .dataframe tbody tr th:only-of-type {\n",
       "        vertical-align: middle;\n",
       "    }\n",
       "\n",
       "    .dataframe tbody tr th {\n",
       "        vertical-align: top;\n",
       "    }\n",
       "\n",
       "    .dataframe thead th {\n",
       "        text-align: right;\n",
       "    }\n",
       "</style>\n",
       "<table border=\"1\" class=\"dataframe\">\n",
       "  <thead>\n",
       "    <tr style=\"text-align: right;\">\n",
       "      <th></th>\n",
       "      <th>age</th>\n",
       "      <th>bmi</th>\n",
       "      <th>children</th>\n",
       "      <th>charges</th>\n",
       "    </tr>\n",
       "  </thead>\n",
       "  <tbody>\n",
       "    <tr>\n",
       "      <th>count</th>\n",
       "      <td>1338.000000</td>\n",
       "      <td>1338.000000</td>\n",
       "      <td>1338.000000</td>\n",
       "      <td>1338.000000</td>\n",
       "    </tr>\n",
       "    <tr>\n",
       "      <th>mean</th>\n",
       "      <td>39.207025</td>\n",
       "      <td>30.663397</td>\n",
       "      <td>1.094918</td>\n",
       "      <td>13270.422265</td>\n",
       "    </tr>\n",
       "    <tr>\n",
       "      <th>std</th>\n",
       "      <td>14.049960</td>\n",
       "      <td>6.098187</td>\n",
       "      <td>1.205493</td>\n",
       "      <td>12110.011237</td>\n",
       "    </tr>\n",
       "    <tr>\n",
       "      <th>min</th>\n",
       "      <td>18.000000</td>\n",
       "      <td>15.960000</td>\n",
       "      <td>0.000000</td>\n",
       "      <td>1121.873900</td>\n",
       "    </tr>\n",
       "    <tr>\n",
       "      <th>25%</th>\n",
       "      <td>27.000000</td>\n",
       "      <td>26.296250</td>\n",
       "      <td>0.000000</td>\n",
       "      <td>4740.287150</td>\n",
       "    </tr>\n",
       "    <tr>\n",
       "      <th>50%</th>\n",
       "      <td>39.000000</td>\n",
       "      <td>30.400000</td>\n",
       "      <td>1.000000</td>\n",
       "      <td>9382.033000</td>\n",
       "    </tr>\n",
       "    <tr>\n",
       "      <th>75%</th>\n",
       "      <td>51.000000</td>\n",
       "      <td>34.693750</td>\n",
       "      <td>2.000000</td>\n",
       "      <td>16639.912515</td>\n",
       "    </tr>\n",
       "    <tr>\n",
       "      <th>max</th>\n",
       "      <td>64.000000</td>\n",
       "      <td>53.130000</td>\n",
       "      <td>5.000000</td>\n",
       "      <td>63770.428010</td>\n",
       "    </tr>\n",
       "  </tbody>\n",
       "</table>\n",
       "</div>"
      ],
      "text/plain": [
       "               age          bmi     children       charges\n",
       "count  1338.000000  1338.000000  1338.000000   1338.000000\n",
       "mean     39.207025    30.663397     1.094918  13270.422265\n",
       "std      14.049960     6.098187     1.205493  12110.011237\n",
       "min      18.000000    15.960000     0.000000   1121.873900\n",
       "25%      27.000000    26.296250     0.000000   4740.287150\n",
       "50%      39.000000    30.400000     1.000000   9382.033000\n",
       "75%      51.000000    34.693750     2.000000  16639.912515\n",
       "max      64.000000    53.130000     5.000000  63770.428010"
      ]
     },
     "execution_count": 10,
     "metadata": {},
     "output_type": "execute_result"
    }
   ],
   "source": [
    "df.describe()"
   ]
  },
  {
   "cell_type": "code",
   "execution_count": 13,
   "id": "94ca306b",
   "metadata": {},
   "outputs": [
    {
     "data": {
      "text/plain": [
       "array(['southwest', 'southeast', 'northwest', 'northeast'], dtype=object)"
      ]
     },
     "execution_count": 13,
     "metadata": {},
     "output_type": "execute_result"
    }
   ],
   "source": [
    "# as there's categorical column we will encode it with numbers\n",
    "\n",
    "df['region'].unique()"
   ]
  },
  {
   "cell_type": "code",
   "execution_count": 28,
   "id": "7e705047",
   "metadata": {},
   "outputs": [
    {
     "data": {
      "text/plain": [
       "0       3\n",
       "1       2\n",
       "2       2\n",
       "3       1\n",
       "4       1\n",
       "       ..\n",
       "1333    1\n",
       "1334    0\n",
       "1335    2\n",
       "1336    3\n",
       "1337    1\n",
       "Name: region, Length: 1338, dtype: int32"
      ]
     },
     "execution_count": 28,
     "metadata": {},
     "output_type": "execute_result"
    }
   ],
   "source": [
    "\n",
    "from sklearn .preprocessing import LabelEncoder\n",
    "lab_enc=LabelEncoder()\n",
    "df[\"region\"]=lab_enc.fit_transform(df['region'])\n",
    "df[\"region\"]"
   ]
  },
  {
   "cell_type": "code",
   "execution_count": 29,
   "id": "950bdb2c",
   "metadata": {},
   "outputs": [
    {
     "data": {
      "text/plain": [
       "0       1\n",
       "1       0\n",
       "2       0\n",
       "3       0\n",
       "4       0\n",
       "       ..\n",
       "1333    0\n",
       "1334    0\n",
       "1335    0\n",
       "1336    0\n",
       "1337    1\n",
       "Name: smoker, Length: 1338, dtype: int32"
      ]
     },
     "execution_count": 29,
     "metadata": {},
     "output_type": "execute_result"
    }
   ],
   "source": [
    "df[\"smoker\"]=lab_enc.fit_transform(df['smoker'])\n",
    "df[\"smoker\"]"
   ]
  },
  {
   "cell_type": "code",
   "execution_count": 30,
   "id": "94d296fa",
   "metadata": {},
   "outputs": [
    {
     "data": {
      "text/plain": [
       "0       0\n",
       "1       1\n",
       "2       1\n",
       "3       1\n",
       "4       1\n",
       "       ..\n",
       "1333    1\n",
       "1334    0\n",
       "1335    0\n",
       "1336    0\n",
       "1337    0\n",
       "Name: sex, Length: 1338, dtype: int32"
      ]
     },
     "execution_count": 30,
     "metadata": {},
     "output_type": "execute_result"
    }
   ],
   "source": [
    "df[\"sex\"]=lab_enc.fit_transform(df['sex'])\n",
    "df[\"sex\"]"
   ]
  },
  {
   "cell_type": "code",
   "execution_count": 31,
   "id": "36a7f90d",
   "metadata": {},
   "outputs": [
    {
     "data": {
      "text/html": [
       "<div>\n",
       "<style scoped>\n",
       "    .dataframe tbody tr th:only-of-type {\n",
       "        vertical-align: middle;\n",
       "    }\n",
       "\n",
       "    .dataframe tbody tr th {\n",
       "        vertical-align: top;\n",
       "    }\n",
       "\n",
       "    .dataframe thead th {\n",
       "        text-align: right;\n",
       "    }\n",
       "</style>\n",
       "<table border=\"1\" class=\"dataframe\">\n",
       "  <thead>\n",
       "    <tr style=\"text-align: right;\">\n",
       "      <th></th>\n",
       "      <th>age</th>\n",
       "      <th>sex</th>\n",
       "      <th>bmi</th>\n",
       "      <th>children</th>\n",
       "      <th>smoker</th>\n",
       "      <th>region</th>\n",
       "      <th>charges</th>\n",
       "    </tr>\n",
       "  </thead>\n",
       "  <tbody>\n",
       "    <tr>\n",
       "      <th>count</th>\n",
       "      <td>1338.000000</td>\n",
       "      <td>1338.000000</td>\n",
       "      <td>1338.000000</td>\n",
       "      <td>1338.000000</td>\n",
       "      <td>1338.000000</td>\n",
       "      <td>1338.000000</td>\n",
       "      <td>1338.000000</td>\n",
       "    </tr>\n",
       "    <tr>\n",
       "      <th>mean</th>\n",
       "      <td>39.207025</td>\n",
       "      <td>0.505232</td>\n",
       "      <td>30.663397</td>\n",
       "      <td>1.094918</td>\n",
       "      <td>0.204783</td>\n",
       "      <td>1.515695</td>\n",
       "      <td>13270.422265</td>\n",
       "    </tr>\n",
       "    <tr>\n",
       "      <th>std</th>\n",
       "      <td>14.049960</td>\n",
       "      <td>0.500160</td>\n",
       "      <td>6.098187</td>\n",
       "      <td>1.205493</td>\n",
       "      <td>0.403694</td>\n",
       "      <td>1.104885</td>\n",
       "      <td>12110.011237</td>\n",
       "    </tr>\n",
       "    <tr>\n",
       "      <th>min</th>\n",
       "      <td>18.000000</td>\n",
       "      <td>0.000000</td>\n",
       "      <td>15.960000</td>\n",
       "      <td>0.000000</td>\n",
       "      <td>0.000000</td>\n",
       "      <td>0.000000</td>\n",
       "      <td>1121.873900</td>\n",
       "    </tr>\n",
       "    <tr>\n",
       "      <th>25%</th>\n",
       "      <td>27.000000</td>\n",
       "      <td>0.000000</td>\n",
       "      <td>26.296250</td>\n",
       "      <td>0.000000</td>\n",
       "      <td>0.000000</td>\n",
       "      <td>1.000000</td>\n",
       "      <td>4740.287150</td>\n",
       "    </tr>\n",
       "    <tr>\n",
       "      <th>50%</th>\n",
       "      <td>39.000000</td>\n",
       "      <td>1.000000</td>\n",
       "      <td>30.400000</td>\n",
       "      <td>1.000000</td>\n",
       "      <td>0.000000</td>\n",
       "      <td>2.000000</td>\n",
       "      <td>9382.033000</td>\n",
       "    </tr>\n",
       "    <tr>\n",
       "      <th>75%</th>\n",
       "      <td>51.000000</td>\n",
       "      <td>1.000000</td>\n",
       "      <td>34.693750</td>\n",
       "      <td>2.000000</td>\n",
       "      <td>0.000000</td>\n",
       "      <td>2.000000</td>\n",
       "      <td>16639.912515</td>\n",
       "    </tr>\n",
       "    <tr>\n",
       "      <th>max</th>\n",
       "      <td>64.000000</td>\n",
       "      <td>1.000000</td>\n",
       "      <td>53.130000</td>\n",
       "      <td>5.000000</td>\n",
       "      <td>1.000000</td>\n",
       "      <td>3.000000</td>\n",
       "      <td>63770.428010</td>\n",
       "    </tr>\n",
       "  </tbody>\n",
       "</table>\n",
       "</div>"
      ],
      "text/plain": [
       "               age          sex          bmi     children       smoker  \\\n",
       "count  1338.000000  1338.000000  1338.000000  1338.000000  1338.000000   \n",
       "mean     39.207025     0.505232    30.663397     1.094918     0.204783   \n",
       "std      14.049960     0.500160     6.098187     1.205493     0.403694   \n",
       "min      18.000000     0.000000    15.960000     0.000000     0.000000   \n",
       "25%      27.000000     0.000000    26.296250     0.000000     0.000000   \n",
       "50%      39.000000     1.000000    30.400000     1.000000     0.000000   \n",
       "75%      51.000000     1.000000    34.693750     2.000000     0.000000   \n",
       "max      64.000000     1.000000    53.130000     5.000000     1.000000   \n",
       "\n",
       "            region       charges  \n",
       "count  1338.000000   1338.000000  \n",
       "mean      1.515695  13270.422265  \n",
       "std       1.104885  12110.011237  \n",
       "min       0.000000   1121.873900  \n",
       "25%       1.000000   4740.287150  \n",
       "50%       2.000000   9382.033000  \n",
       "75%       2.000000  16639.912515  \n",
       "max       3.000000  63770.428010  "
      ]
     },
     "execution_count": 31,
     "metadata": {},
     "output_type": "execute_result"
    }
   ],
   "source": [
    "df.describe()"
   ]
  },
  {
   "cell_type": "code",
   "execution_count": 32,
   "id": "5567c92d",
   "metadata": {},
   "outputs": [
    {
     "data": {
      "text/html": [
       "<div>\n",
       "<style scoped>\n",
       "    .dataframe tbody tr th:only-of-type {\n",
       "        vertical-align: middle;\n",
       "    }\n",
       "\n",
       "    .dataframe tbody tr th {\n",
       "        vertical-align: top;\n",
       "    }\n",
       "\n",
       "    .dataframe thead th {\n",
       "        text-align: right;\n",
       "    }\n",
       "</style>\n",
       "<table border=\"1\" class=\"dataframe\">\n",
       "  <thead>\n",
       "    <tr style=\"text-align: right;\">\n",
       "      <th></th>\n",
       "      <th>age</th>\n",
       "      <th>sex</th>\n",
       "      <th>bmi</th>\n",
       "      <th>children</th>\n",
       "      <th>smoker</th>\n",
       "      <th>region</th>\n",
       "      <th>charges</th>\n",
       "    </tr>\n",
       "  </thead>\n",
       "  <tbody>\n",
       "    <tr>\n",
       "      <th>age</th>\n",
       "      <td>1.000000</td>\n",
       "      <td>-0.020856</td>\n",
       "      <td>0.109272</td>\n",
       "      <td>0.042469</td>\n",
       "      <td>-0.025019</td>\n",
       "      <td>0.002127</td>\n",
       "      <td>0.299008</td>\n",
       "    </tr>\n",
       "    <tr>\n",
       "      <th>sex</th>\n",
       "      <td>-0.020856</td>\n",
       "      <td>1.000000</td>\n",
       "      <td>0.046371</td>\n",
       "      <td>0.017163</td>\n",
       "      <td>0.076185</td>\n",
       "      <td>0.004588</td>\n",
       "      <td>0.057292</td>\n",
       "    </tr>\n",
       "    <tr>\n",
       "      <th>bmi</th>\n",
       "      <td>0.109272</td>\n",
       "      <td>0.046371</td>\n",
       "      <td>1.000000</td>\n",
       "      <td>0.012759</td>\n",
       "      <td>0.003750</td>\n",
       "      <td>0.157566</td>\n",
       "      <td>0.198341</td>\n",
       "    </tr>\n",
       "    <tr>\n",
       "      <th>children</th>\n",
       "      <td>0.042469</td>\n",
       "      <td>0.017163</td>\n",
       "      <td>0.012759</td>\n",
       "      <td>1.000000</td>\n",
       "      <td>0.007673</td>\n",
       "      <td>0.016569</td>\n",
       "      <td>0.067998</td>\n",
       "    </tr>\n",
       "    <tr>\n",
       "      <th>smoker</th>\n",
       "      <td>-0.025019</td>\n",
       "      <td>0.076185</td>\n",
       "      <td>0.003750</td>\n",
       "      <td>0.007673</td>\n",
       "      <td>1.000000</td>\n",
       "      <td>-0.002181</td>\n",
       "      <td>0.787251</td>\n",
       "    </tr>\n",
       "    <tr>\n",
       "      <th>region</th>\n",
       "      <td>0.002127</td>\n",
       "      <td>0.004588</td>\n",
       "      <td>0.157566</td>\n",
       "      <td>0.016569</td>\n",
       "      <td>-0.002181</td>\n",
       "      <td>1.000000</td>\n",
       "      <td>-0.006208</td>\n",
       "    </tr>\n",
       "    <tr>\n",
       "      <th>charges</th>\n",
       "      <td>0.299008</td>\n",
       "      <td>0.057292</td>\n",
       "      <td>0.198341</td>\n",
       "      <td>0.067998</td>\n",
       "      <td>0.787251</td>\n",
       "      <td>-0.006208</td>\n",
       "      <td>1.000000</td>\n",
       "    </tr>\n",
       "  </tbody>\n",
       "</table>\n",
       "</div>"
      ],
      "text/plain": [
       "               age       sex       bmi  children    smoker    region   charges\n",
       "age       1.000000 -0.020856  0.109272  0.042469 -0.025019  0.002127  0.299008\n",
       "sex      -0.020856  1.000000  0.046371  0.017163  0.076185  0.004588  0.057292\n",
       "bmi       0.109272  0.046371  1.000000  0.012759  0.003750  0.157566  0.198341\n",
       "children  0.042469  0.017163  0.012759  1.000000  0.007673  0.016569  0.067998\n",
       "smoker   -0.025019  0.076185  0.003750  0.007673  1.000000 -0.002181  0.787251\n",
       "region    0.002127  0.004588  0.157566  0.016569 -0.002181  1.000000 -0.006208\n",
       "charges   0.299008  0.057292  0.198341  0.067998  0.787251 -0.006208  1.000000"
      ]
     },
     "execution_count": 32,
     "metadata": {},
     "output_type": "execute_result"
    }
   ],
   "source": [
    " corr=df.corr()\n",
    "corr"
   ]
  },
  {
   "cell_type": "code",
   "execution_count": 33,
   "id": "83988d0b",
   "metadata": {},
   "outputs": [
    {
     "data": {
      "image/png": "[encoded data removed]",
      "text/plain": [
       "<Figure size 432x288 with 2 Axes>"
      ]
     },
     "metadata": {
      "needs_background": "light"
     },
     "output_type": "display_data"
    }
   ],
   "source": [
    "# heatmap\n",
    "sns.heatmap(df.corr(), annot=True)\n",
    "plt.show()"
   ]
  },
  {
   "cell_type": "code",
   "execution_count": 34,
   "id": "d2ba5aaa",
   "metadata": {},
   "outputs": [],
   "source": [
    "from sklearn.preprocessing import StandardScaler\n",
    "from sklearn.linear_model import LinearRegression\n",
    "from sklearn.model_selection import train_test_split\n",
    "from sklearn.metrics import confusion_matrix,classification_report"
   ]
  },
  {
   "cell_type": "code",
   "execution_count": 36,
   "id": "aa764713",
   "metadata": {},
   "outputs": [
    {
     "data": {
      "image/png": "[encoded data removed]",
      "text/plain": [
       "<Figure size 1440x1800 with 7 Axes>"
      ]
     },
     "metadata": {},
     "output_type": "display_data"
    }
   ],
   "source": [
    "plt.figure(figsize=(20,25), facecolor='yellow')\n",
    "plotnumber = 1\n",
    "for column in df:\n",
    "    if plotnumber<=7:\n",
    "        ax=plt.subplot(4,2,plotnumber)\n",
    "        sns.distplot(df[column]) \n",
    "        plt.xlabel(column,fontsize=20)\n",
    "    plotnumber+=1\n",
    "plt.show()     "
   ]
  },
  {
   "cell_type": "code",
   "execution_count": 37,
   "id": "851b5f96",
   "metadata": {},
   "outputs": [
    {
     "data": {
      "text/plain": [
       "<AxesSubplot:>"
      ]
     },
     "execution_count": 37,
     "metadata": {},
     "output_type": "execute_result"
    },
    {
     "data": {
      "image/png": "[encoded data removed]",
      "text/plain": [
       "<Figure size 720x720 with 1 Axes>"
      ]
     },
     "metadata": {
      "needs_background": "light"
     },
     "output_type": "display_data"
    }
   ],
   "source": [
    "# to chk outliers\n",
    "df.plot(kind='box',layout=(3,4),figsize=(10,10))"
   ]
  },
  {
   "cell_type": "code",
   "execution_count": 39,
   "id": "24670bc8",
   "metadata": {},
   "outputs": [],
   "source": [
    "x=df.drop(columns=['charges'])\n",
    "y=df['charges']"
   ]
  },
  {
   "cell_type": "code",
   "execution_count": 40,
   "id": "714594fe",
   "metadata": {},
   "outputs": [
    {
     "data": {
      "text/plain": [
       "array([[-1.43876426, -1.0105187 , -0.45332   , -0.90861367,  1.97058663,\n",
       "         1.34390459],\n",
       "       [-1.50996545,  0.98959079,  0.5096211 , -0.07876719, -0.5074631 ,\n",
       "         0.43849455],\n",
       "       [-0.79795355,  0.98959079,  0.38330685,  1.58092576, -0.5074631 ,\n",
       "         0.43849455],\n",
       "       ...,\n",
       "       [-1.50996545, -1.0105187 ,  1.0148781 , -0.90861367, -0.5074631 ,\n",
       "         0.43849455],\n",
       "       [-1.29636188, -1.0105187 , -0.79781341, -0.90861367, -0.5074631 ,\n",
       "         1.34390459],\n",
       "       [ 1.55168573, -1.0105187 , -0.26138796, -0.90861367,  1.97058663,\n",
       "        -0.46691549]])"
      ]
     },
     "execution_count": 40,
     "metadata": {},
     "output_type": "execute_result"
    }
   ],
   "source": [
    "# scaling\n",
    "scaler=StandardScaler()\n",
    "x_scaled=scaler.fit_transform(x)\n",
    "x_scaled"
   ]
  },
  {
   "cell_type": "code",
   "execution_count": 42,
   "id": "4bc3f807",
   "metadata": {},
   "outputs": [],
   "source": [
    "X=x_scaled"
   ]
  },
  {
   "cell_type": "code",
   "execution_count": 43,
   "id": "149c7f36",
   "metadata": {},
   "outputs": [],
   "source": [
    "# split for train & test\n",
    "x_train,x_test,y_train,y_test=train_test_split(x_scaled,y,test_size=0.25,random_state=41)"
   ]
  },
  {
   "cell_type": "code",
   "execution_count": 44,
   "id": "1451cc88",
   "metadata": {},
   "outputs": [
    {
     "data": {
      "text/plain": [
       "83     11033.66170\n",
       "509    11455.28000\n",
       "325     6600.20595\n",
       "18     10602.38500\n",
       "390    10736.87075\n",
       "Name: charges, dtype: float64"
      ]
     },
     "execution_count": 44,
     "metadata": {},
     "output_type": "execute_result"
    }
   ],
   "source": [
    "y_train.head()"
   ]
  },
  {
   "cell_type": "code",
   "execution_count": 45,
   "id": "158b28e0",
   "metadata": {},
   "outputs": [],
   "source": [
    "lm=LinearRegression()"
   ]
  },
  {
   "cell_type": "code",
   "execution_count": 46,
   "id": "c7fdcaa9",
   "metadata": {},
   "outputs": [
    {
     "data": {
      "text/plain": [
       "LinearRegression()"
      ]
     },
     "execution_count": 46,
     "metadata": {},
     "output_type": "execute_result"
    }
   ],
   "source": [
    "lm.fit(x_train,y_train)\n",
    "      "
   ]
  },
  {
   "cell_type": "code",
   "execution_count": 47,
   "id": "5c9722f2",
   "metadata": {},
   "outputs": [
    {
     "data": {
      "text/plain": [
       "array([3654.32251847,   43.38518971, 2138.46787438,  538.06646428,\n",
       "       9776.19488172, -520.69556461])"
      ]
     },
     "execution_count": 47,
     "metadata": {},
     "output_type": "execute_result"
    }
   ],
   "source": [
    "lm.coef_"
   ]
  },
  {
   "cell_type": "code",
   "execution_count": 48,
   "id": "6c5e1961",
   "metadata": {},
   "outputs": [
    {
     "data": {
      "text/plain": [
       "13422.26335495054"
      ]
     },
     "execution_count": 48,
     "metadata": {},
     "output_type": "execute_result"
    }
   ],
   "source": [
    "lm.intercept_"
   ]
  },
  {
   "cell_type": "code",
   "execution_count": 49,
   "id": "80e88d9d",
   "metadata": {},
   "outputs": [
    {
     "data": {
      "text/plain": [
       "0.7575598110356404"
      ]
     },
     "execution_count": 49,
     "metadata": {},
     "output_type": "execute_result"
    }
   ],
   "source": [
    "lm.score(x_train,y_train)"
   ]
  },
  {
   "cell_type": "code",
   "execution_count": 50,
   "id": "dca0700b",
   "metadata": {},
   "outputs": [],
   "source": [
    "# predict the values\n",
    "pred=lm.predict(x_test)"
   ]
  },
  {
   "cell_type": "code",
   "execution_count": 51,
   "id": "7085eed8",
   "metadata": {},
   "outputs": [
    {
     "name": "stdout",
     "output_type": "stream",
     "text": [
      "predicted Price:- [ 6.18026408e+03  1.22024667e+04  6.66863598e+03  9.44551903e+03\n",
      "  1.03631363e+04  1.19652384e+04  2.85059735e+04  1.46204872e+04\n",
      "  7.90615322e+03  5.62902077e+03  2.93446415e+04  1.35126875e+04\n",
      "  1.77033919e+03  2.85368325e+04  6.05922891e+03  1.23211268e+04\n",
      "  1.51123107e+04  9.33066989e+03  1.18897576e+04  3.49721283e+04\n",
      "  8.25903966e+03  3.35189341e+04  1.17135836e+04  1.61539216e+04\n",
      "  1.81342471e+04  1.22595570e+04  1.25978860e+04  4.23531758e+03\n",
      "  7.92475088e+03  1.57399995e+04  9.23029800e+03  4.85417991e+03\n",
      "  8.71074035e+03  1.38062060e+04  1.13476488e+04  2.82880947e+04\n",
      "  1.20778004e+04  1.43609932e+04  7.85281197e+02  3.50888903e+04\n",
      "  2.82898347e+04  3.42662000e+04  1.22968360e+04  1.43264232e+04\n",
      "  7.63034464e+03  5.81566708e+03  6.25564753e+03  3.62008358e+04\n",
      "  1.78211059e+04  6.47777807e+03  8.02395433e+02  4.28022744e+03\n",
      "  1.11027071e+04  1.03811308e+04  4.91073452e+03  8.10117955e+03\n",
      "  9.62190022e+03  1.08793731e+04  9.14251372e+03  1.54396301e+04\n",
      "  1.27421073e+04  1.15349617e+04  9.09788334e+03  1.61982022e+03\n",
      "  2.90744926e+04  1.74098399e+04  1.12689480e+04  6.84094182e+03\n",
      "  2.91759368e+04  3.40070732e+04  5.13650931e+03  1.43640639e+04\n",
      "  4.58270757e+03  4.48779896e+03  1.27617738e+04  3.14753128e+04\n",
      "  7.09225052e+03  1.24431266e+04  1.34776605e+04  9.72060143e+03\n",
      "  5.64508103e+03  1.63470947e+04  1.25948067e+04  1.21579652e+04\n",
      "  1.31634504e+04  1.59969782e+03  7.51533358e+03  2.70076984e+04\n",
      "  2.64957654e+04  9.09078550e+03  4.08198710e+03  3.92195407e+04\n",
      " -3.45658992e+02  3.15992848e+02  1.22027882e+04  1.00590956e+04\n",
      "  1.32086764e+04  1.08585620e+04  1.40354168e+04  2.22247044e+03\n",
      "  9.20206352e+03  4.22016483e+03  1.05674010e+04  5.06971363e+03\n",
      "  3.47449138e+03  1.15620468e+04  3.32909311e+03  3.60420174e+04\n",
      "  1.38181730e+04  3.15028678e+04  9.84265467e+03  1.53159228e+04\n",
      "  2.42460518e+04  7.07976331e+03  1.15908777e+04  1.29205614e+04\n",
      " -5.91012610e+02  1.07632793e+04  1.31083310e+04  8.33434920e+03\n",
      "  1.04291294e+04  7.06198597e+03  1.37017868e+04  3.00675144e+04\n",
      "  5.92601923e+03  3.32024125e+03  3.21292715e+04  1.02185638e+04\n",
      "  1.03773915e+04  3.29453284e+03  6.92763627e+03  1.38465562e+04\n",
      "  6.38073619e+03  1.34919597e+04  3.17378079e+04  1.23342272e+04\n",
      "  3.21766052e+04  1.35624288e+04  2.63938155e+03  1.02924355e+04\n",
      "  9.50228430e+03  1.31571055e+04  4.98769445e+03  4.63251826e+03\n",
      "  1.07371543e+04  6.16991749e+03  7.13935437e+03  1.14118299e+04\n",
      "  6.30235860e+03  1.03249722e+04  6.86977117e+03  1.27493921e+04\n",
      "  8.68078066e+03  2.67254726e+04  1.91006346e+03  6.50065072e+03\n",
      "  3.25677024e+04  6.78914939e+03  3.26082960e+03  3.56851233e+04\n",
      "  6.49867360e+03  1.07530568e+03  1.69662257e+04  1.36298167e+04\n",
      "  3.83376591e+04  3.26295349e+04  3.75088774e+04  1.29658295e+04\n",
      "  1.75493804e+02  2.19730447e+03  1.00475008e+04  1.12871856e+03\n",
      "  1.57963666e+03  1.29732575e+04  4.57166200e+01  2.91398410e+04\n",
      "  1.29385540e+04  6.88900739e+03  1.41811919e+04  1.40174032e+04\n",
      "  2.42310922e+03  9.71201666e+03  2.52440965e+04  1.71938900e+04\n",
      "  6.69606174e+03  6.68665501e+03  3.94748309e+04  2.60662599e+03\n",
      "  1.37753221e+04  3.39587494e+04  5.41106218e+03  1.98881954e+03\n",
      "  1.38435699e+04  3.59036021e+03  3.62562608e+04  3.26287127e+04\n",
      "  6.42856466e+03  1.49477536e+04  7.47049957e+03  1.71027467e+03\n",
      "  6.01167105e+03  1.28831815e+04  1.18776631e+04  5.88762586e+03\n",
      "  1.08462321e+04  1.03141012e+04  3.38806899e+04  1.23534836e+04\n",
      "  5.46369869e+03  1.01852374e+04  1.10976417e+04  1.09280613e+04\n",
      "  3.56706282e+04  5.90003131e+03  2.52274822e+04  1.52183188e+04\n",
      "  3.50495676e+04  8.70271507e+03  1.10458212e+04  2.97490853e+03\n",
      "  1.66811237e+03  1.15749880e+04  9.83119032e+02  7.04890423e+03\n",
      "  1.19178421e+04  1.16753510e+04  3.43870701e+04  5.31276505e+03\n",
      "  1.48003229e+04  1.43213262e+04 -1.31717048e+01  4.43851512e+03\n",
      "  3.99087226e+03  1.24679111e+04  9.19443772e+03  6.72197493e+03\n",
      "  4.43285213e+02  7.49570489e+03  1.23980474e+04  2.66754299e+04\n",
      "  8.22978705e+03  6.80145236e+03  1.16785051e+04  2.74960641e+04\n",
      "  1.49360930e+04  3.74941285e+04  1.02803426e+04  8.58247386e+03\n",
      "  4.41385177e+03  1.14412819e+04  4.85417991e+03  8.99292407e+03\n",
      "  1.32689746e+04  6.82515050e+03  3.46540489e+04  6.93855559e+03\n",
      "  1.67369956e+03  7.65157980e+03  3.54151045e+03  4.59365923e+03\n",
      "  4.01138129e+04  6.02688181e+03  8.31078620e+03  3.49178195e+04\n",
      "  3.60316631e+03  7.92436618e+03  1.03836409e+04  1.31954725e+04\n",
      "  7.56601483e+03  5.56854353e+03  3.05837353e+04  7.03732265e+03\n",
      "  1.48286813e+04  2.53639671e+04  1.14432450e+04  1.28521468e+04\n",
      "  6.41085316e+03  9.94411452e+03  3.63871675e+04  1.16645507e+03\n",
      "  1.09234642e+04  1.26068228e+04  4.86777993e+03  8.98746537e+03\n",
      "  8.55125193e+03  1.19483270e+04  9.72835183e+03  6.83980525e+03\n",
      "  1.65263266e+03  6.46534723e+03  1.04835656e+04  1.67516820e+04\n",
      "  4.01734146e+03  3.43493020e+04  1.80509167e+04  5.39441784e+03\n",
      "  1.47460017e+04  3.32309342e+04  1.12348340e+04  3.30893189e+04\n",
      "  3.47102496e+04  3.25423538e+04 -1.94610092e+03  5.28763174e+03\n",
      "  2.79426048e+03  1.49935918e+04  9.21423965e+03  1.47789715e+04\n",
      "  2.83363931e+03  6.93556927e+03  5.46454089e+03  1.07567094e+04\n",
      "  7.17907935e+03  1.47634192e+04  3.63562680e+04  3.10238827e+04\n",
      "  2.89135472e+04  1.53250294e+04  1.23981132e+04  6.69866336e+03\n",
      "  7.78106252e+02  8.26069170e+03  1.30807709e+04  7.48531432e+03\n",
      "  5.53376514e+02  7.05143031e+03  6.75158256e+03  1.16199653e+04\n",
      "  1.16846218e+04  2.82990763e+04  1.12853201e+04  2.77698843e+04\n",
      "  1.01759772e+04  9.98191253e+03  1.10796756e+04]\n",
      "Actual Price:- 1083     4076.49700\n",
      "1237    12224.35085\n",
      "519      3857.75925\n",
      "79       6571.02435\n",
      "930      2927.06470\n",
      "           ...     \n",
      "230      7443.64305\n",
      "1291    34828.65400\n",
      "350     11830.60720\n",
      "907      7633.72060\n",
      "1327     9377.90470\n",
      "Name: charges, Length: 335, dtype: float64\n"
     ]
    }
   ],
   "source": [
    "print('predicted Price:-',pred)\n",
    "print('Actual Price:-',y_test)"
   ]
  },
  {
   "cell_type": "code",
   "execution_count": 53,
   "id": "c58cd235",
   "metadata": {},
   "outputs": [],
   "source": [
    "from sklearn.metrics import mean_squared_error,mean_absolute_error"
   ]
  },
  {
   "cell_type": "code",
   "execution_count": 58,
   "id": "6951ef40",
   "metadata": {},
   "outputs": [
    {
     "name": "stdout",
     "output_type": "stream",
     "text": [
      "error\n",
      "mean Absolute Error: <function mean_absolute_error at 0x000001AA04FB90D0> (1083     4076.49700\n",
      "1237    12224.35085\n",
      "519      3857.75925\n",
      "79       6571.02435\n",
      "930      2927.06470\n",
      "           ...     \n",
      "230      7443.64305\n",
      "1291    34828.65400\n",
      "350     11830.60720\n",
      "907      7633.72060\n",
      "1327     9377.90470\n",
      "Name: charges, Length: 335, dtype: float64, array([ 6.18026408e+03,  1.22024667e+04,  6.66863598e+03,  9.44551903e+03,\n",
      "        1.03631363e+04,  1.19652384e+04,  2.85059735e+04,  1.46204872e+04,\n",
      "        7.90615322e+03,  5.62902077e+03,  2.93446415e+04,  1.35126875e+04,\n",
      "        1.77033919e+03,  2.85368325e+04,  6.05922891e+03,  1.23211268e+04,\n",
      "        1.51123107e+04,  9.33066989e+03,  1.18897576e+04,  3.49721283e+04,\n",
      "        8.25903966e+03,  3.35189341e+04,  1.17135836e+04,  1.61539216e+04,\n",
      "        1.81342471e+04,  1.22595570e+04,  1.25978860e+04,  4.23531758e+03,\n",
      "        7.92475088e+03,  1.57399995e+04,  9.23029800e+03,  4.85417991e+03,\n",
      "        8.71074035e+03,  1.38062060e+04,  1.13476488e+04,  2.82880947e+04,\n",
      "        1.20778004e+04,  1.43609932e+04,  7.85281197e+02,  3.50888903e+04,\n",
      "        2.82898347e+04,  3.42662000e+04,  1.22968360e+04,  1.43264232e+04,\n",
      "        7.63034464e+03,  5.81566708e+03,  6.25564753e+03,  3.62008358e+04,\n",
      "        1.78211059e+04,  6.47777807e+03,  8.02395433e+02,  4.28022744e+03,\n",
      "        1.11027071e+04,  1.03811308e+04,  4.91073452e+03,  8.10117955e+03,\n",
      "        9.62190022e+03,  1.08793731e+04,  9.14251372e+03,  1.54396301e+04,\n",
      "        1.27421073e+04,  1.15349617e+04,  9.09788334e+03,  1.61982022e+03,\n",
      "        2.90744926e+04,  1.74098399e+04,  1.12689480e+04,  6.84094182e+03,\n",
      "        2.91759368e+04,  3.40070732e+04,  5.13650931e+03,  1.43640639e+04,\n",
      "        4.58270757e+03,  4.48779896e+03,  1.27617738e+04,  3.14753128e+04,\n",
      "        7.09225052e+03,  1.24431266e+04,  1.34776605e+04,  9.72060143e+03,\n",
      "        5.64508103e+03,  1.63470947e+04,  1.25948067e+04,  1.21579652e+04,\n",
      "        1.31634504e+04,  1.59969782e+03,  7.51533358e+03,  2.70076984e+04,\n",
      "        2.64957654e+04,  9.09078550e+03,  4.08198710e+03,  3.92195407e+04,\n",
      "       -3.45658992e+02,  3.15992848e+02,  1.22027882e+04,  1.00590956e+04,\n",
      "        1.32086764e+04,  1.08585620e+04,  1.40354168e+04,  2.22247044e+03,\n",
      "        9.20206352e+03,  4.22016483e+03,  1.05674010e+04,  5.06971363e+03,\n",
      "        3.47449138e+03,  1.15620468e+04,  3.32909311e+03,  3.60420174e+04,\n",
      "        1.38181730e+04,  3.15028678e+04,  9.84265467e+03,  1.53159228e+04,\n",
      "        2.42460518e+04,  7.07976331e+03,  1.15908777e+04,  1.29205614e+04,\n",
      "       -5.91012610e+02,  1.07632793e+04,  1.31083310e+04,  8.33434920e+03,\n",
      "        1.04291294e+04,  7.06198597e+03,  1.37017868e+04,  3.00675144e+04,\n",
      "        5.92601923e+03,  3.32024125e+03,  3.21292715e+04,  1.02185638e+04,\n",
      "        1.03773915e+04,  3.29453284e+03,  6.92763627e+03,  1.38465562e+04,\n",
      "        6.38073619e+03,  1.34919597e+04,  3.17378079e+04,  1.23342272e+04,\n",
      "        3.21766052e+04,  1.35624288e+04,  2.63938155e+03,  1.02924355e+04,\n",
      "        9.50228430e+03,  1.31571055e+04,  4.98769445e+03,  4.63251826e+03,\n",
      "        1.07371543e+04,  6.16991749e+03,  7.13935437e+03,  1.14118299e+04,\n",
      "        6.30235860e+03,  1.03249722e+04,  6.86977117e+03,  1.27493921e+04,\n",
      "        8.68078066e+03,  2.67254726e+04,  1.91006346e+03,  6.50065072e+03,\n",
      "        3.25677024e+04,  6.78914939e+03,  3.26082960e+03,  3.56851233e+04,\n",
      "        6.49867360e+03,  1.07530568e+03,  1.69662257e+04,  1.36298167e+04,\n",
      "        3.83376591e+04,  3.26295349e+04,  3.75088774e+04,  1.29658295e+04,\n",
      "        1.75493804e+02,  2.19730447e+03,  1.00475008e+04,  1.12871856e+03,\n",
      "        1.57963666e+03,  1.29732575e+04,  4.57166200e+01,  2.91398410e+04,\n",
      "        1.29385540e+04,  6.88900739e+03,  1.41811919e+04,  1.40174032e+04,\n",
      "        2.42310922e+03,  9.71201666e+03,  2.52440965e+04,  1.71938900e+04,\n",
      "        6.69606174e+03,  6.68665501e+03,  3.94748309e+04,  2.60662599e+03,\n",
      "        1.37753221e+04,  3.39587494e+04,  5.41106218e+03,  1.98881954e+03,\n",
      "        1.38435699e+04,  3.59036021e+03,  3.62562608e+04,  3.26287127e+04,\n",
      "        6.42856466e+03,  1.49477536e+04,  7.47049957e+03,  1.71027467e+03,\n",
      "        6.01167105e+03,  1.28831815e+04,  1.18776631e+04,  5.88762586e+03,\n",
      "        1.08462321e+04,  1.03141012e+04,  3.38806899e+04,  1.23534836e+04,\n",
      "        5.46369869e+03,  1.01852374e+04,  1.10976417e+04,  1.09280613e+04,\n",
      "        3.56706282e+04,  5.90003131e+03,  2.52274822e+04,  1.52183188e+04,\n",
      "        3.50495676e+04,  8.70271507e+03,  1.10458212e+04,  2.97490853e+03,\n",
      "        1.66811237e+03,  1.15749880e+04,  9.83119032e+02,  7.04890423e+03,\n",
      "        1.19178421e+04,  1.16753510e+04,  3.43870701e+04,  5.31276505e+03,\n",
      "        1.48003229e+04,  1.43213262e+04, -1.31717048e+01,  4.43851512e+03,\n",
      "        3.99087226e+03,  1.24679111e+04,  9.19443772e+03,  6.72197493e+03,\n",
      "        4.43285213e+02,  7.49570489e+03,  1.23980474e+04,  2.66754299e+04,\n",
      "        8.22978705e+03,  6.80145236e+03,  1.16785051e+04,  2.74960641e+04,\n",
      "        1.49360930e+04,  3.74941285e+04,  1.02803426e+04,  8.58247386e+03,\n",
      "        4.41385177e+03,  1.14412819e+04,  4.85417991e+03,  8.99292407e+03,\n",
      "        1.32689746e+04,  6.82515050e+03,  3.46540489e+04,  6.93855559e+03,\n",
      "        1.67369956e+03,  7.65157980e+03,  3.54151045e+03,  4.59365923e+03,\n",
      "        4.01138129e+04,  6.02688181e+03,  8.31078620e+03,  3.49178195e+04,\n",
      "        3.60316631e+03,  7.92436618e+03,  1.03836409e+04,  1.31954725e+04,\n",
      "        7.56601483e+03,  5.56854353e+03,  3.05837353e+04,  7.03732265e+03,\n",
      "        1.48286813e+04,  2.53639671e+04,  1.14432450e+04,  1.28521468e+04,\n",
      "        6.41085316e+03,  9.94411452e+03,  3.63871675e+04,  1.16645507e+03,\n",
      "        1.09234642e+04,  1.26068228e+04,  4.86777993e+03,  8.98746537e+03,\n",
      "        8.55125193e+03,  1.19483270e+04,  9.72835183e+03,  6.83980525e+03,\n",
      "        1.65263266e+03,  6.46534723e+03,  1.04835656e+04,  1.67516820e+04,\n",
      "        4.01734146e+03,  3.43493020e+04,  1.80509167e+04,  5.39441784e+03,\n",
      "        1.47460017e+04,  3.32309342e+04,  1.12348340e+04,  3.30893189e+04,\n",
      "        3.47102496e+04,  3.25423538e+04, -1.94610092e+03,  5.28763174e+03,\n",
      "        2.79426048e+03,  1.49935918e+04,  9.21423965e+03,  1.47789715e+04,\n",
      "        2.83363931e+03,  6.93556927e+03,  5.46454089e+03,  1.07567094e+04,\n",
      "        7.17907935e+03,  1.47634192e+04,  3.63562680e+04,  3.10238827e+04,\n",
      "        2.89135472e+04,  1.53250294e+04,  1.23981132e+04,  6.69866336e+03,\n",
      "        7.78106252e+02,  8.26069170e+03,  1.30807709e+04,  7.48531432e+03,\n",
      "        5.53376514e+02,  7.05143031e+03,  6.75158256e+03,  1.16199653e+04,\n",
      "        1.16846218e+04,  2.82990763e+04,  1.12853201e+04,  2.77698843e+04,\n",
      "        1.01759772e+04,  9.98191253e+03,  1.10796756e+04]))\n",
      "mean_squared_error: 32215567.303367592\n",
      "Root Squared Error: 5675.875906269233\n"
     ]
    }
   ],
   "source": [
    "print('error')\n",
    "print ('mean Absolute Error:',mean_absolute_error,(y_test,pred))\n",
    "print('mean_squared_error:',mean_squared_error(y_test,pred))\n",
    "print('Root Squared Error:',np.sqrt(mean_squared_error(y_test,pred)))"
   ]
  },
  {
   "cell_type": "code",
   "execution_count": 59,
   "id": "e074d2e6",
   "metadata": {},
   "outputs": [
    {
     "name": "stdout",
     "output_type": "stream",
     "text": [
      "r2_score (1083     4076.49700\n",
      "1237    12224.35085\n",
      "519      3857.75925\n",
      "79       6571.02435\n",
      "930      2927.06470\n",
      "           ...     \n",
      "230      7443.64305\n",
      "1291    34828.65400\n",
      "350     11830.60720\n",
      "907      7633.72060\n",
      "1327     9377.90470\n",
      "Name: charges, Length: 335, dtype: float64, array([ 6.18026408e+03,  1.22024667e+04,  6.66863598e+03,  9.44551903e+03,\n",
      "        1.03631363e+04,  1.19652384e+04,  2.85059735e+04,  1.46204872e+04,\n",
      "        7.90615322e+03,  5.62902077e+03,  2.93446415e+04,  1.35126875e+04,\n",
      "        1.77033919e+03,  2.85368325e+04,  6.05922891e+03,  1.23211268e+04,\n",
      "        1.51123107e+04,  9.33066989e+03,  1.18897576e+04,  3.49721283e+04,\n",
      "        8.25903966e+03,  3.35189341e+04,  1.17135836e+04,  1.61539216e+04,\n",
      "        1.81342471e+04,  1.22595570e+04,  1.25978860e+04,  4.23531758e+03,\n",
      "        7.92475088e+03,  1.57399995e+04,  9.23029800e+03,  4.85417991e+03,\n",
      "        8.71074035e+03,  1.38062060e+04,  1.13476488e+04,  2.82880947e+04,\n",
      "        1.20778004e+04,  1.43609932e+04,  7.85281197e+02,  3.50888903e+04,\n",
      "        2.82898347e+04,  3.42662000e+04,  1.22968360e+04,  1.43264232e+04,\n",
      "        7.63034464e+03,  5.81566708e+03,  6.25564753e+03,  3.62008358e+04,\n",
      "        1.78211059e+04,  6.47777807e+03,  8.02395433e+02,  4.28022744e+03,\n",
      "        1.11027071e+04,  1.03811308e+04,  4.91073452e+03,  8.10117955e+03,\n",
      "        9.62190022e+03,  1.08793731e+04,  9.14251372e+03,  1.54396301e+04,\n",
      "        1.27421073e+04,  1.15349617e+04,  9.09788334e+03,  1.61982022e+03,\n",
      "        2.90744926e+04,  1.74098399e+04,  1.12689480e+04,  6.84094182e+03,\n",
      "        2.91759368e+04,  3.40070732e+04,  5.13650931e+03,  1.43640639e+04,\n",
      "        4.58270757e+03,  4.48779896e+03,  1.27617738e+04,  3.14753128e+04,\n",
      "        7.09225052e+03,  1.24431266e+04,  1.34776605e+04,  9.72060143e+03,\n",
      "        5.64508103e+03,  1.63470947e+04,  1.25948067e+04,  1.21579652e+04,\n",
      "        1.31634504e+04,  1.59969782e+03,  7.51533358e+03,  2.70076984e+04,\n",
      "        2.64957654e+04,  9.09078550e+03,  4.08198710e+03,  3.92195407e+04,\n",
      "       -3.45658992e+02,  3.15992848e+02,  1.22027882e+04,  1.00590956e+04,\n",
      "        1.32086764e+04,  1.08585620e+04,  1.40354168e+04,  2.22247044e+03,\n",
      "        9.20206352e+03,  4.22016483e+03,  1.05674010e+04,  5.06971363e+03,\n",
      "        3.47449138e+03,  1.15620468e+04,  3.32909311e+03,  3.60420174e+04,\n",
      "        1.38181730e+04,  3.15028678e+04,  9.84265467e+03,  1.53159228e+04,\n",
      "        2.42460518e+04,  7.07976331e+03,  1.15908777e+04,  1.29205614e+04,\n",
      "       -5.91012610e+02,  1.07632793e+04,  1.31083310e+04,  8.33434920e+03,\n",
      "        1.04291294e+04,  7.06198597e+03,  1.37017868e+04,  3.00675144e+04,\n",
      "        5.92601923e+03,  3.32024125e+03,  3.21292715e+04,  1.02185638e+04,\n",
      "        1.03773915e+04,  3.29453284e+03,  6.92763627e+03,  1.38465562e+04,\n",
      "        6.38073619e+03,  1.34919597e+04,  3.17378079e+04,  1.23342272e+04,\n",
      "        3.21766052e+04,  1.35624288e+04,  2.63938155e+03,  1.02924355e+04,\n",
      "        9.50228430e+03,  1.31571055e+04,  4.98769445e+03,  4.63251826e+03,\n",
      "        1.07371543e+04,  6.16991749e+03,  7.13935437e+03,  1.14118299e+04,\n",
      "        6.30235860e+03,  1.03249722e+04,  6.86977117e+03,  1.27493921e+04,\n",
      "        8.68078066e+03,  2.67254726e+04,  1.91006346e+03,  6.50065072e+03,\n",
      "        3.25677024e+04,  6.78914939e+03,  3.26082960e+03,  3.56851233e+04,\n",
      "        6.49867360e+03,  1.07530568e+03,  1.69662257e+04,  1.36298167e+04,\n",
      "        3.83376591e+04,  3.26295349e+04,  3.75088774e+04,  1.29658295e+04,\n",
      "        1.75493804e+02,  2.19730447e+03,  1.00475008e+04,  1.12871856e+03,\n",
      "        1.57963666e+03,  1.29732575e+04,  4.57166200e+01,  2.91398410e+04,\n",
      "        1.29385540e+04,  6.88900739e+03,  1.41811919e+04,  1.40174032e+04,\n",
      "        2.42310922e+03,  9.71201666e+03,  2.52440965e+04,  1.71938900e+04,\n",
      "        6.69606174e+03,  6.68665501e+03,  3.94748309e+04,  2.60662599e+03,\n",
      "        1.37753221e+04,  3.39587494e+04,  5.41106218e+03,  1.98881954e+03,\n",
      "        1.38435699e+04,  3.59036021e+03,  3.62562608e+04,  3.26287127e+04,\n",
      "        6.42856466e+03,  1.49477536e+04,  7.47049957e+03,  1.71027467e+03,\n",
      "        6.01167105e+03,  1.28831815e+04,  1.18776631e+04,  5.88762586e+03,\n",
      "        1.08462321e+04,  1.03141012e+04,  3.38806899e+04,  1.23534836e+04,\n",
      "        5.46369869e+03,  1.01852374e+04,  1.10976417e+04,  1.09280613e+04,\n",
      "        3.56706282e+04,  5.90003131e+03,  2.52274822e+04,  1.52183188e+04,\n",
      "        3.50495676e+04,  8.70271507e+03,  1.10458212e+04,  2.97490853e+03,\n",
      "        1.66811237e+03,  1.15749880e+04,  9.83119032e+02,  7.04890423e+03,\n",
      "        1.19178421e+04,  1.16753510e+04,  3.43870701e+04,  5.31276505e+03,\n",
      "        1.48003229e+04,  1.43213262e+04, -1.31717048e+01,  4.43851512e+03,\n",
      "        3.99087226e+03,  1.24679111e+04,  9.19443772e+03,  6.72197493e+03,\n",
      "        4.43285213e+02,  7.49570489e+03,  1.23980474e+04,  2.66754299e+04,\n",
      "        8.22978705e+03,  6.80145236e+03,  1.16785051e+04,  2.74960641e+04,\n",
      "        1.49360930e+04,  3.74941285e+04,  1.02803426e+04,  8.58247386e+03,\n",
      "        4.41385177e+03,  1.14412819e+04,  4.85417991e+03,  8.99292407e+03,\n",
      "        1.32689746e+04,  6.82515050e+03,  3.46540489e+04,  6.93855559e+03,\n",
      "        1.67369956e+03,  7.65157980e+03,  3.54151045e+03,  4.59365923e+03,\n",
      "        4.01138129e+04,  6.02688181e+03,  8.31078620e+03,  3.49178195e+04,\n",
      "        3.60316631e+03,  7.92436618e+03,  1.03836409e+04,  1.31954725e+04,\n",
      "        7.56601483e+03,  5.56854353e+03,  3.05837353e+04,  7.03732265e+03,\n",
      "        1.48286813e+04,  2.53639671e+04,  1.14432450e+04,  1.28521468e+04,\n",
      "        6.41085316e+03,  9.94411452e+03,  3.63871675e+04,  1.16645507e+03,\n",
      "        1.09234642e+04,  1.26068228e+04,  4.86777993e+03,  8.98746537e+03,\n",
      "        8.55125193e+03,  1.19483270e+04,  9.72835183e+03,  6.83980525e+03,\n",
      "        1.65263266e+03,  6.46534723e+03,  1.04835656e+04,  1.67516820e+04,\n",
      "        4.01734146e+03,  3.43493020e+04,  1.80509167e+04,  5.39441784e+03,\n",
      "        1.47460017e+04,  3.32309342e+04,  1.12348340e+04,  3.30893189e+04,\n",
      "        3.47102496e+04,  3.25423538e+04, -1.94610092e+03,  5.28763174e+03,\n",
      "        2.79426048e+03,  1.49935918e+04,  9.21423965e+03,  1.47789715e+04,\n",
      "        2.83363931e+03,  6.93556927e+03,  5.46454089e+03,  1.07567094e+04,\n",
      "        7.17907935e+03,  1.47634192e+04,  3.63562680e+04,  3.10238827e+04,\n",
      "        2.89135472e+04,  1.53250294e+04,  1.23981132e+04,  6.69866336e+03,\n",
      "        7.78106252e+02,  8.26069170e+03,  1.30807709e+04,  7.48531432e+03,\n",
      "        5.53376514e+02,  7.05143031e+03,  6.75158256e+03,  1.16199653e+04,\n",
      "        1.16846218e+04,  2.82990763e+04,  1.12853201e+04,  2.77698843e+04,\n",
      "        1.01759772e+04,  9.98191253e+03,  1.10796756e+04]))\n"
     ]
    }
   ],
   "source": [
    "from sklearn.metrics import r2_score\n",
    "print('r2_score',(y_test,pred))"
   ]
  },
  {
   "cell_type": "code",
   "execution_count": 60,
   "id": "84e5eebd",
   "metadata": {},
   "outputs": [],
   "source": [
    "import pickle"
   ]
  },
  {
   "cell_type": "code",
   "execution_count": 61,
   "id": "37bb52ea",
   "metadata": {},
   "outputs": [],
   "source": [
    "filename='insurance charges_file.pkl'\n",
    "pickle.dump('insurance charges',open(filename,'wb'))"
   ]
  },
  {
   "cell_type": "code",
   "execution_count": null,
   "id": "c63ef51c",
   "metadata": {},
   "outputs": [],
   "source": []
  }
 ],
 "metadata": {
  "kernelspec": {
   "display_name": "Python 3 (ipykernel)",
   "language": "python",
   "name": "python3"
  },
  "language_info": {
   "codemirror_mode": {
    "name": "ipython",
    "version": 3
   },
   "file_extension": ".py",
   "mimetype": "text/x-python",
   "name": "python",
   "nbconvert_exporter": "python",
   "pygments_lexer": "ipython3",
   "version": "3.9.7"
  }
 },
 "nbformat": 4,
 "nbformat_minor": 5
}
