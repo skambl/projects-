{
 "cells": [
  {
   "cell_type": "code",
   "execution_count": 1,
   "id": "b8161896",
   "metadata": {},
   "outputs": [],
   "source": [
    "import numpy as np\n",
    "import pandas as pd\n",
    "from sklearn import metrics\n",
    "import seaborn as sns\n",
    "\n",
    "import matplotlib.pyplot as plt\n",
    "%matplotlib inline"
   ]
  },
  {
   "cell_type": "code",
   "execution_count": 3,
   "id": "8b93df4f",
   "metadata": {},
   "outputs": [],
   "source": [
    "df=pd.read_csv(\"https://raw.githubusercontent.com/dsrscientist/dataset3/main/glass.csv\")"
   ]
  },
  {
   "cell_type": "code",
   "execution_count": 4,
   "id": "4ec2c3ea",
   "metadata": {},
   "outputs": [
    {
     "data": {
      "text/html": [
       "<div>\n",
       "<style scoped>\n",
       "    .dataframe tbody tr th:only-of-type {\n",
       "        vertical-align: middle;\n",
       "    }\n",
       "\n",
       "    .dataframe tbody tr th {\n",
       "        vertical-align: top;\n",
       "    }\n",
       "\n",
       "    .dataframe thead th {\n",
       "        text-align: right;\n",
       "    }\n",
       "</style>\n",
       "<table border=\"1\" class=\"dataframe\">\n",
       "  <thead>\n",
       "    <tr style=\"text-align: right;\">\n",
       "      <th></th>\n",
       "      <th>1</th>\n",
       "      <th>1.52101</th>\n",
       "      <th>13.64</th>\n",
       "      <th>4.49</th>\n",
       "      <th>1.10</th>\n",
       "      <th>71.78</th>\n",
       "      <th>0.06</th>\n",
       "      <th>8.75</th>\n",
       "      <th>0.00</th>\n",
       "      <th>0.00.1</th>\n",
       "      <th>1.1</th>\n",
       "    </tr>\n",
       "  </thead>\n",
       "  <tbody>\n",
       "    <tr>\n",
       "      <th>0</th>\n",
       "      <td>2</td>\n",
       "      <td>1.51761</td>\n",
       "      <td>13.89</td>\n",
       "      <td>3.60</td>\n",
       "      <td>1.36</td>\n",
       "      <td>72.73</td>\n",
       "      <td>0.48</td>\n",
       "      <td>7.83</td>\n",
       "      <td>0.0</td>\n",
       "      <td>0.00</td>\n",
       "      <td>1</td>\n",
       "    </tr>\n",
       "    <tr>\n",
       "      <th>1</th>\n",
       "      <td>3</td>\n",
       "      <td>1.51618</td>\n",
       "      <td>13.53</td>\n",
       "      <td>3.55</td>\n",
       "      <td>1.54</td>\n",
       "      <td>72.99</td>\n",
       "      <td>0.39</td>\n",
       "      <td>7.78</td>\n",
       "      <td>0.0</td>\n",
       "      <td>0.00</td>\n",
       "      <td>1</td>\n",
       "    </tr>\n",
       "    <tr>\n",
       "      <th>2</th>\n",
       "      <td>4</td>\n",
       "      <td>1.51766</td>\n",
       "      <td>13.21</td>\n",
       "      <td>3.69</td>\n",
       "      <td>1.29</td>\n",
       "      <td>72.61</td>\n",
       "      <td>0.57</td>\n",
       "      <td>8.22</td>\n",
       "      <td>0.0</td>\n",
       "      <td>0.00</td>\n",
       "      <td>1</td>\n",
       "    </tr>\n",
       "    <tr>\n",
       "      <th>3</th>\n",
       "      <td>5</td>\n",
       "      <td>1.51742</td>\n",
       "      <td>13.27</td>\n",
       "      <td>3.62</td>\n",
       "      <td>1.24</td>\n",
       "      <td>73.08</td>\n",
       "      <td>0.55</td>\n",
       "      <td>8.07</td>\n",
       "      <td>0.0</td>\n",
       "      <td>0.00</td>\n",
       "      <td>1</td>\n",
       "    </tr>\n",
       "    <tr>\n",
       "      <th>4</th>\n",
       "      <td>6</td>\n",
       "      <td>1.51596</td>\n",
       "      <td>12.79</td>\n",
       "      <td>3.61</td>\n",
       "      <td>1.62</td>\n",
       "      <td>72.97</td>\n",
       "      <td>0.64</td>\n",
       "      <td>8.07</td>\n",
       "      <td>0.0</td>\n",
       "      <td>0.26</td>\n",
       "      <td>1</td>\n",
       "    </tr>\n",
       "  </tbody>\n",
       "</table>\n",
       "</div>"
      ],
      "text/plain": [
       "   1  1.52101  13.64  4.49  1.10  71.78  0.06  8.75  0.00  0.00.1  1.1\n",
       "0  2  1.51761  13.89  3.60  1.36  72.73  0.48  7.83   0.0    0.00    1\n",
       "1  3  1.51618  13.53  3.55  1.54  72.99  0.39  7.78   0.0    0.00    1\n",
       "2  4  1.51766  13.21  3.69  1.29  72.61  0.57  8.22   0.0    0.00    1\n",
       "3  5  1.51742  13.27  3.62  1.24  73.08  0.55  8.07   0.0    0.00    1\n",
       "4  6  1.51596  12.79  3.61  1.62  72.97  0.64  8.07   0.0    0.26    1"
      ]
     },
     "execution_count": 4,
     "metadata": {},
     "output_type": "execute_result"
    }
   ],
   "source": [
    "df.head()"
   ]
  },
  {
   "cell_type": "code",
   "execution_count": 5,
   "id": "ea2354a4",
   "metadata": {},
   "outputs": [
    {
     "name": "stdout",
     "output_type": "stream",
     "text": [
      "<class 'pandas.core.frame.DataFrame'>\n",
      "RangeIndex: 213 entries, 0 to 212\n",
      "Data columns (total 11 columns):\n",
      " #   Column   Non-Null Count  Dtype  \n",
      "---  ------   --------------  -----  \n",
      " 0   1        213 non-null    int64  \n",
      " 1   1.52101  213 non-null    float64\n",
      " 2   13.64    213 non-null    float64\n",
      " 3   4.49     213 non-null    float64\n",
      " 4   1.10     213 non-null    float64\n",
      " 5   71.78    213 non-null    float64\n",
      " 6   0.06     213 non-null    float64\n",
      " 7   8.75     213 non-null    float64\n",
      " 8   0.00     213 non-null    float64\n",
      " 9   0.00.1   213 non-null    float64\n",
      " 10  1.1      213 non-null    int64  \n",
      "dtypes: float64(9), int64(2)\n",
      "memory usage: 18.4 KB\n"
     ]
    }
   ],
   "source": [
    "df.info()"
   ]
  },
  {
   "cell_type": "code",
   "execution_count": 6,
   "id": "29d7788f",
   "metadata": {},
   "outputs": [],
   "source": [
    "df.columns = ['id', 'RI', 'Na', 'Mg', 'Al', 'Si', 'K', 'Ca', 'Ba', 'Fe', 'glass_type']\n"
   ]
  },
  {
   "cell_type": "code",
   "execution_count": 7,
   "id": "9c665c90",
   "metadata": {},
   "outputs": [
    {
     "data": {
      "text/html": [
       "<div>\n",
       "<style scoped>\n",
       "    .dataframe tbody tr th:only-of-type {\n",
       "        vertical-align: middle;\n",
       "    }\n",
       "\n",
       "    .dataframe tbody tr th {\n",
       "        vertical-align: top;\n",
       "    }\n",
       "\n",
       "    .dataframe thead th {\n",
       "        text-align: right;\n",
       "    }\n",
       "</style>\n",
       "<table border=\"1\" class=\"dataframe\">\n",
       "  <thead>\n",
       "    <tr style=\"text-align: right;\">\n",
       "      <th></th>\n",
       "      <th>id</th>\n",
       "      <th>RI</th>\n",
       "      <th>Na</th>\n",
       "      <th>Mg</th>\n",
       "      <th>Al</th>\n",
       "      <th>Si</th>\n",
       "      <th>K</th>\n",
       "      <th>Ca</th>\n",
       "      <th>Ba</th>\n",
       "      <th>Fe</th>\n",
       "      <th>glass_type</th>\n",
       "    </tr>\n",
       "  </thead>\n",
       "  <tbody>\n",
       "    <tr>\n",
       "      <th>0</th>\n",
       "      <td>2</td>\n",
       "      <td>1.51761</td>\n",
       "      <td>13.89</td>\n",
       "      <td>3.60</td>\n",
       "      <td>1.36</td>\n",
       "      <td>72.73</td>\n",
       "      <td>0.48</td>\n",
       "      <td>7.83</td>\n",
       "      <td>0.0</td>\n",
       "      <td>0.00</td>\n",
       "      <td>1</td>\n",
       "    </tr>\n",
       "    <tr>\n",
       "      <th>1</th>\n",
       "      <td>3</td>\n",
       "      <td>1.51618</td>\n",
       "      <td>13.53</td>\n",
       "      <td>3.55</td>\n",
       "      <td>1.54</td>\n",
       "      <td>72.99</td>\n",
       "      <td>0.39</td>\n",
       "      <td>7.78</td>\n",
       "      <td>0.0</td>\n",
       "      <td>0.00</td>\n",
       "      <td>1</td>\n",
       "    </tr>\n",
       "    <tr>\n",
       "      <th>2</th>\n",
       "      <td>4</td>\n",
       "      <td>1.51766</td>\n",
       "      <td>13.21</td>\n",
       "      <td>3.69</td>\n",
       "      <td>1.29</td>\n",
       "      <td>72.61</td>\n",
       "      <td>0.57</td>\n",
       "      <td>8.22</td>\n",
       "      <td>0.0</td>\n",
       "      <td>0.00</td>\n",
       "      <td>1</td>\n",
       "    </tr>\n",
       "    <tr>\n",
       "      <th>3</th>\n",
       "      <td>5</td>\n",
       "      <td>1.51742</td>\n",
       "      <td>13.27</td>\n",
       "      <td>3.62</td>\n",
       "      <td>1.24</td>\n",
       "      <td>73.08</td>\n",
       "      <td>0.55</td>\n",
       "      <td>8.07</td>\n",
       "      <td>0.0</td>\n",
       "      <td>0.00</td>\n",
       "      <td>1</td>\n",
       "    </tr>\n",
       "    <tr>\n",
       "      <th>4</th>\n",
       "      <td>6</td>\n",
       "      <td>1.51596</td>\n",
       "      <td>12.79</td>\n",
       "      <td>3.61</td>\n",
       "      <td>1.62</td>\n",
       "      <td>72.97</td>\n",
       "      <td>0.64</td>\n",
       "      <td>8.07</td>\n",
       "      <td>0.0</td>\n",
       "      <td>0.26</td>\n",
       "      <td>1</td>\n",
       "    </tr>\n",
       "  </tbody>\n",
       "</table>\n",
       "</div>"
      ],
      "text/plain": [
       "   id       RI     Na    Mg    Al     Si     K    Ca   Ba    Fe  glass_type\n",
       "0   2  1.51761  13.89  3.60  1.36  72.73  0.48  7.83  0.0  0.00           1\n",
       "1   3  1.51618  13.53  3.55  1.54  72.99  0.39  7.78  0.0  0.00           1\n",
       "2   4  1.51766  13.21  3.69  1.29  72.61  0.57  8.22  0.0  0.00           1\n",
       "3   5  1.51742  13.27  3.62  1.24  73.08  0.55  8.07  0.0  0.00           1\n",
       "4   6  1.51596  12.79  3.61  1.62  72.97  0.64  8.07  0.0  0.26           1"
      ]
     },
     "execution_count": 7,
     "metadata": {},
     "output_type": "execute_result"
    }
   ],
   "source": [
    "df.head()"
   ]
  },
  {
   "cell_type": "code",
   "execution_count": 8,
   "id": "0f3d8267",
   "metadata": {},
   "outputs": [
    {
     "name": "stderr",
     "output_type": "stream",
     "text": [
      "C:\\ProgramData\\Anaconda3\\lib\\site-packages\\seaborn\\distributions.py:2619: FutureWarning: `distplot` is a deprecated function and will be removed in a future version. Please adapt your code to use either `displot` (a figure-level function with similar flexibility) or `histplot` (an axes-level function for histograms).\n",
      "  warnings.warn(msg, FutureWarning)\n"
     ]
    },
    {
     "data": {
      "image/png": "[encoded data removed]",
      "text/plain": [
       "<Figure size 1440x1080 with 1 Axes>"
      ]
     },
     "metadata": {},
     "output_type": "display_data"
    },
    {
     "name": "stderr",
     "output_type": "stream",
     "text": [
      "C:\\ProgramData\\Anaconda3\\lib\\site-packages\\seaborn\\distributions.py:2619: FutureWarning: `distplot` is a deprecated function and will be removed in a future version. Please adapt your code to use either `displot` (a figure-level function with similar flexibility) or `histplot` (an axes-level function for histograms).\n",
      "  warnings.warn(msg, FutureWarning)\n"
     ]
    },
    {
     "data": {
      "image/png": "[encoded data removed]",
      "text/plain": [
       "<Figure size 432x288 with 1 Axes>"
      ]
     },
     "metadata": {
      "needs_background": "light"
     },
     "output_type": "display_data"
    },
    {
     "name": "stderr",
     "output_type": "stream",
     "text": [
      "C:\\ProgramData\\Anaconda3\\lib\\site-packages\\seaborn\\distributions.py:2619: FutureWarning: `distplot` is a deprecated function and will be removed in a future version. Please adapt your code to use either `displot` (a figure-level function with similar flexibility) or `histplot` (an axes-level function for histograms).\n",
      "  warnings.warn(msg, FutureWarning)\n"
     ]
    },
    {
     "data": {
      "image/png": "[encoded data removed]",
      "text/plain": [
       "<Figure size 432x288 with 1 Axes>"
      ]
     },
     "metadata": {
      "needs_background": "light"
     },
     "output_type": "display_data"
    },
    {
     "name": "stderr",
     "output_type": "stream",
     "text": [
      "C:\\ProgramData\\Anaconda3\\lib\\site-packages\\seaborn\\distributions.py:2619: FutureWarning: `distplot` is a deprecated function and will be removed in a future version. Please adapt your code to use either `displot` (a figure-level function with similar flexibility) or `histplot` (an axes-level function for histograms).\n",
      "  warnings.warn(msg, FutureWarning)\n"
     ]
    },
    {
     "data": {
      "image/png": "[encoded data removed]",
      "text/plain": [
       "<Figure size 432x288 with 1 Axes>"
      ]
     },
     "metadata": {
      "needs_background": "light"
     },
     "output_type": "display_data"
    },
    {
     "name": "stderr",
     "output_type": "stream",
     "text": [
      "C:\\ProgramData\\Anaconda3\\lib\\site-packages\\seaborn\\distributions.py:2619: FutureWarning: `distplot` is a deprecated function and will be removed in a future version. Please adapt your code to use either `displot` (a figure-level function with similar flexibility) or `histplot` (an axes-level function for histograms).\n",
      "  warnings.warn(msg, FutureWarning)\n"
     ]
    },
    {
     "data": {
      "image/png": "[encoded data removed]",
      "text/plain": [
       "<Figure size 432x288 with 1 Axes>"
      ]
     },
     "metadata": {
      "needs_background": "light"
     },
     "output_type": "display_data"
    },
    {
     "name": "stderr",
     "output_type": "stream",
     "text": [
      "C:\\ProgramData\\Anaconda3\\lib\\site-packages\\seaborn\\distributions.py:2619: FutureWarning: `distplot` is a deprecated function and will be removed in a future version. Please adapt your code to use either `displot` (a figure-level function with similar flexibility) or `histplot` (an axes-level function for histograms).\n",
      "  warnings.warn(msg, FutureWarning)\n"
     ]
    },
    {
     "data": {
      "image/png": "[encoded data removed]",
      "text/plain": [
       "<Figure size 432x288 with 1 Axes>"
      ]
     },
     "metadata": {
      "needs_background": "light"
     },
     "output_type": "display_data"
    },
    {
     "name": "stderr",
     "output_type": "stream",
     "text": [
      "C:\\ProgramData\\Anaconda3\\lib\\site-packages\\seaborn\\distributions.py:2619: FutureWarning: `distplot` is a deprecated function and will be removed in a future version. Please adapt your code to use either `displot` (a figure-level function with similar flexibility) or `histplot` (an axes-level function for histograms).\n",
      "  warnings.warn(msg, FutureWarning)\n"
     ]
    },
    {
     "data": {
      "image/png": "[encoded data removed]",
      "text/plain": [
       "<Figure size 432x288 with 1 Axes>"
      ]
     },
     "metadata": {
      "needs_background": "light"
     },
     "output_type": "display_data"
    },
    {
     "name": "stderr",
     "output_type": "stream",
     "text": [
      "C:\\ProgramData\\Anaconda3\\lib\\site-packages\\seaborn\\distributions.py:2619: FutureWarning: `distplot` is a deprecated function and will be removed in a future version. Please adapt your code to use either `displot` (a figure-level function with similar flexibility) or `histplot` (an axes-level function for histograms).\n",
      "  warnings.warn(msg, FutureWarning)\n"
     ]
    },
    {
     "data": {
      "image/png": "[encoded data removed]",
      "text/plain": [
       "<Figure size 432x288 with 1 Axes>"
      ]
     },
     "metadata": {
      "needs_background": "light"
     },
     "output_type": "display_data"
    },
    {
     "name": "stderr",
     "output_type": "stream",
     "text": [
      "C:\\ProgramData\\Anaconda3\\lib\\site-packages\\seaborn\\distributions.py:2619: FutureWarning: `distplot` is a deprecated function and will be removed in a future version. Please adapt your code to use either `displot` (a figure-level function with similar flexibility) or `histplot` (an axes-level function for histograms).\n",
      "  warnings.warn(msg, FutureWarning)\n"
     ]
    },
    {
     "data": {
      "image/png": "[encoded data removed]",
      "text/plain": [
       "<Figure size 432x288 with 1 Axes>"
      ]
     },
     "metadata": {
      "needs_background": "light"
     },
     "output_type": "display_data"
    },
    {
     "name": "stderr",
     "output_type": "stream",
     "text": [
      "C:\\ProgramData\\Anaconda3\\lib\\site-packages\\seaborn\\distributions.py:2619: FutureWarning: `distplot` is a deprecated function and will be removed in a future version. Please adapt your code to use either `displot` (a figure-level function with similar flexibility) or `histplot` (an axes-level function for histograms).\n",
      "  warnings.warn(msg, FutureWarning)\n"
     ]
    },
    {
     "data": {
      "image/png": "[encoded data removed]",
      "text/plain": [
       "<Figure size 432x288 with 1 Axes>"
      ]
     },
     "metadata": {
      "needs_background": "light"
     },
     "output_type": "display_data"
    },
    {
     "name": "stderr",
     "output_type": "stream",
     "text": [
      "C:\\ProgramData\\Anaconda3\\lib\\site-packages\\seaborn\\distributions.py:2619: FutureWarning: `distplot` is a deprecated function and will be removed in a future version. Please adapt your code to use either `displot` (a figure-level function with similar flexibility) or `histplot` (an axes-level function for histograms).\n",
      "  warnings.warn(msg, FutureWarning)\n"
     ]
    },
    {
     "data": {
      "image/png": "[encoded data removed]",
      "text/plain": [
       "<Figure size 432x288 with 1 Axes>"
      ]
     },
     "metadata": {
      "needs_background": "light"
     },
     "output_type": "display_data"
    }
   ],
   "source": [
    "# chking distribution\n",
    "\n",
    "plt.figure(figsize=(20,15),facecolor=\"red\")\n",
    "plotnumber=1\n",
    "for column in df:\n",
    "    if plotnumber<=912:\n",
    "        ax=plt.subplot(3,4,plotnumber)\n",
    "    sns.distplot(df[column])\n",
    "    plt.xlabel(column,fontsize=20)\n",
    "    plotnumber+=1\n",
    "    plt.tight_layout()\n",
    "    plt.show()"
   ]
  },
  {
   "cell_type": "code",
   "execution_count": 9,
   "id": "3a33c865",
   "metadata": {},
   "outputs": [],
   "source": [
    "# chking corr.\n",
    "corr=df.corr()"
   ]
  },
  {
   "cell_type": "code",
   "execution_count": 10,
   "id": "317b4f47",
   "metadata": {},
   "outputs": [
    {
     "data": {
      "text/html": [
       "<div>\n",
       "<style scoped>\n",
       "    .dataframe tbody tr th:only-of-type {\n",
       "        vertical-align: middle;\n",
       "    }\n",
       "\n",
       "    .dataframe tbody tr th {\n",
       "        vertical-align: top;\n",
       "    }\n",
       "\n",
       "    .dataframe thead th {\n",
       "        text-align: right;\n",
       "    }\n",
       "</style>\n",
       "<table border=\"1\" class=\"dataframe\">\n",
       "  <thead>\n",
       "    <tr style=\"text-align: right;\">\n",
       "      <th></th>\n",
       "      <th>id</th>\n",
       "      <th>RI</th>\n",
       "      <th>Na</th>\n",
       "      <th>Mg</th>\n",
       "      <th>Al</th>\n",
       "      <th>Si</th>\n",
       "      <th>K</th>\n",
       "      <th>Ca</th>\n",
       "      <th>Ba</th>\n",
       "      <th>Fe</th>\n",
       "      <th>glass_type</th>\n",
       "    </tr>\n",
       "  </thead>\n",
       "  <tbody>\n",
       "    <tr>\n",
       "      <th>id</th>\n",
       "      <td>1.000000</td>\n",
       "      <td>-0.065721</td>\n",
       "      <td>0.380767</td>\n",
       "      <td>-0.647082</td>\n",
       "      <td>0.488475</td>\n",
       "      <td>0.052634</td>\n",
       "      <td>-0.002306</td>\n",
       "      <td>0.090257</td>\n",
       "      <td>0.451437</td>\n",
       "      <td>-0.078151</td>\n",
       "      <td>0.878113</td>\n",
       "    </tr>\n",
       "    <tr>\n",
       "      <th>RI</th>\n",
       "      <td>-0.065721</td>\n",
       "      <td>1.000000</td>\n",
       "      <td>-0.193436</td>\n",
       "      <td>-0.128118</td>\n",
       "      <td>-0.405671</td>\n",
       "      <td>-0.540010</td>\n",
       "      <td>-0.287900</td>\n",
       "      <td>0.812495</td>\n",
       "      <td>0.001062</td>\n",
       "      <td>0.145791</td>\n",
       "      <td>-0.161322</td>\n",
       "    </tr>\n",
       "    <tr>\n",
       "      <th>Na</th>\n",
       "      <td>0.380767</td>\n",
       "      <td>-0.193436</td>\n",
       "      <td>1.000000</td>\n",
       "      <td>-0.276486</td>\n",
       "      <td>0.157928</td>\n",
       "      <td>-0.068519</td>\n",
       "      <td>-0.265520</td>\n",
       "      <td>-0.275314</td>\n",
       "      <td>0.327233</td>\n",
       "      <td>-0.240802</td>\n",
       "      <td>0.504983</td>\n",
       "    </tr>\n",
       "    <tr>\n",
       "      <th>Mg</th>\n",
       "      <td>-0.647082</td>\n",
       "      <td>-0.128118</td>\n",
       "      <td>-0.276486</td>\n",
       "      <td>1.000000</td>\n",
       "      <td>-0.480035</td>\n",
       "      <td>-0.160359</td>\n",
       "      <td>0.009397</td>\n",
       "      <td>-0.444559</td>\n",
       "      <td>-0.492149</td>\n",
       "      <td>0.086906</td>\n",
       "      <td>-0.744004</td>\n",
       "    </tr>\n",
       "    <tr>\n",
       "      <th>Al</th>\n",
       "      <td>0.488475</td>\n",
       "      <td>-0.405671</td>\n",
       "      <td>0.157928</td>\n",
       "      <td>-0.480035</td>\n",
       "      <td>1.000000</td>\n",
       "      <td>-0.009226</td>\n",
       "      <td>0.324484</td>\n",
       "      <td>-0.260372</td>\n",
       "      <td>0.478936</td>\n",
       "      <td>-0.076456</td>\n",
       "      <td>0.597754</td>\n",
       "    </tr>\n",
       "    <tr>\n",
       "      <th>Si</th>\n",
       "      <td>0.052634</td>\n",
       "      <td>-0.540010</td>\n",
       "      <td>-0.068519</td>\n",
       "      <td>-0.160359</td>\n",
       "      <td>-0.009226</td>\n",
       "      <td>1.000000</td>\n",
       "      <td>-0.197684</td>\n",
       "      <td>-0.210141</td>\n",
       "      <td>-0.104361</td>\n",
       "      <td>-0.097674</td>\n",
       "      <td>0.147767</td>\n",
       "    </tr>\n",
       "    <tr>\n",
       "      <th>K</th>\n",
       "      <td>-0.002306</td>\n",
       "      <td>-0.287900</td>\n",
       "      <td>-0.265520</td>\n",
       "      <td>0.009397</td>\n",
       "      <td>0.324484</td>\n",
       "      <td>-0.197684</td>\n",
       "      <td>1.000000</td>\n",
       "      <td>-0.318649</td>\n",
       "      <td>-0.043790</td>\n",
       "      <td>-0.009586</td>\n",
       "      <td>-0.012765</td>\n",
       "    </tr>\n",
       "    <tr>\n",
       "      <th>Ca</th>\n",
       "      <td>0.090257</td>\n",
       "      <td>0.812495</td>\n",
       "      <td>-0.275314</td>\n",
       "      <td>-0.444559</td>\n",
       "      <td>-0.260372</td>\n",
       "      <td>-0.210141</td>\n",
       "      <td>-0.318649</td>\n",
       "      <td>1.000000</td>\n",
       "      <td>-0.113121</td>\n",
       "      <td>0.124674</td>\n",
       "      <td>0.000372</td>\n",
       "    </tr>\n",
       "    <tr>\n",
       "      <th>Ba</th>\n",
       "      <td>0.451437</td>\n",
       "      <td>0.001062</td>\n",
       "      <td>0.327233</td>\n",
       "      <td>-0.492149</td>\n",
       "      <td>0.478936</td>\n",
       "      <td>-0.104361</td>\n",
       "      <td>-0.043790</td>\n",
       "      <td>-0.113121</td>\n",
       "      <td>1.000000</td>\n",
       "      <td>-0.059729</td>\n",
       "      <td>0.574896</td>\n",
       "    </tr>\n",
       "    <tr>\n",
       "      <th>Fe</th>\n",
       "      <td>-0.078151</td>\n",
       "      <td>0.145791</td>\n",
       "      <td>-0.240802</td>\n",
       "      <td>0.086906</td>\n",
       "      <td>-0.076456</td>\n",
       "      <td>-0.097674</td>\n",
       "      <td>-0.009586</td>\n",
       "      <td>0.124674</td>\n",
       "      <td>-0.059729</td>\n",
       "      <td>1.000000</td>\n",
       "      <td>-0.191090</td>\n",
       "    </tr>\n",
       "    <tr>\n",
       "      <th>glass_type</th>\n",
       "      <td>0.878113</td>\n",
       "      <td>-0.161322</td>\n",
       "      <td>0.504983</td>\n",
       "      <td>-0.744004</td>\n",
       "      <td>0.597754</td>\n",
       "      <td>0.147767</td>\n",
       "      <td>-0.012765</td>\n",
       "      <td>0.000372</td>\n",
       "      <td>0.574896</td>\n",
       "      <td>-0.191090</td>\n",
       "      <td>1.000000</td>\n",
       "    </tr>\n",
       "  </tbody>\n",
       "</table>\n",
       "</div>"
      ],
      "text/plain": [
       "                  id        RI        Na        Mg        Al        Si  \\\n",
       "id          1.000000 -0.065721  0.380767 -0.647082  0.488475  0.052634   \n",
       "RI         -0.065721  1.000000 -0.193436 -0.128118 -0.405671 -0.540010   \n",
       "Na          0.380767 -0.193436  1.000000 -0.276486  0.157928 -0.068519   \n",
       "Mg         -0.647082 -0.128118 -0.276486  1.000000 -0.480035 -0.160359   \n",
       "Al          0.488475 -0.405671  0.157928 -0.480035  1.000000 -0.009226   \n",
       "Si          0.052634 -0.540010 -0.068519 -0.160359 -0.009226  1.000000   \n",
       "K          -0.002306 -0.287900 -0.265520  0.009397  0.324484 -0.197684   \n",
       "Ca          0.090257  0.812495 -0.275314 -0.444559 -0.260372 -0.210141   \n",
       "Ba          0.451437  0.001062  0.327233 -0.492149  0.478936 -0.104361   \n",
       "Fe         -0.078151  0.145791 -0.240802  0.086906 -0.076456 -0.097674   \n",
       "glass_type  0.878113 -0.161322  0.504983 -0.744004  0.597754  0.147767   \n",
       "\n",
       "                   K        Ca        Ba        Fe  glass_type  \n",
       "id         -0.002306  0.090257  0.451437 -0.078151    0.878113  \n",
       "RI         -0.287900  0.812495  0.001062  0.145791   -0.161322  \n",
       "Na         -0.265520 -0.275314  0.327233 -0.240802    0.504983  \n",
       "Mg          0.009397 -0.444559 -0.492149  0.086906   -0.744004  \n",
       "Al          0.324484 -0.260372  0.478936 -0.076456    0.597754  \n",
       "Si         -0.197684 -0.210141 -0.104361 -0.097674    0.147767  \n",
       "K           1.000000 -0.318649 -0.043790 -0.009586   -0.012765  \n",
       "Ca         -0.318649  1.000000 -0.113121  0.124674    0.000372  \n",
       "Ba         -0.043790 -0.113121  1.000000 -0.059729    0.574896  \n",
       "Fe         -0.009586  0.124674 -0.059729  1.000000   -0.191090  \n",
       "glass_type -0.012765  0.000372  0.574896 -0.191090    1.000000  "
      ]
     },
     "execution_count": 10,
     "metadata": {},
     "output_type": "execute_result"
    }
   ],
   "source": [
    "corr"
   ]
  },
  {
   "cell_type": "code",
   "execution_count": 11,
   "id": "01871295",
   "metadata": {},
   "outputs": [
    {
     "data": {
      "image/png": "[encoded data removed]",
      "text/plain": [
       "<Figure size 432x288 with 2 Axes>"
      ]
     },
     "metadata": {
      "needs_background": "light"
     },
     "output_type": "display_data"
    }
   ],
   "source": [
    "sns.heatmap(df.corr(), annot=True)\n",
    "plt.show()"
   ]
  },
  {
   "cell_type": "code",
   "execution_count": 14,
   "id": "827f5c7b",
   "metadata": {},
   "outputs": [],
   "source": [
    "y=df[\"glass_type\"]\n",
    "x=df.drop(columns=[\"glass_type\"])"
   ]
  },
  {
   "cell_type": "code",
   "execution_count": 15,
   "id": "428c5d0a",
   "metadata": {},
   "outputs": [],
   "source": [
    "from sklearn.preprocessing import StandardScaler"
   ]
  },
  {
   "cell_type": "code",
   "execution_count": 16,
   "id": "1aa4fe4b",
   "metadata": {},
   "outputs": [
    {
     "data": {
      "text/plain": [
       "array([[-1.72393811, -0.2451006 ,  0.59188032, ..., -0.79259935,\n",
       "        -0.35380764, -0.58830108],\n",
       "       [-1.70767455, -0.71682556,  0.15094587, ..., -0.82773435,\n",
       "        -0.35380764, -0.58830108],\n",
       "       [-1.69141098, -0.22860672, -0.24099586, ..., -0.51854637,\n",
       "        -0.35380764, -0.58830108],\n",
       "       ...,\n",
       "       [ 1.69141098,  0.75772729,  1.16754474, ..., -0.36395239,\n",
       "         2.94550057, -0.58830108],\n",
       "       [ 1.70767455, -0.60796596,  1.19204109, ..., -0.33584439,\n",
       "         2.80467644, -0.58830108],\n",
       "       [ 1.72393811, -0.4100394 ,  1.00831841, ..., -0.2374664 ,\n",
       "         3.00585377, -0.58830108]])"
      ]
     },
     "execution_count": 16,
     "metadata": {},
     "output_type": "execute_result"
    }
   ],
   "source": [
    "scaler=StandardScaler()\n",
    "X_scaled=scaler.fit_transform(x)\n",
    "X_scaled"
   ]
  },
  {
   "cell_type": "code",
   "execution_count": 18,
   "id": "ca1cdc9b",
   "metadata": {},
   "outputs": [],
   "source": [
    "from sklearn.model_selection import train_test_split"
   ]
  },
  {
   "cell_type": "code",
   "execution_count": 19,
   "id": "25a696ed",
   "metadata": {},
   "outputs": [
    {
     "data": {
      "text/plain": [
       "15     1\n",
       "208    7\n",
       "200    7\n",
       "190    7\n",
       "18     1\n",
       "Name: glass_type, dtype: int64"
      ]
     },
     "execution_count": 19,
     "metadata": {},
     "output_type": "execute_result"
    }
   ],
   "source": [
    "x_train,x_test,y_train,y_test=train_test_split(X_scaled,y,test_size=0.25,random_state=49)\n",
    "y_train.head()"
   ]
  },
  {
   "cell_type": "code",
   "execution_count": 34,
   "id": "16ea7910",
   "metadata": {},
   "outputs": [],
   "source": [
    "from sklearn.naive_bayes import GaussianNB"
   ]
  },
  {
   "cell_type": "code",
   "execution_count": 35,
   "id": "890566d7",
   "metadata": {},
   "outputs": [],
   "source": [
    "from sklearn.metrics import accuracy_score,confusion_matrix,classification_report"
   ]
  },
  {
   "cell_type": "code",
   "execution_count": 36,
   "id": "26b15372",
   "metadata": {},
   "outputs": [],
   "source": [
    "gnb=GaussianNB()"
   ]
  },
  {
   "cell_type": "code",
   "execution_count": 37,
   "id": "51f65091",
   "metadata": {},
   "outputs": [
    {
     "data": {
      "text/plain": [
       "GaussianNB()"
      ]
     },
     "execution_count": 37,
     "metadata": {},
     "output_type": "execute_result"
    }
   ],
   "source": [
    "gnb.fit(x_train,y_train)"
   ]
  },
  {
   "cell_type": "code",
   "execution_count": 39,
   "id": "bccaa2a0",
   "metadata": {},
   "outputs": [
    {
     "data": {
      "text/plain": [
       "array([1, 3, 2, 1, 1, 3, 3, 3, 2, 7, 2, 2, 1, 7, 1, 3, 1, 1, 1, 1, 7, 2,\n",
       "       5, 1, 2, 7, 1, 7, 7, 1, 1, 2, 1, 3, 1, 3, 2, 1, 6, 1, 1, 1, 1, 2,\n",
       "       1, 1, 1, 2, 2, 2, 3, 1, 2, 1], dtype=int64)"
      ]
     },
     "execution_count": 39,
     "metadata": {},
     "output_type": "execute_result"
    }
   ],
   "source": [
    "pred_gnb=gnb.predict(x_test)\n",
    "pred_gnb"
   ]
  },
  {
   "cell_type": "code",
   "execution_count": 40,
   "id": "df0d24ec",
   "metadata": {},
   "outputs": [
    {
     "data": {
      "text/plain": [
       "0.7592592592592593"
      ]
     },
     "execution_count": 40,
     "metadata": {},
     "output_type": "execute_result"
    }
   ],
   "source": [
    "accuracy_score(y_test,pred_gnb)"
   ]
  },
  {
   "cell_type": "code",
   "execution_count": 42,
   "id": "df8cabaf",
   "metadata": {},
   "outputs": [
    {
     "name": "stdout",
     "output_type": "stream",
     "text": [
      "[[19  0  0  0  0  0]\n",
      " [ 6 10  2  0  0  0]\n",
      " [ 0  0  6  0  0  0]\n",
      " [ 0  2  0  1  0  0]\n",
      " [ 0  0  0  0  1  2]\n",
      " [ 0  1  0  0  0  4]]\n"
     ]
    }
   ],
   "source": [
    "print(confusion_matrix(y_test,pred_gnb))"
   ]
  },
  {
   "cell_type": "code",
   "execution_count": 44,
   "id": "a9d42330",
   "metadata": {},
   "outputs": [
    {
     "name": "stdout",
     "output_type": "stream",
     "text": [
      "              precision    recall  f1-score   support\n",
      "\n",
      "           1       0.76      1.00      0.86        19\n",
      "           2       0.77      0.56      0.65        18\n",
      "           3       0.75      1.00      0.86         6\n",
      "           5       1.00      0.33      0.50         3\n",
      "           6       1.00      0.33      0.50         3\n",
      "           7       0.67      0.80      0.73         5\n",
      "\n",
      "    accuracy                           0.76        54\n",
      "   macro avg       0.82      0.67      0.68        54\n",
      "weighted avg       0.78      0.76      0.74        54\n",
      "\n"
     ]
    }
   ],
   "source": [
    "print(classification_report(y_test,pred_gnb))"
   ]
  },
  {
   "cell_type": "code",
   "execution_count": 51,
   "id": "5861ee03",
   "metadata": {},
   "outputs": [],
   "source": [
    "from sklearn.neighbors import KNeighborsClassifier"
   ]
  },
  {
   "cell_type": "code",
   "execution_count": 53,
   "id": "e71c1d1c",
   "metadata": {},
   "outputs": [],
   "source": [
    "knn=KNeighborsClassifier()"
   ]
  },
  {
   "cell_type": "code",
   "execution_count": 54,
   "id": "eee54359",
   "metadata": {},
   "outputs": [
    {
     "data": {
      "text/plain": [
       "KNeighborsClassifier()"
      ]
     },
     "execution_count": 54,
     "metadata": {},
     "output_type": "execute_result"
    }
   ],
   "source": [
    "knn.fit(x_train,y_train)"
   ]
  },
  {
   "cell_type": "code",
   "execution_count": 55,
   "id": "8820da59",
   "metadata": {},
   "outputs": [
    {
     "data": {
      "text/plain": [
       "array([1, 3, 2, 1, 2, 2, 2, 2, 2, 7, 2, 5, 1, 7, 1, 2, 1, 1, 1, 1, 7, 5,\n",
       "       5, 1, 2, 7, 2, 7, 7, 2, 1, 5, 1, 2, 1, 3, 5, 2, 6, 2, 1, 1, 2, 2,\n",
       "       1, 1, 1, 2, 2, 2, 2, 1, 2, 1], dtype=int64)"
      ]
     },
     "execution_count": 55,
     "metadata": {},
     "output_type": "execute_result"
    }
   ],
   "source": [
    "predknn=knn.predict(x_test)\n",
    "predknn"
   ]
  },
  {
   "cell_type": "code",
   "execution_count": 56,
   "id": "df196d97",
   "metadata": {},
   "outputs": [
    {
     "data": {
      "text/plain": [
       "0.8333333333333334"
      ]
     },
     "execution_count": 56,
     "metadata": {},
     "output_type": "execute_result"
    }
   ],
   "source": [
    "accuracy_score(y_test,predknn)"
   ]
  },
  {
   "cell_type": "code",
   "execution_count": 57,
   "id": "66d21d8c",
   "metadata": {},
   "outputs": [
    {
     "name": "stdout",
     "output_type": "stream",
     "text": [
      "[[19  0  0  0  0  0]\n",
      " [ 0 16  0  2  0  0]\n",
      " [ 0  4  2  0  0  0]\n",
      " [ 0  0  0  3  0  0]\n",
      " [ 0  0  0  0  1  2]\n",
      " [ 0  1  0  0  0  4]]\n"
     ]
    }
   ],
   "source": [
    "print(confusion_matrix(y_test,predknn))"
   ]
  },
  {
   "cell_type": "code",
   "execution_count": 58,
   "id": "38891e10",
   "metadata": {},
   "outputs": [
    {
     "name": "stdout",
     "output_type": "stream",
     "text": [
      "              precision    recall  f1-score   support\n",
      "\n",
      "           1       1.00      1.00      1.00        19\n",
      "           2       0.76      0.89      0.82        18\n",
      "           3       1.00      0.33      0.50         6\n",
      "           5       0.60      1.00      0.75         3\n",
      "           6       1.00      0.33      0.50         3\n",
      "           7       0.67      0.80      0.73         5\n",
      "\n",
      "    accuracy                           0.83        54\n",
      "   macro avg       0.84      0.73      0.72        54\n",
      "weighted avg       0.87      0.83      0.82        54\n",
      "\n"
     ]
    }
   ],
   "source": [
    "print(classification_report(y_test,predknn))"
   ]
  },
  {
   "cell_type": "code",
   "execution_count": 59,
   "id": "9959baf5",
   "metadata": {},
   "outputs": [],
   "source": [
    "from sklearn.tree import DecisionTreeClassifier"
   ]
  },
  {
   "cell_type": "code",
   "execution_count": 60,
   "id": "9f8e03c4",
   "metadata": {},
   "outputs": [],
   "source": [
    "dtc=DecisionTreeClassifier()"
   ]
  },
  {
   "cell_type": "code",
   "execution_count": 61,
   "id": "07ab973f",
   "metadata": {},
   "outputs": [
    {
     "data": {
      "text/plain": [
       "DecisionTreeClassifier()"
      ]
     },
     "execution_count": 61,
     "metadata": {},
     "output_type": "execute_result"
    }
   ],
   "source": [
    "dtc.fit(x_train,y_train)"
   ]
  },
  {
   "cell_type": "code",
   "execution_count": 62,
   "id": "1e875662",
   "metadata": {},
   "outputs": [
    {
     "data": {
      "text/plain": [
       "array([1, 3, 2, 1, 2, 2, 3, 2, 2, 7, 2, 5, 1, 6, 1, 3, 1, 1, 1, 1, 7, 5,\n",
       "       5, 1, 2, 7, 2, 6, 7, 2, 1, 2, 1, 3, 1, 3, 2, 2, 6, 2, 1, 1, 2, 2,\n",
       "       2, 1, 1, 2, 2, 7, 3, 1, 2, 1], dtype=int64)"
      ]
     },
     "execution_count": 62,
     "metadata": {},
     "output_type": "execute_result"
    }
   ],
   "source": [
    "preddtc=dtc.predict(x_test)\n",
    "preddtc"
   ]
  },
  {
   "cell_type": "code",
   "execution_count": 63,
   "id": "bbb38f8a",
   "metadata": {},
   "outputs": [
    {
     "data": {
      "text/plain": [
       "0.9814814814814815"
      ]
     },
     "execution_count": 63,
     "metadata": {},
     "output_type": "execute_result"
    }
   ],
   "source": [
    "accuracy_score(y_test,preddtc)"
   ]
  },
  {
   "cell_type": "code",
   "execution_count": 64,
   "id": "61297f7b",
   "metadata": {},
   "outputs": [
    {
     "name": "stdout",
     "output_type": "stream",
     "text": [
      "[[18  1  0  0  0  0]\n",
      " [ 0 18  0  0  0  0]\n",
      " [ 0  0  6  0  0  0]\n",
      " [ 0  0  0  3  0  0]\n",
      " [ 0  0  0  0  3  0]\n",
      " [ 0  0  0  0  0  5]]\n"
     ]
    }
   ],
   "source": [
    "print(confusion_matrix(y_test,preddtc))"
   ]
  },
  {
   "cell_type": "code",
   "execution_count": 65,
   "id": "d9eb7853",
   "metadata": {},
   "outputs": [
    {
     "name": "stdout",
     "output_type": "stream",
     "text": [
      "              precision    recall  f1-score   support\n",
      "\n",
      "           1       1.00      0.95      0.97        19\n",
      "           2       0.95      1.00      0.97        18\n",
      "           3       1.00      1.00      1.00         6\n",
      "           5       1.00      1.00      1.00         3\n",
      "           6       1.00      1.00      1.00         3\n",
      "           7       1.00      1.00      1.00         5\n",
      "\n",
      "    accuracy                           0.98        54\n",
      "   macro avg       0.99      0.99      0.99        54\n",
      "weighted avg       0.98      0.98      0.98        54\n",
      "\n"
     ]
    }
   ],
   "source": [
    "print(classification_report(y_test,preddtc))"
   ]
  },
  {
   "cell_type": "code",
   "execution_count": 69,
   "id": "0b2ebac3",
   "metadata": {},
   "outputs": [],
   "source": [
    "from sklearn.svm import SVC"
   ]
  },
  {
   "cell_type": "code",
   "execution_count": 70,
   "id": "56506802",
   "metadata": {},
   "outputs": [],
   "source": [
    "sv=SVC()"
   ]
  },
  {
   "cell_type": "code",
   "execution_count": 71,
   "id": "e1f6df40",
   "metadata": {},
   "outputs": [
    {
     "data": {
      "text/plain": [
       "SVC()"
      ]
     },
     "execution_count": 71,
     "metadata": {},
     "output_type": "execute_result"
    }
   ],
   "source": [
    "sv.fit(x_train,y_train)"
   ]
  },
  {
   "cell_type": "code",
   "execution_count": 72,
   "id": "5b65fa09",
   "metadata": {},
   "outputs": [
    {
     "data": {
      "text/plain": [
       "array([1, 2, 2, 1, 2, 2, 2, 2, 2, 7, 2, 5, 1, 2, 1, 2, 1, 1, 1, 1, 7, 5,\n",
       "       5, 2, 2, 7, 2, 7, 7, 2, 1, 2, 1, 2, 1, 2, 2, 2, 6, 2, 1, 1, 2, 2,\n",
       "       1, 1, 1, 2, 2, 2, 2, 1, 2, 1], dtype=int64)"
      ]
     },
     "execution_count": 72,
     "metadata": {},
     "output_type": "execute_result"
    }
   ],
   "source": [
    "predsv=sv.predict(x_test)\n",
    "predsv"
   ]
  },
  {
   "cell_type": "code",
   "execution_count": 73,
   "id": "7eacf911",
   "metadata": {},
   "outputs": [
    {
     "data": {
      "text/plain": [
       "0.8148148148148148"
      ]
     },
     "execution_count": 73,
     "metadata": {},
     "output_type": "execute_result"
    }
   ],
   "source": [
    "accuracy_score(y_test,predsv)"
   ]
  },
  {
   "cell_type": "code",
   "execution_count": 74,
   "id": "a21279a6",
   "metadata": {},
   "outputs": [
    {
     "name": "stdout",
     "output_type": "stream",
     "text": [
      "              precision    recall  f1-score   support\n",
      "\n",
      "           1       1.00      0.95      0.97        19\n",
      "           2       0.67      1.00      0.80        18\n",
      "           3       0.00      0.00      0.00         6\n",
      "           5       1.00      1.00      1.00         3\n",
      "           6       1.00      0.33      0.50         3\n",
      "           7       0.80      0.80      0.80         5\n",
      "\n",
      "    accuracy                           0.81        54\n",
      "   macro avg       0.74      0.68      0.68        54\n",
      "weighted avg       0.76      0.81      0.77        54\n",
      "\n"
     ]
    },
    {
     "name": "stderr",
     "output_type": "stream",
     "text": [
      "C:\\ProgramData\\Anaconda3\\lib\\site-packages\\sklearn\\metrics\\_classification.py:1248: UndefinedMetricWarning: Precision and F-score are ill-defined and being set to 0.0 in labels with no predicted samples. Use `zero_division` parameter to control this behavior.\n",
      "  _warn_prf(average, modifier, msg_start, len(result))\n",
      "C:\\ProgramData\\Anaconda3\\lib\\site-packages\\sklearn\\metrics\\_classification.py:1248: UndefinedMetricWarning: Precision and F-score are ill-defined and being set to 0.0 in labels with no predicted samples. Use `zero_division` parameter to control this behavior.\n",
      "  _warn_prf(average, modifier, msg_start, len(result))\n",
      "C:\\ProgramData\\Anaconda3\\lib\\site-packages\\sklearn\\metrics\\_classification.py:1248: UndefinedMetricWarning: Precision and F-score are ill-defined and being set to 0.0 in labels with no predicted samples. Use `zero_division` parameter to control this behavior.\n",
      "  _warn_prf(average, modifier, msg_start, len(result))\n"
     ]
    }
   ],
   "source": [
    "print(classification_report(y_test,predsv))"
   ]
  },
  {
   "cell_type": "code",
   "execution_count": null,
   "id": "b54a5462",
   "metadata": {},
   "outputs": [],
   "source": [
    "# Hence we can use Decision Tree Classifier .\n",
    "Accuracy Score for DTC Is 98%"
   ]
  },
  {
   "cell_type": "code",
   "execution_count": 75,
   "id": "d0082fd6",
   "metadata": {},
   "outputs": [],
   "source": [
    "import pickle"
   ]
  },
  {
   "cell_type": "code",
   "execution_count": 78,
   "id": "1d542567",
   "metadata": {},
   "outputs": [],
   "source": [
    "filename='glasspred_file.pkl'\n",
    "pickle.dump('glasspred',open(filename,'wb'))"
   ]
  },
  {
   "cell_type": "code",
   "execution_count": null,
   "id": "b4509445",
   "metadata": {},
   "outputs": [],
   "source": []
  }
 ],
 "metadata": {
  "kernelspec": {
   "display_name": "Python 3 (ipykernel)",
   "language": "python",
   "name": "python3"
  },
  "language_info": {
   "codemirror_mode": {
    "name": "ipython",
    "version": 3
   },
   "file_extension": ".py",
   "mimetype": "text/x-python",
   "name": "python",
   "nbconvert_exporter": "python",
   "pygments_lexer": "ipython3",
   "version": "3.9.7"
  }
 },
 "nbformat": 4,
 "nbformat_minor": 5
}
