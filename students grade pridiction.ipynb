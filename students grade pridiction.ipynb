{
 "cells": [
  {
   "cell_type": "code",
   "execution_count": 80,
   "id": "19bbedd2",
   "metadata": {},
   "outputs": [],
   "source": [
    "import numpy as np\n",
    "import pandas as pd\n",
    "from sklearn import metrics\n",
    "import seaborn as sns\n",
    "\n",
    "import matplotlib.pyplot as plt\n",
    "%matplotlib inline\n"
   ]
  },
  {
   "cell_type": "code",
   "execution_count": 81,
   "id": "a1aaf179",
   "metadata": {},
   "outputs": [],
   "source": [
    "df=pd.read_csv(\"https://raw.githubusercontent.com/dsrscientist/dataset4/main/Grades.csv\")"
   ]
  },
  {
   "cell_type": "code",
   "execution_count": 82,
   "id": "6eead43b",
   "metadata": {},
   "outputs": [
    {
     "data": {
      "text/html": [
       "<div>\n",
       "<style scoped>\n",
       "    .dataframe tbody tr th:only-of-type {\n",
       "        vertical-align: middle;\n",
       "    }\n",
       "\n",
       "    .dataframe tbody tr th {\n",
       "        vertical-align: top;\n",
       "    }\n",
       "\n",
       "    .dataframe thead th {\n",
       "        text-align: right;\n",
       "    }\n",
       "</style>\n",
       "<table border=\"1\" class=\"dataframe\">\n",
       "  <thead>\n",
       "    <tr style=\"text-align: right;\">\n",
       "      <th></th>\n",
       "      <th>Seat No.</th>\n",
       "      <th>PH-121</th>\n",
       "      <th>HS-101</th>\n",
       "      <th>CY-105</th>\n",
       "      <th>HS-105/12</th>\n",
       "      <th>MT-111</th>\n",
       "      <th>CS-105</th>\n",
       "      <th>CS-106</th>\n",
       "      <th>EL-102</th>\n",
       "      <th>EE-119</th>\n",
       "      <th>...</th>\n",
       "      <th>CS-312</th>\n",
       "      <th>CS-317</th>\n",
       "      <th>CS-403</th>\n",
       "      <th>CS-421</th>\n",
       "      <th>CS-406</th>\n",
       "      <th>CS-414</th>\n",
       "      <th>CS-419</th>\n",
       "      <th>CS-423</th>\n",
       "      <th>CS-412</th>\n",
       "      <th>CGPA</th>\n",
       "    </tr>\n",
       "  </thead>\n",
       "  <tbody>\n",
       "    <tr>\n",
       "      <th>0</th>\n",
       "      <td>CS-97001</td>\n",
       "      <td>B-</td>\n",
       "      <td>D+</td>\n",
       "      <td>C-</td>\n",
       "      <td>C</td>\n",
       "      <td>C-</td>\n",
       "      <td>D+</td>\n",
       "      <td>D</td>\n",
       "      <td>C-</td>\n",
       "      <td>B-</td>\n",
       "      <td>...</td>\n",
       "      <td>C-</td>\n",
       "      <td>C-</td>\n",
       "      <td>C-</td>\n",
       "      <td>C-</td>\n",
       "      <td>A-</td>\n",
       "      <td>A</td>\n",
       "      <td>C-</td>\n",
       "      <td>B</td>\n",
       "      <td>A-</td>\n",
       "      <td>2.205</td>\n",
       "    </tr>\n",
       "    <tr>\n",
       "      <th>1</th>\n",
       "      <td>CS-97002</td>\n",
       "      <td>A</td>\n",
       "      <td>D</td>\n",
       "      <td>D+</td>\n",
       "      <td>D</td>\n",
       "      <td>B-</td>\n",
       "      <td>C</td>\n",
       "      <td>D</td>\n",
       "      <td>A</td>\n",
       "      <td>D+</td>\n",
       "      <td>...</td>\n",
       "      <td>D+</td>\n",
       "      <td>D</td>\n",
       "      <td>C</td>\n",
       "      <td>D</td>\n",
       "      <td>A-</td>\n",
       "      <td>B-</td>\n",
       "      <td>C</td>\n",
       "      <td>C</td>\n",
       "      <td>B</td>\n",
       "      <td>2.008</td>\n",
       "    </tr>\n",
       "    <tr>\n",
       "      <th>2</th>\n",
       "      <td>CS-97003</td>\n",
       "      <td>A</td>\n",
       "      <td>B</td>\n",
       "      <td>A</td>\n",
       "      <td>B-</td>\n",
       "      <td>B+</td>\n",
       "      <td>A</td>\n",
       "      <td>B-</td>\n",
       "      <td>B+</td>\n",
       "      <td>A-</td>\n",
       "      <td>...</td>\n",
       "      <td>B</td>\n",
       "      <td>B</td>\n",
       "      <td>A</td>\n",
       "      <td>C</td>\n",
       "      <td>A</td>\n",
       "      <td>A</td>\n",
       "      <td>A</td>\n",
       "      <td>A-</td>\n",
       "      <td>A</td>\n",
       "      <td>3.608</td>\n",
       "    </tr>\n",
       "    <tr>\n",
       "      <th>3</th>\n",
       "      <td>CS-97004</td>\n",
       "      <td>D</td>\n",
       "      <td>C+</td>\n",
       "      <td>D+</td>\n",
       "      <td>D</td>\n",
       "      <td>D</td>\n",
       "      <td>A-</td>\n",
       "      <td>D+</td>\n",
       "      <td>C-</td>\n",
       "      <td>D</td>\n",
       "      <td>...</td>\n",
       "      <td>D+</td>\n",
       "      <td>C</td>\n",
       "      <td>D+</td>\n",
       "      <td>C-</td>\n",
       "      <td>B-</td>\n",
       "      <td>B</td>\n",
       "      <td>C+</td>\n",
       "      <td>C+</td>\n",
       "      <td>C+</td>\n",
       "      <td>1.906</td>\n",
       "    </tr>\n",
       "    <tr>\n",
       "      <th>4</th>\n",
       "      <td>CS-97005</td>\n",
       "      <td>A-</td>\n",
       "      <td>A-</td>\n",
       "      <td>A-</td>\n",
       "      <td>B+</td>\n",
       "      <td>A</td>\n",
       "      <td>A</td>\n",
       "      <td>A-</td>\n",
       "      <td>B+</td>\n",
       "      <td>A</td>\n",
       "      <td>...</td>\n",
       "      <td>B-</td>\n",
       "      <td>B+</td>\n",
       "      <td>B+</td>\n",
       "      <td>B-</td>\n",
       "      <td>A-</td>\n",
       "      <td>A</td>\n",
       "      <td>A-</td>\n",
       "      <td>A-</td>\n",
       "      <td>A</td>\n",
       "      <td>3.448</td>\n",
       "    </tr>\n",
       "    <tr>\n",
       "      <th>5</th>\n",
       "      <td>CS-97006</td>\n",
       "      <td>A</td>\n",
       "      <td>B-</td>\n",
       "      <td>B</td>\n",
       "      <td>D+</td>\n",
       "      <td>C+</td>\n",
       "      <td>A-</td>\n",
       "      <td>C+</td>\n",
       "      <td>B</td>\n",
       "      <td>B+</td>\n",
       "      <td>...</td>\n",
       "      <td>C</td>\n",
       "      <td>B-</td>\n",
       "      <td>C+</td>\n",
       "      <td>C+</td>\n",
       "      <td>A-</td>\n",
       "      <td>A-</td>\n",
       "      <td>B+</td>\n",
       "      <td>B-</td>\n",
       "      <td>B</td>\n",
       "      <td>3.026</td>\n",
       "    </tr>\n",
       "    <tr>\n",
       "      <th>6</th>\n",
       "      <td>CS-97007</td>\n",
       "      <td>B-</td>\n",
       "      <td>C-</td>\n",
       "      <td>A-</td>\n",
       "      <td>D</td>\n",
       "      <td>A-</td>\n",
       "      <td>B</td>\n",
       "      <td>A</td>\n",
       "      <td>B+</td>\n",
       "      <td>A-</td>\n",
       "      <td>...</td>\n",
       "      <td>B-</td>\n",
       "      <td>C</td>\n",
       "      <td>B+</td>\n",
       "      <td>B-</td>\n",
       "      <td>A</td>\n",
       "      <td>A-</td>\n",
       "      <td>B+</td>\n",
       "      <td>B+</td>\n",
       "      <td>A</td>\n",
       "      <td>2.957</td>\n",
       "    </tr>\n",
       "    <tr>\n",
       "      <th>7</th>\n",
       "      <td>CS-97008</td>\n",
       "      <td>B+</td>\n",
       "      <td>B+</td>\n",
       "      <td>C+</td>\n",
       "      <td>C</td>\n",
       "      <td>C</td>\n",
       "      <td>A-</td>\n",
       "      <td>C-</td>\n",
       "      <td>A-</td>\n",
       "      <td>B</td>\n",
       "      <td>...</td>\n",
       "      <td>D+</td>\n",
       "      <td>B+</td>\n",
       "      <td>B+</td>\n",
       "      <td>C</td>\n",
       "      <td>A</td>\n",
       "      <td>B+</td>\n",
       "      <td>A-</td>\n",
       "      <td>A-</td>\n",
       "      <td>A-</td>\n",
       "      <td>3.043</td>\n",
       "    </tr>\n",
       "    <tr>\n",
       "      <th>8</th>\n",
       "      <td>CS-97009</td>\n",
       "      <td>A-</td>\n",
       "      <td>C</td>\n",
       "      <td>A-</td>\n",
       "      <td>D+</td>\n",
       "      <td>B</td>\n",
       "      <td>A-</td>\n",
       "      <td>A-</td>\n",
       "      <td>A-</td>\n",
       "      <td>B+</td>\n",
       "      <td>...</td>\n",
       "      <td>B+</td>\n",
       "      <td>B</td>\n",
       "      <td>B-</td>\n",
       "      <td>C+</td>\n",
       "      <td>A</td>\n",
       "      <td>A-</td>\n",
       "      <td>B+</td>\n",
       "      <td>A-</td>\n",
       "      <td>A</td>\n",
       "      <td>3.358</td>\n",
       "    </tr>\n",
       "    <tr>\n",
       "      <th>9</th>\n",
       "      <td>CS-97010</td>\n",
       "      <td>A</td>\n",
       "      <td>B</td>\n",
       "      <td>C+</td>\n",
       "      <td>B</td>\n",
       "      <td>B</td>\n",
       "      <td>A-</td>\n",
       "      <td>C</td>\n",
       "      <td>B-</td>\n",
       "      <td>A-</td>\n",
       "      <td>...</td>\n",
       "      <td>C+</td>\n",
       "      <td>B-</td>\n",
       "      <td>B+</td>\n",
       "      <td>B-</td>\n",
       "      <td>A</td>\n",
       "      <td>A</td>\n",
       "      <td>A-</td>\n",
       "      <td>B</td>\n",
       "      <td>A</td>\n",
       "      <td>3.247</td>\n",
       "    </tr>\n",
       "    <tr>\n",
       "      <th>10</th>\n",
       "      <td>CS-97011</td>\n",
       "      <td>A-</td>\n",
       "      <td>B-</td>\n",
       "      <td>B+</td>\n",
       "      <td>C-</td>\n",
       "      <td>C-</td>\n",
       "      <td>B-</td>\n",
       "      <td>C+</td>\n",
       "      <td>B-</td>\n",
       "      <td>A</td>\n",
       "      <td>...</td>\n",
       "      <td>C</td>\n",
       "      <td>B-</td>\n",
       "      <td>C-</td>\n",
       "      <td>C-</td>\n",
       "      <td>B</td>\n",
       "      <td>B+</td>\n",
       "      <td>B-</td>\n",
       "      <td>C-</td>\n",
       "      <td>B+</td>\n",
       "      <td>2.681</td>\n",
       "    </tr>\n",
       "    <tr>\n",
       "      <th>11</th>\n",
       "      <td>CS-97012</td>\n",
       "      <td>A-</td>\n",
       "      <td>C</td>\n",
       "      <td>A-</td>\n",
       "      <td>C+</td>\n",
       "      <td>C-</td>\n",
       "      <td>A</td>\n",
       "      <td>B-</td>\n",
       "      <td>B+</td>\n",
       "      <td>A-</td>\n",
       "      <td>...</td>\n",
       "      <td>A-</td>\n",
       "      <td>B-</td>\n",
       "      <td>B+</td>\n",
       "      <td>C</td>\n",
       "      <td>A</td>\n",
       "      <td>A-</td>\n",
       "      <td>B-</td>\n",
       "      <td>C+</td>\n",
       "      <td>A-</td>\n",
       "      <td>3.281</td>\n",
       "    </tr>\n",
       "  </tbody>\n",
       "</table>\n",
       "<p>12 rows × 43 columns</p>\n",
       "</div>"
      ],
      "text/plain": [
       "    Seat No. PH-121 HS-101 CY-105 HS-105/12 MT-111 CS-105 CS-106 EL-102  \\\n",
       "0   CS-97001     B-     D+     C-         C     C-     D+      D     C-   \n",
       "1   CS-97002      A      D     D+         D     B-      C      D      A   \n",
       "2   CS-97003      A      B      A        B-     B+      A     B-     B+   \n",
       "3   CS-97004      D     C+     D+         D      D     A-     D+     C-   \n",
       "4   CS-97005     A-     A-     A-        B+      A      A     A-     B+   \n",
       "5   CS-97006      A     B-      B        D+     C+     A-     C+      B   \n",
       "6   CS-97007     B-     C-     A-         D     A-      B      A     B+   \n",
       "7   CS-97008     B+     B+     C+         C      C     A-     C-     A-   \n",
       "8   CS-97009     A-      C     A-        D+      B     A-     A-     A-   \n",
       "9   CS-97010      A      B     C+         B      B     A-      C     B-   \n",
       "10  CS-97011     A-     B-     B+        C-     C-     B-     C+     B-   \n",
       "11  CS-97012     A-      C     A-        C+     C-      A     B-     B+   \n",
       "\n",
       "   EE-119  ... CS-312 CS-317 CS-403 CS-421 CS-406 CS-414 CS-419 CS-423 CS-412  \\\n",
       "0      B-  ...     C-     C-     C-     C-     A-      A     C-      B     A-   \n",
       "1      D+  ...     D+      D      C      D     A-     B-      C      C      B   \n",
       "2      A-  ...      B      B      A      C      A      A      A     A-      A   \n",
       "3       D  ...     D+      C     D+     C-     B-      B     C+     C+     C+   \n",
       "4       A  ...     B-     B+     B+     B-     A-      A     A-     A-      A   \n",
       "5      B+  ...      C     B-     C+     C+     A-     A-     B+     B-      B   \n",
       "6      A-  ...     B-      C     B+     B-      A     A-     B+     B+      A   \n",
       "7       B  ...     D+     B+     B+      C      A     B+     A-     A-     A-   \n",
       "8      B+  ...     B+      B     B-     C+      A     A-     B+     A-      A   \n",
       "9      A-  ...     C+     B-     B+     B-      A      A     A-      B      A   \n",
       "10      A  ...      C     B-     C-     C-      B     B+     B-     C-     B+   \n",
       "11     A-  ...     A-     B-     B+      C      A     A-     B-     C+     A-   \n",
       "\n",
       "     CGPA  \n",
       "0   2.205  \n",
       "1   2.008  \n",
       "2   3.608  \n",
       "3   1.906  \n",
       "4   3.448  \n",
       "5   3.026  \n",
       "6   2.957  \n",
       "7   3.043  \n",
       "8   3.358  \n",
       "9   3.247  \n",
       "10  2.681  \n",
       "11  3.281  \n",
       "\n",
       "[12 rows x 43 columns]"
      ]
     },
     "execution_count": 82,
     "metadata": {},
     "output_type": "execute_result"
    }
   ],
   "source": [
    "df.head(12)"
   ]
  },
  {
   "cell_type": "code",
   "execution_count": 83,
   "id": "0a283a25",
   "metadata": {},
   "outputs": [
    {
     "name": "stdout",
     "output_type": "stream",
     "text": [
      "<class 'pandas.core.frame.DataFrame'>\n",
      "RangeIndex: 571 entries, 0 to 570\n",
      "Data columns (total 43 columns):\n",
      " #   Column     Non-Null Count  Dtype  \n",
      "---  ------     --------------  -----  \n",
      " 0   Seat No.   571 non-null    object \n",
      " 1   PH-121     571 non-null    object \n",
      " 2   HS-101     571 non-null    object \n",
      " 3   CY-105     570 non-null    object \n",
      " 4   HS-105/12  570 non-null    object \n",
      " 5   MT-111     569 non-null    object \n",
      " 6   CS-105     571 non-null    object \n",
      " 7   CS-106     569 non-null    object \n",
      " 8   EL-102     569 non-null    object \n",
      " 9   EE-119     569 non-null    object \n",
      " 10  ME-107     569 non-null    object \n",
      " 11  CS-107     569 non-null    object \n",
      " 12  HS-205/20  566 non-null    object \n",
      " 13  MT-222     566 non-null    object \n",
      " 14  EE-222     564 non-null    object \n",
      " 15  MT-224     564 non-null    object \n",
      " 16  CS-210     564 non-null    object \n",
      " 17  CS-211     566 non-null    object \n",
      " 18  CS-203     566 non-null    object \n",
      " 19  CS-214     565 non-null    object \n",
      " 20  EE-217     565 non-null    object \n",
      " 21  CS-212     565 non-null    object \n",
      " 22  CS-215     565 non-null    object \n",
      " 23  MT-331     562 non-null    object \n",
      " 24  EF-303     561 non-null    object \n",
      " 25  HS-304     561 non-null    object \n",
      " 26  CS-301     561 non-null    object \n",
      " 27  CS-302     561 non-null    object \n",
      " 28  TC-383     561 non-null    object \n",
      " 29  MT-442     561 non-null    object \n",
      " 30  EL-332     562 non-null    object \n",
      " 31  CS-318     562 non-null    object \n",
      " 32  CS-306     562 non-null    object \n",
      " 33  CS-312     561 non-null    object \n",
      " 34  CS-317     559 non-null    object \n",
      " 35  CS-403     559 non-null    object \n",
      " 36  CS-421     559 non-null    object \n",
      " 37  CS-406     486 non-null    object \n",
      " 38  CS-414     558 non-null    object \n",
      " 39  CS-419     558 non-null    object \n",
      " 40  CS-423     557 non-null    object \n",
      " 41  CS-412     492 non-null    object \n",
      " 42  CGPA       571 non-null    float64\n",
      "dtypes: float64(1), object(42)\n",
      "memory usage: 191.9+ KB\n"
     ]
    }
   ],
   "source": [
    "df.info()"
   ]
  },
  {
   "cell_type": "code",
   "execution_count": 84,
   "id": "10898580",
   "metadata": {},
   "outputs": [
    {
     "data": {
      "text/plain": [
       "A-    157\n",
       "B+     80\n",
       "A      77\n",
       "B      65\n",
       "B-     37\n",
       "C+     24\n",
       "C      19\n",
       "D+      8\n",
       "C-      7\n",
       "F       6\n",
       "D       5\n",
       "A+      4\n",
       "W       3\n",
       "Name: CS-412, dtype: int64"
      ]
     },
     "execution_count": 84,
     "metadata": {},
     "output_type": "execute_result"
    }
   ],
   "source": [
    "value_counts = df['CS-412'].value_counts()\n",
    "value_counts"
   ]
  },
  {
   "cell_type": "code",
   "execution_count": 85,
   "id": "b0cf44db",
   "metadata": {},
   "outputs": [],
   "source": [
    "df = df.fillna(df.mode().iloc[0])"
   ]
  },
  {
   "cell_type": "code",
   "execution_count": 86,
   "id": "02c29a56",
   "metadata": {},
   "outputs": [
    {
     "name": "stdout",
     "output_type": "stream",
     "text": [
      "<class 'pandas.core.frame.DataFrame'>\n",
      "RangeIndex: 571 entries, 0 to 570\n",
      "Data columns (total 43 columns):\n",
      " #   Column     Non-Null Count  Dtype  \n",
      "---  ------     --------------  -----  \n",
      " 0   Seat No.   571 non-null    object \n",
      " 1   PH-121     571 non-null    object \n",
      " 2   HS-101     571 non-null    object \n",
      " 3   CY-105     571 non-null    object \n",
      " 4   HS-105/12  571 non-null    object \n",
      " 5   MT-111     571 non-null    object \n",
      " 6   CS-105     571 non-null    object \n",
      " 7   CS-106     571 non-null    object \n",
      " 8   EL-102     571 non-null    object \n",
      " 9   EE-119     571 non-null    object \n",
      " 10  ME-107     571 non-null    object \n",
      " 11  CS-107     571 non-null    object \n",
      " 12  HS-205/20  571 non-null    object \n",
      " 13  MT-222     571 non-null    object \n",
      " 14  EE-222     571 non-null    object \n",
      " 15  MT-224     571 non-null    object \n",
      " 16  CS-210     571 non-null    object \n",
      " 17  CS-211     571 non-null    object \n",
      " 18  CS-203     571 non-null    object \n",
      " 19  CS-214     571 non-null    object \n",
      " 20  EE-217     571 non-null    object \n",
      " 21  CS-212     571 non-null    object \n",
      " 22  CS-215     571 non-null    object \n",
      " 23  MT-331     571 non-null    object \n",
      " 24  EF-303     571 non-null    object \n",
      " 25  HS-304     571 non-null    object \n",
      " 26  CS-301     571 non-null    object \n",
      " 27  CS-302     571 non-null    object \n",
      " 28  TC-383     571 non-null    object \n",
      " 29  MT-442     571 non-null    object \n",
      " 30  EL-332     571 non-null    object \n",
      " 31  CS-318     571 non-null    object \n",
      " 32  CS-306     571 non-null    object \n",
      " 33  CS-312     571 non-null    object \n",
      " 34  CS-317     571 non-null    object \n",
      " 35  CS-403     571 non-null    object \n",
      " 36  CS-421     571 non-null    object \n",
      " 37  CS-406     571 non-null    object \n",
      " 38  CS-414     571 non-null    object \n",
      " 39  CS-419     571 non-null    object \n",
      " 40  CS-423     571 non-null    object \n",
      " 41  CS-412     571 non-null    object \n",
      " 42  CGPA       571 non-null    float64\n",
      "dtypes: float64(1), object(42)\n",
      "memory usage: 191.9+ KB\n"
     ]
    }
   ],
   "source": [
    "df.info()"
   ]
  },
  {
   "cell_type": "code",
   "execution_count": 87,
   "id": "c52aef4b",
   "metadata": {},
   "outputs": [],
   "source": [
    "from sklearn.preprocessing import LabelEncoder"
   ]
  },
  {
   "cell_type": "code",
   "execution_count": 88,
   "id": "af456bbd",
   "metadata": {},
   "outputs": [],
   "source": [
    "le = LabelEncoder()\n"
   ]
  },
  {
   "cell_type": "code",
   "execution_count": 89,
   "id": "e15ce650",
   "metadata": {},
   "outputs": [],
   "source": [
    "categorical_cols = []\n",
    "for col in df.columns:\n",
    "    if df[col].dtype == 'object':\n",
    "        categorical_cols.append(col)"
   ]
  },
  {
   "cell_type": "code",
   "execution_count": 90,
   "id": "250b6b92",
   "metadata": {},
   "outputs": [],
   "source": [
    "for col in categorical_cols:\n",
    "    df[col] = le.fit_transform(df[col])"
   ]
  },
  {
   "cell_type": "code",
   "execution_count": 91,
   "id": "2e905f55",
   "metadata": {},
   "outputs": [
    {
     "data": {
      "text/html": [
       "<div>\n",
       "<style scoped>\n",
       "    .dataframe tbody tr th:only-of-type {\n",
       "        vertical-align: middle;\n",
       "    }\n",
       "\n",
       "    .dataframe tbody tr th {\n",
       "        vertical-align: top;\n",
       "    }\n",
       "\n",
       "    .dataframe thead th {\n",
       "        text-align: right;\n",
       "    }\n",
       "</style>\n",
       "<table border=\"1\" class=\"dataframe\">\n",
       "  <thead>\n",
       "    <tr style=\"text-align: right;\">\n",
       "      <th></th>\n",
       "      <th>Seat No.</th>\n",
       "      <th>PH-121</th>\n",
       "      <th>HS-101</th>\n",
       "      <th>CY-105</th>\n",
       "      <th>HS-105/12</th>\n",
       "      <th>MT-111</th>\n",
       "      <th>CS-105</th>\n",
       "      <th>CS-106</th>\n",
       "      <th>EL-102</th>\n",
       "      <th>EE-119</th>\n",
       "      <th>...</th>\n",
       "      <th>CS-312</th>\n",
       "      <th>CS-317</th>\n",
       "      <th>CS-403</th>\n",
       "      <th>CS-421</th>\n",
       "      <th>CS-406</th>\n",
       "      <th>CS-414</th>\n",
       "      <th>CS-419</th>\n",
       "      <th>CS-423</th>\n",
       "      <th>CS-412</th>\n",
       "      <th>CGPA</th>\n",
       "    </tr>\n",
       "  </thead>\n",
       "  <tbody>\n",
       "    <tr>\n",
       "      <th>0</th>\n",
       "      <td>0</td>\n",
       "      <td>5</td>\n",
       "      <td>10</td>\n",
       "      <td>8</td>\n",
       "      <td>6</td>\n",
       "      <td>8</td>\n",
       "      <td>10</td>\n",
       "      <td>9</td>\n",
       "      <td>8</td>\n",
       "      <td>5</td>\n",
       "      <td>...</td>\n",
       "      <td>8</td>\n",
       "      <td>8</td>\n",
       "      <td>8</td>\n",
       "      <td>8</td>\n",
       "      <td>2</td>\n",
       "      <td>0</td>\n",
       "      <td>8</td>\n",
       "      <td>3</td>\n",
       "      <td>2</td>\n",
       "      <td>2.205</td>\n",
       "    </tr>\n",
       "    <tr>\n",
       "      <th>1</th>\n",
       "      <td>1</td>\n",
       "      <td>0</td>\n",
       "      <td>9</td>\n",
       "      <td>10</td>\n",
       "      <td>9</td>\n",
       "      <td>5</td>\n",
       "      <td>6</td>\n",
       "      <td>9</td>\n",
       "      <td>0</td>\n",
       "      <td>10</td>\n",
       "      <td>...</td>\n",
       "      <td>10</td>\n",
       "      <td>9</td>\n",
       "      <td>6</td>\n",
       "      <td>9</td>\n",
       "      <td>2</td>\n",
       "      <td>5</td>\n",
       "      <td>6</td>\n",
       "      <td>6</td>\n",
       "      <td>3</td>\n",
       "      <td>2.008</td>\n",
       "    </tr>\n",
       "    <tr>\n",
       "      <th>2</th>\n",
       "      <td>2</td>\n",
       "      <td>0</td>\n",
       "      <td>3</td>\n",
       "      <td>0</td>\n",
       "      <td>5</td>\n",
       "      <td>4</td>\n",
       "      <td>0</td>\n",
       "      <td>5</td>\n",
       "      <td>4</td>\n",
       "      <td>2</td>\n",
       "      <td>...</td>\n",
       "      <td>3</td>\n",
       "      <td>3</td>\n",
       "      <td>0</td>\n",
       "      <td>6</td>\n",
       "      <td>0</td>\n",
       "      <td>0</td>\n",
       "      <td>0</td>\n",
       "      <td>2</td>\n",
       "      <td>0</td>\n",
       "      <td>3.608</td>\n",
       "    </tr>\n",
       "    <tr>\n",
       "      <th>3</th>\n",
       "      <td>3</td>\n",
       "      <td>9</td>\n",
       "      <td>7</td>\n",
       "      <td>10</td>\n",
       "      <td>9</td>\n",
       "      <td>9</td>\n",
       "      <td>2</td>\n",
       "      <td>10</td>\n",
       "      <td>8</td>\n",
       "      <td>9</td>\n",
       "      <td>...</td>\n",
       "      <td>10</td>\n",
       "      <td>6</td>\n",
       "      <td>10</td>\n",
       "      <td>8</td>\n",
       "      <td>5</td>\n",
       "      <td>3</td>\n",
       "      <td>7</td>\n",
       "      <td>7</td>\n",
       "      <td>7</td>\n",
       "      <td>1.906</td>\n",
       "    </tr>\n",
       "    <tr>\n",
       "      <th>4</th>\n",
       "      <td>4</td>\n",
       "      <td>2</td>\n",
       "      <td>2</td>\n",
       "      <td>2</td>\n",
       "      <td>4</td>\n",
       "      <td>0</td>\n",
       "      <td>0</td>\n",
       "      <td>2</td>\n",
       "      <td>4</td>\n",
       "      <td>0</td>\n",
       "      <td>...</td>\n",
       "      <td>5</td>\n",
       "      <td>4</td>\n",
       "      <td>4</td>\n",
       "      <td>5</td>\n",
       "      <td>2</td>\n",
       "      <td>0</td>\n",
       "      <td>2</td>\n",
       "      <td>2</td>\n",
       "      <td>0</td>\n",
       "      <td>3.448</td>\n",
       "    </tr>\n",
       "  </tbody>\n",
       "</table>\n",
       "<p>5 rows × 43 columns</p>\n",
       "</div>"
      ],
      "text/plain": [
       "   Seat No.  PH-121  HS-101  CY-105  HS-105/12  MT-111  CS-105  CS-106  \\\n",
       "0         0       5      10       8          6       8      10       9   \n",
       "1         1       0       9      10          9       5       6       9   \n",
       "2         2       0       3       0          5       4       0       5   \n",
       "3         3       9       7      10          9       9       2      10   \n",
       "4         4       2       2       2          4       0       0       2   \n",
       "\n",
       "   EL-102  EE-119  ...  CS-312  CS-317  CS-403  CS-421  CS-406  CS-414  \\\n",
       "0       8       5  ...       8       8       8       8       2       0   \n",
       "1       0      10  ...      10       9       6       9       2       5   \n",
       "2       4       2  ...       3       3       0       6       0       0   \n",
       "3       8       9  ...      10       6      10       8       5       3   \n",
       "4       4       0  ...       5       4       4       5       2       0   \n",
       "\n",
       "   CS-419  CS-423  CS-412   CGPA  \n",
       "0       8       3       2  2.205  \n",
       "1       6       6       3  2.008  \n",
       "2       0       2       0  3.608  \n",
       "3       7       7       7  1.906  \n",
       "4       2       2       0  3.448  \n",
       "\n",
       "[5 rows x 43 columns]"
      ]
     },
     "execution_count": 91,
     "metadata": {},
     "output_type": "execute_result"
    }
   ],
   "source": [
    "df.head()"
   ]
  },
  {
   "cell_type": "code",
   "execution_count": 92,
   "id": "bf3f614a",
   "metadata": {},
   "outputs": [
    {
     "name": "stdout",
     "output_type": "stream",
     "text": [
      "<class 'pandas.core.frame.DataFrame'>\n",
      "RangeIndex: 571 entries, 0 to 570\n",
      "Data columns (total 43 columns):\n",
      " #   Column     Non-Null Count  Dtype  \n",
      "---  ------     --------------  -----  \n",
      " 0   Seat No.   571 non-null    int32  \n",
      " 1   PH-121     571 non-null    int32  \n",
      " 2   HS-101     571 non-null    int32  \n",
      " 3   CY-105     571 non-null    int32  \n",
      " 4   HS-105/12  571 non-null    int32  \n",
      " 5   MT-111     571 non-null    int32  \n",
      " 6   CS-105     571 non-null    int32  \n",
      " 7   CS-106     571 non-null    int32  \n",
      " 8   EL-102     571 non-null    int32  \n",
      " 9   EE-119     571 non-null    int32  \n",
      " 10  ME-107     571 non-null    int32  \n",
      " 11  CS-107     571 non-null    int32  \n",
      " 12  HS-205/20  571 non-null    int32  \n",
      " 13  MT-222     571 non-null    int32  \n",
      " 14  EE-222     571 non-null    int32  \n",
      " 15  MT-224     571 non-null    int32  \n",
      " 16  CS-210     571 non-null    int32  \n",
      " 17  CS-211     571 non-null    int32  \n",
      " 18  CS-203     571 non-null    int32  \n",
      " 19  CS-214     571 non-null    int32  \n",
      " 20  EE-217     571 non-null    int32  \n",
      " 21  CS-212     571 non-null    int32  \n",
      " 22  CS-215     571 non-null    int32  \n",
      " 23  MT-331     571 non-null    int32  \n",
      " 24  EF-303     571 non-null    int32  \n",
      " 25  HS-304     571 non-null    int32  \n",
      " 26  CS-301     571 non-null    int32  \n",
      " 27  CS-302     571 non-null    int32  \n",
      " 28  TC-383     571 non-null    int32  \n",
      " 29  MT-442     571 non-null    int32  \n",
      " 30  EL-332     571 non-null    int32  \n",
      " 31  CS-318     571 non-null    int32  \n",
      " 32  CS-306     571 non-null    int32  \n",
      " 33  CS-312     571 non-null    int32  \n",
      " 34  CS-317     571 non-null    int32  \n",
      " 35  CS-403     571 non-null    int32  \n",
      " 36  CS-421     571 non-null    int32  \n",
      " 37  CS-406     571 non-null    int32  \n",
      " 38  CS-414     571 non-null    int32  \n",
      " 39  CS-419     571 non-null    int32  \n",
      " 40  CS-423     571 non-null    int32  \n",
      " 41  CS-412     571 non-null    int32  \n",
      " 42  CGPA       571 non-null    float64\n",
      "dtypes: float64(1), int32(42)\n",
      "memory usage: 98.3 KB\n"
     ]
    }
   ],
   "source": [
    "df.info()"
   ]
  },
  {
   "cell_type": "code",
   "execution_count": 93,
   "id": "57715706",
   "metadata": {},
   "outputs": [
    {
     "data": {
      "text/html": [
       "<div>\n",
       "<style scoped>\n",
       "    .dataframe tbody tr th:only-of-type {\n",
       "        vertical-align: middle;\n",
       "    }\n",
       "\n",
       "    .dataframe tbody tr th {\n",
       "        vertical-align: top;\n",
       "    }\n",
       "\n",
       "    .dataframe thead th {\n",
       "        text-align: right;\n",
       "    }\n",
       "</style>\n",
       "<table border=\"1\" class=\"dataframe\">\n",
       "  <thead>\n",
       "    <tr style=\"text-align: right;\">\n",
       "      <th></th>\n",
       "      <th>Seat No.</th>\n",
       "      <th>PH-121</th>\n",
       "      <th>HS-101</th>\n",
       "      <th>CY-105</th>\n",
       "      <th>HS-105/12</th>\n",
       "      <th>MT-111</th>\n",
       "      <th>CS-105</th>\n",
       "      <th>CS-106</th>\n",
       "      <th>EL-102</th>\n",
       "      <th>EE-119</th>\n",
       "      <th>...</th>\n",
       "      <th>CS-312</th>\n",
       "      <th>CS-317</th>\n",
       "      <th>CS-403</th>\n",
       "      <th>CS-421</th>\n",
       "      <th>CS-406</th>\n",
       "      <th>CS-414</th>\n",
       "      <th>CS-419</th>\n",
       "      <th>CS-423</th>\n",
       "      <th>CS-412</th>\n",
       "      <th>CGPA</th>\n",
       "    </tr>\n",
       "  </thead>\n",
       "  <tbody>\n",
       "    <tr>\n",
       "      <th>0</th>\n",
       "      <td>0</td>\n",
       "      <td>5</td>\n",
       "      <td>10</td>\n",
       "      <td>8</td>\n",
       "      <td>6</td>\n",
       "      <td>8</td>\n",
       "      <td>10</td>\n",
       "      <td>9</td>\n",
       "      <td>8</td>\n",
       "      <td>5</td>\n",
       "      <td>...</td>\n",
       "      <td>8</td>\n",
       "      <td>8</td>\n",
       "      <td>8</td>\n",
       "      <td>8</td>\n",
       "      <td>2</td>\n",
       "      <td>0</td>\n",
       "      <td>8</td>\n",
       "      <td>3</td>\n",
       "      <td>2</td>\n",
       "      <td>2.205</td>\n",
       "    </tr>\n",
       "    <tr>\n",
       "      <th>1</th>\n",
       "      <td>1</td>\n",
       "      <td>0</td>\n",
       "      <td>9</td>\n",
       "      <td>10</td>\n",
       "      <td>9</td>\n",
       "      <td>5</td>\n",
       "      <td>6</td>\n",
       "      <td>9</td>\n",
       "      <td>0</td>\n",
       "      <td>10</td>\n",
       "      <td>...</td>\n",
       "      <td>10</td>\n",
       "      <td>9</td>\n",
       "      <td>6</td>\n",
       "      <td>9</td>\n",
       "      <td>2</td>\n",
       "      <td>5</td>\n",
       "      <td>6</td>\n",
       "      <td>6</td>\n",
       "      <td>3</td>\n",
       "      <td>2.008</td>\n",
       "    </tr>\n",
       "    <tr>\n",
       "      <th>2</th>\n",
       "      <td>2</td>\n",
       "      <td>0</td>\n",
       "      <td>3</td>\n",
       "      <td>0</td>\n",
       "      <td>5</td>\n",
       "      <td>4</td>\n",
       "      <td>0</td>\n",
       "      <td>5</td>\n",
       "      <td>4</td>\n",
       "      <td>2</td>\n",
       "      <td>...</td>\n",
       "      <td>3</td>\n",
       "      <td>3</td>\n",
       "      <td>0</td>\n",
       "      <td>6</td>\n",
       "      <td>0</td>\n",
       "      <td>0</td>\n",
       "      <td>0</td>\n",
       "      <td>2</td>\n",
       "      <td>0</td>\n",
       "      <td>3.608</td>\n",
       "    </tr>\n",
       "    <tr>\n",
       "      <th>3</th>\n",
       "      <td>3</td>\n",
       "      <td>9</td>\n",
       "      <td>7</td>\n",
       "      <td>10</td>\n",
       "      <td>9</td>\n",
       "      <td>9</td>\n",
       "      <td>2</td>\n",
       "      <td>10</td>\n",
       "      <td>8</td>\n",
       "      <td>9</td>\n",
       "      <td>...</td>\n",
       "      <td>10</td>\n",
       "      <td>6</td>\n",
       "      <td>10</td>\n",
       "      <td>8</td>\n",
       "      <td>5</td>\n",
       "      <td>3</td>\n",
       "      <td>7</td>\n",
       "      <td>7</td>\n",
       "      <td>7</td>\n",
       "      <td>1.906</td>\n",
       "    </tr>\n",
       "    <tr>\n",
       "      <th>4</th>\n",
       "      <td>4</td>\n",
       "      <td>2</td>\n",
       "      <td>2</td>\n",
       "      <td>2</td>\n",
       "      <td>4</td>\n",
       "      <td>0</td>\n",
       "      <td>0</td>\n",
       "      <td>2</td>\n",
       "      <td>4</td>\n",
       "      <td>0</td>\n",
       "      <td>...</td>\n",
       "      <td>5</td>\n",
       "      <td>4</td>\n",
       "      <td>4</td>\n",
       "      <td>5</td>\n",
       "      <td>2</td>\n",
       "      <td>0</td>\n",
       "      <td>2</td>\n",
       "      <td>2</td>\n",
       "      <td>0</td>\n",
       "      <td>3.448</td>\n",
       "    </tr>\n",
       "  </tbody>\n",
       "</table>\n",
       "<p>5 rows × 43 columns</p>\n",
       "</div>"
      ],
      "text/plain": [
       "   Seat No.  PH-121  HS-101  CY-105  HS-105/12  MT-111  CS-105  CS-106  \\\n",
       "0         0       5      10       8          6       8      10       9   \n",
       "1         1       0       9      10          9       5       6       9   \n",
       "2         2       0       3       0          5       4       0       5   \n",
       "3         3       9       7      10          9       9       2      10   \n",
       "4         4       2       2       2          4       0       0       2   \n",
       "\n",
       "   EL-102  EE-119  ...  CS-312  CS-317  CS-403  CS-421  CS-406  CS-414  \\\n",
       "0       8       5  ...       8       8       8       8       2       0   \n",
       "1       0      10  ...      10       9       6       9       2       5   \n",
       "2       4       2  ...       3       3       0       6       0       0   \n",
       "3       8       9  ...      10       6      10       8       5       3   \n",
       "4       4       0  ...       5       4       4       5       2       0   \n",
       "\n",
       "   CS-419  CS-423  CS-412   CGPA  \n",
       "0       8       3       2  2.205  \n",
       "1       6       6       3  2.008  \n",
       "2       0       2       0  3.608  \n",
       "3       7       7       7  1.906  \n",
       "4       2       2       0  3.448  \n",
       "\n",
       "[5 rows x 43 columns]"
      ]
     },
     "execution_count": 93,
     "metadata": {},
     "output_type": "execute_result"
    }
   ],
   "source": [
    "df.head()"
   ]
  },
  {
   "cell_type": "code",
   "execution_count": 94,
   "id": "c9b21f2f",
   "metadata": {},
   "outputs": [
    {
     "name": "stderr",
     "output_type": "stream",
     "text": [
      "C:\\ProgramData\\Anaconda3\\lib\\site-packages\\seaborn\\distributions.py:2619: FutureWarning: `distplot` is a deprecated function and will be removed in a future version. Please adapt your code to use either `displot` (a figure-level function with similar flexibility) or `histplot` (an axes-level function for histograms).\n",
      "  warnings.warn(msg, FutureWarning)\n"
     ]
    },
    {
     "data": {
      "image/png": "[encoded data removed]",
      "text/plain": [
       "<Figure size 1440x1080 with 1 Axes>"
      ]
     },
     "metadata": {},
     "output_type": "display_data"
    },
    {
     "name": "stderr",
     "output_type": "stream",
     "text": [
      "C:\\ProgramData\\Anaconda3\\lib\\site-packages\\seaborn\\distributions.py:2619: FutureWarning: `distplot` is a deprecated function and will be removed in a future version. Please adapt your code to use either `displot` (a figure-level function with similar flexibility) or `histplot` (an axes-level function for histograms).\n",
      "  warnings.warn(msg, FutureWarning)\n",
      "C:\\Users\\User\\AppData\\Local\\Temp/ipykernel_1976/49188110.py:9: UserWarning: Tight layout not applied. tight_layout cannot make axes width small enough to accommodate all axes decorations\n",
      "  plt.tight_layout()\n"
     ]
    },
    {
     "data": {
      "image/png": "[encoded data removed]",
      "text/plain": [
       "<Figure size 432x288 with 1 Axes>"
      ]
     },
     "metadata": {
      "needs_background": "light"
     },
     "output_type": "display_data"
    },
    {
     "name": "stderr",
     "output_type": "stream",
     "text": [
      "C:\\ProgramData\\Anaconda3\\lib\\site-packages\\seaborn\\distributions.py:2619: FutureWarning: `distplot` is a deprecated function and will be removed in a future version. Please adapt your code to use either `displot` (a figure-level function with similar flexibility) or `histplot` (an axes-level function for histograms).\n",
      "  warnings.warn(msg, FutureWarning)\n",
      "C:\\Users\\User\\AppData\\Local\\Temp/ipykernel_1976/49188110.py:9: UserWarning: Tight layout not applied. tight_layout cannot make axes width small enough to accommodate all axes decorations\n",
      "  plt.tight_layout()\n"
     ]
    },
    {
     "data": {
      "image/png": "[encoded data removed]",
      "text/plain": [
       "<Figure size 432x288 with 1 Axes>"
      ]
     },
     "metadata": {
      "needs_background": "light"
     },
     "output_type": "display_data"
    },
    {
     "name": "stderr",
     "output_type": "stream",
     "text": [
      "C:\\ProgramData\\Anaconda3\\lib\\site-packages\\seaborn\\distributions.py:2619: FutureWarning: `distplot` is a deprecated function and will be removed in a future version. Please adapt your code to use either `displot` (a figure-level function with similar flexibility) or `histplot` (an axes-level function for histograms).\n",
      "  warnings.warn(msg, FutureWarning)\n",
      "C:\\Users\\User\\AppData\\Local\\Temp/ipykernel_1976/49188110.py:9: UserWarning: Tight layout not applied. tight_layout cannot make axes width small enough to accommodate all axes decorations\n",
      "  plt.tight_layout()\n"
     ]
    },
    {
     "data": {
      "image/png": "[encoded data removed]",
      "text/plain": [
       "<Figure size 432x288 with 1 Axes>"
      ]
     },
     "metadata": {
      "needs_background": "light"
     },
     "output_type": "display_data"
    },
    {
     "name": "stderr",
     "output_type": "stream",
     "text": [
      "C:\\ProgramData\\Anaconda3\\lib\\site-packages\\seaborn\\distributions.py:2619: FutureWarning: `distplot` is a deprecated function and will be removed in a future version. Please adapt your code to use either `displot` (a figure-level function with similar flexibility) or `histplot` (an axes-level function for histograms).\n",
      "  warnings.warn(msg, FutureWarning)\n",
      "C:\\Users\\User\\AppData\\Local\\Temp/ipykernel_1976/49188110.py:9: UserWarning: Tight layout not applied. tight_layout cannot make axes width small enough to accommodate all axes decorations\n",
      "  plt.tight_layout()\n"
     ]
    },
    {
     "data": {
      "image/png": "[encoded data removed]",
      "text/plain": [
       "<Figure size 432x288 with 1 Axes>"
      ]
     },
     "metadata": {
      "needs_background": "light"
     },
     "output_type": "display_data"
    },
    {
     "name": "stderr",
     "output_type": "stream",
     "text": [
      "C:\\ProgramData\\Anaconda3\\lib\\site-packages\\seaborn\\distributions.py:2619: FutureWarning: `distplot` is a deprecated function and will be removed in a future version. Please adapt your code to use either `displot` (a figure-level function with similar flexibility) or `histplot` (an axes-level function for histograms).\n",
      "  warnings.warn(msg, FutureWarning)\n",
      "C:\\Users\\User\\AppData\\Local\\Temp/ipykernel_1976/49188110.py:9: UserWarning: Tight layout not applied. tight_layout cannot make axes width small enough to accommodate all axes decorations\n",
      "  plt.tight_layout()\n"
     ]
    },
    {
     "data": {
      "image/png": "[encoded data removed]",
      "text/plain": [
       "<Figure size 432x288 with 1 Axes>"
      ]
     },
     "metadata": {
      "needs_background": "light"
     },
     "output_type": "display_data"
    },
    {
     "name": "stderr",
     "output_type": "stream",
     "text": [
      "C:\\ProgramData\\Anaconda3\\lib\\site-packages\\seaborn\\distributions.py:2619: FutureWarning: `distplot` is a deprecated function and will be removed in a future version. Please adapt your code to use either `displot` (a figure-level function with similar flexibility) or `histplot` (an axes-level function for histograms).\n",
      "  warnings.warn(msg, FutureWarning)\n",
      "C:\\Users\\User\\AppData\\Local\\Temp/ipykernel_1976/49188110.py:9: UserWarning: Tight layout not applied. tight_layout cannot make axes width small enough to accommodate all axes decorations\n",
      "  plt.tight_layout()\n"
     ]
    },
    {
     "data": {
      "image/png": "[encoded data removed]",
      "text/plain": [
       "<Figure size 432x288 with 1 Axes>"
      ]
     },
     "metadata": {
      "needs_background": "light"
     },
     "output_type": "display_data"
    },
    {
     "name": "stderr",
     "output_type": "stream",
     "text": [
      "C:\\ProgramData\\Anaconda3\\lib\\site-packages\\seaborn\\distributions.py:2619: FutureWarning: `distplot` is a deprecated function and will be removed in a future version. Please adapt your code to use either `displot` (a figure-level function with similar flexibility) or `histplot` (an axes-level function for histograms).\n",
      "  warnings.warn(msg, FutureWarning)\n",
      "C:\\Users\\User\\AppData\\Local\\Temp/ipykernel_1976/49188110.py:9: UserWarning: Tight layout not applied. tight_layout cannot make axes width small enough to accommodate all axes decorations\n",
      "  plt.tight_layout()\n"
     ]
    },
    {
     "data": {
      "image/png": "[encoded data removed]",
      "text/plain": [
       "<Figure size 432x288 with 1 Axes>"
      ]
     },
     "metadata": {
      "needs_background": "light"
     },
     "output_type": "display_data"
    },
    {
     "name": "stderr",
     "output_type": "stream",
     "text": [
      "C:\\ProgramData\\Anaconda3\\lib\\site-packages\\seaborn\\distributions.py:2619: FutureWarning: `distplot` is a deprecated function and will be removed in a future version. Please adapt your code to use either `displot` (a figure-level function with similar flexibility) or `histplot` (an axes-level function for histograms).\n",
      "  warnings.warn(msg, FutureWarning)\n",
      "C:\\Users\\User\\AppData\\Local\\Temp/ipykernel_1976/49188110.py:9: UserWarning: Tight layout not applied. tight_layout cannot make axes width small enough to accommodate all axes decorations\n",
      "  plt.tight_layout()\n"
     ]
    },
    {
     "data": {
      "image/png": "[encoded data removed]",
      "text/plain": [
       "<Figure size 432x288 with 1 Axes>"
      ]
     },
     "metadata": {
      "needs_background": "light"
     },
     "output_type": "display_data"
    },
    {
     "name": "stderr",
     "output_type": "stream",
     "text": [
      "C:\\ProgramData\\Anaconda3\\lib\\site-packages\\seaborn\\distributions.py:2619: FutureWarning: `distplot` is a deprecated function and will be removed in a future version. Please adapt your code to use either `displot` (a figure-level function with similar flexibility) or `histplot` (an axes-level function for histograms).\n",
      "  warnings.warn(msg, FutureWarning)\n",
      "C:\\Users\\User\\AppData\\Local\\Temp/ipykernel_1976/49188110.py:9: UserWarning: Tight layout not applied. tight_layout cannot make axes width small enough to accommodate all axes decorations\n",
      "  plt.tight_layout()\n"
     ]
    },
    {
     "data": {
      "image/png": "[encoded data removed]",
      "text/plain": [
       "<Figure size 432x288 with 1 Axes>"
      ]
     },
     "metadata": {
      "needs_background": "light"
     },
     "output_type": "display_data"
    },
    {
     "name": "stderr",
     "output_type": "stream",
     "text": [
      "C:\\ProgramData\\Anaconda3\\lib\\site-packages\\seaborn\\distributions.py:2619: FutureWarning: `distplot` is a deprecated function and will be removed in a future version. Please adapt your code to use either `displot` (a figure-level function with similar flexibility) or `histplot` (an axes-level function for histograms).\n",
      "  warnings.warn(msg, FutureWarning)\n",
      "C:\\Users\\User\\AppData\\Local\\Temp/ipykernel_1976/49188110.py:9: UserWarning: Tight layout not applied. tight_layout cannot make axes width small enough to accommodate all axes decorations\n",
      "  plt.tight_layout()\n"
     ]
    },
    {
     "data": {
      "image/png": "[encoded data removed]",
      "text/plain": [
       "<Figure size 432x288 with 1 Axes>"
      ]
     },
     "metadata": {
      "needs_background": "light"
     },
     "output_type": "display_data"
    },
    {
     "name": "stderr",
     "output_type": "stream",
     "text": [
      "C:\\ProgramData\\Anaconda3\\lib\\site-packages\\seaborn\\distributions.py:2619: FutureWarning: `distplot` is a deprecated function and will be removed in a future version. Please adapt your code to use either `displot` (a figure-level function with similar flexibility) or `histplot` (an axes-level function for histograms).\n",
      "  warnings.warn(msg, FutureWarning)\n"
     ]
    },
    {
     "data": {
      "image/png": "[encoded data removed]",
      "text/plain": [
       "<Figure size 432x288 with 1 Axes>"
      ]
     },
     "metadata": {
      "needs_background": "light"
     },
     "output_type": "display_data"
    },
    {
     "name": "stderr",
     "output_type": "stream",
     "text": [
      "C:\\ProgramData\\Anaconda3\\lib\\site-packages\\seaborn\\distributions.py:2619: FutureWarning: `distplot` is a deprecated function and will be removed in a future version. Please adapt your code to use either `displot` (a figure-level function with similar flexibility) or `histplot` (an axes-level function for histograms).\n",
      "  warnings.warn(msg, FutureWarning)\n",
      "C:\\Users\\User\\AppData\\Local\\Temp/ipykernel_1976/49188110.py:9: UserWarning: Tight layout not applied. tight_layout cannot make axes width small enough to accommodate all axes decorations\n",
      "  plt.tight_layout()\n"
     ]
    },
    {
     "data": {
      "image/png": "[encoded data removed]",
      "text/plain": [
       "<Figure size 432x288 with 1 Axes>"
      ]
     },
     "metadata": {
      "needs_background": "light"
     },
     "output_type": "display_data"
    },
    {
     "name": "stderr",
     "output_type": "stream",
     "text": [
      "C:\\ProgramData\\Anaconda3\\lib\\site-packages\\seaborn\\distributions.py:2619: FutureWarning: `distplot` is a deprecated function and will be removed in a future version. Please adapt your code to use either `displot` (a figure-level function with similar flexibility) or `histplot` (an axes-level function for histograms).\n",
      "  warnings.warn(msg, FutureWarning)\n",
      "C:\\Users\\User\\AppData\\Local\\Temp/ipykernel_1976/49188110.py:9: UserWarning: Tight layout not applied. tight_layout cannot make axes width small enough to accommodate all axes decorations\n",
      "  plt.tight_layout()\n"
     ]
    },
    {
     "data": {
      "image/png": "[encoded data removed]",
      "text/plain": [
       "<Figure size 432x288 with 1 Axes>"
      ]
     },
     "metadata": {
      "needs_background": "light"
     },
     "output_type": "display_data"
    },
    {
     "name": "stderr",
     "output_type": "stream",
     "text": [
      "C:\\ProgramData\\Anaconda3\\lib\\site-packages\\seaborn\\distributions.py:2619: FutureWarning: `distplot` is a deprecated function and will be removed in a future version. Please adapt your code to use either `displot` (a figure-level function with similar flexibility) or `histplot` (an axes-level function for histograms).\n",
      "  warnings.warn(msg, FutureWarning)\n",
      "C:\\Users\\User\\AppData\\Local\\Temp/ipykernel_1976/49188110.py:9: UserWarning: Tight layout not applied. tight_layout cannot make axes width small enough to accommodate all axes decorations\n",
      "  plt.tight_layout()\n"
     ]
    },
    {
     "data": {
      "image/png": "[encoded data removed]",
      "text/plain": [
       "<Figure size 432x288 with 1 Axes>"
      ]
     },
     "metadata": {
      "needs_background": "light"
     },
     "output_type": "display_data"
    },
    {
     "name": "stderr",
     "output_type": "stream",
     "text": [
      "C:\\ProgramData\\Anaconda3\\lib\\site-packages\\seaborn\\distributions.py:2619: FutureWarning: `distplot` is a deprecated function and will be removed in a future version. Please adapt your code to use either `displot` (a figure-level function with similar flexibility) or `histplot` (an axes-level function for histograms).\n",
      "  warnings.warn(msg, FutureWarning)\n",
      "C:\\Users\\User\\AppData\\Local\\Temp/ipykernel_1976/49188110.py:9: UserWarning: Tight layout not applied. tight_layout cannot make axes width small enough to accommodate all axes decorations\n",
      "  plt.tight_layout()\n"
     ]
    },
    {
     "data": {
      "image/png": "[encoded data removed]",
      "text/plain": [
       "<Figure size 432x288 with 1 Axes>"
      ]
     },
     "metadata": {
      "needs_background": "light"
     },
     "output_type": "display_data"
    },
    {
     "name": "stderr",
     "output_type": "stream",
     "text": [
      "C:\\ProgramData\\Anaconda3\\lib\\site-packages\\seaborn\\distributions.py:2619: FutureWarning: `distplot` is a deprecated function and will be removed in a future version. Please adapt your code to use either `displot` (a figure-level function with similar flexibility) or `histplot` (an axes-level function for histograms).\n",
      "  warnings.warn(msg, FutureWarning)\n",
      "C:\\Users\\User\\AppData\\Local\\Temp/ipykernel_1976/49188110.py:9: UserWarning: Tight layout not applied. tight_layout cannot make axes width small enough to accommodate all axes decorations\n",
      "  plt.tight_layout()\n"
     ]
    },
    {
     "data": {
      "image/png": "[encoded data removed]",
      "text/plain": [
       "<Figure size 432x288 with 1 Axes>"
      ]
     },
     "metadata": {
      "needs_background": "light"
     },
     "output_type": "display_data"
    },
    {
     "name": "stderr",
     "output_type": "stream",
     "text": [
      "C:\\ProgramData\\Anaconda3\\lib\\site-packages\\seaborn\\distributions.py:2619: FutureWarning: `distplot` is a deprecated function and will be removed in a future version. Please adapt your code to use either `displot` (a figure-level function with similar flexibility) or `histplot` (an axes-level function for histograms).\n",
      "  warnings.warn(msg, FutureWarning)\n",
      "C:\\Users\\User\\AppData\\Local\\Temp/ipykernel_1976/49188110.py:9: UserWarning: Tight layout not applied. tight_layout cannot make axes width small enough to accommodate all axes decorations\n",
      "  plt.tight_layout()\n"
     ]
    },
    {
     "data": {
      "image/png": "[encoded data removed]",
      "text/plain": [
       "<Figure size 432x288 with 1 Axes>"
      ]
     },
     "metadata": {
      "needs_background": "light"
     },
     "output_type": "display_data"
    },
    {
     "name": "stderr",
     "output_type": "stream",
     "text": [
      "C:\\ProgramData\\Anaconda3\\lib\\site-packages\\seaborn\\distributions.py:2619: FutureWarning: `distplot` is a deprecated function and will be removed in a future version. Please adapt your code to use either `displot` (a figure-level function with similar flexibility) or `histplot` (an axes-level function for histograms).\n",
      "  warnings.warn(msg, FutureWarning)\n",
      "C:\\Users\\User\\AppData\\Local\\Temp/ipykernel_1976/49188110.py:9: UserWarning: Tight layout not applied. tight_layout cannot make axes width small enough to accommodate all axes decorations\n",
      "  plt.tight_layout()\n"
     ]
    },
    {
     "data": {
      "image/png": "[encoded data removed]",
      "text/plain": [
       "<Figure size 432x288 with 1 Axes>"
      ]
     },
     "metadata": {
      "needs_background": "light"
     },
     "output_type": "display_data"
    },
    {
     "name": "stderr",
     "output_type": "stream",
     "text": [
      "C:\\ProgramData\\Anaconda3\\lib\\site-packages\\seaborn\\distributions.py:2619: FutureWarning: `distplot` is a deprecated function and will be removed in a future version. Please adapt your code to use either `displot` (a figure-level function with similar flexibility) or `histplot` (an axes-level function for histograms).\n",
      "  warnings.warn(msg, FutureWarning)\n",
      "C:\\Users\\User\\AppData\\Local\\Temp/ipykernel_1976/49188110.py:9: UserWarning: Tight layout not applied. tight_layout cannot make axes width small enough to accommodate all axes decorations\n",
      "  plt.tight_layout()\n"
     ]
    },
    {
     "data": {
      "image/png": "[encoded data removed]",
      "text/plain": [
       "<Figure size 432x288 with 1 Axes>"
      ]
     },
     "metadata": {
      "needs_background": "light"
     },
     "output_type": "display_data"
    },
    {
     "name": "stderr",
     "output_type": "stream",
     "text": [
      "C:\\ProgramData\\Anaconda3\\lib\\site-packages\\seaborn\\distributions.py:2619: FutureWarning: `distplot` is a deprecated function and will be removed in a future version. Please adapt your code to use either `displot` (a figure-level function with similar flexibility) or `histplot` (an axes-level function for histograms).\n",
      "  warnings.warn(msg, FutureWarning)\n",
      "C:\\Users\\User\\AppData\\Local\\Temp/ipykernel_1976/49188110.py:9: UserWarning: Tight layout not applied. tight_layout cannot make axes width small enough to accommodate all axes decorations\n",
      "  plt.tight_layout()\n"
     ]
    },
    {
     "data": {
      "image/png": "[encoded data removed]",
      "text/plain": [
       "<Figure size 432x288 with 1 Axes>"
      ]
     },
     "metadata": {
      "needs_background": "light"
     },
     "output_type": "display_data"
    },
    {
     "name": "stderr",
     "output_type": "stream",
     "text": [
      "C:\\ProgramData\\Anaconda3\\lib\\site-packages\\seaborn\\distributions.py:2619: FutureWarning: `distplot` is a deprecated function and will be removed in a future version. Please adapt your code to use either `displot` (a figure-level function with similar flexibility) or `histplot` (an axes-level function for histograms).\n",
      "  warnings.warn(msg, FutureWarning)\n",
      "C:\\Users\\User\\AppData\\Local\\Temp/ipykernel_1976/49188110.py:9: UserWarning: Tight layout not applied. tight_layout cannot make axes width small enough to accommodate all axes decorations\n",
      "  plt.tight_layout()\n"
     ]
    },
    {
     "data": {
      "image/png": "[encoded data removed]",
      "text/plain": [
       "<Figure size 432x288 with 1 Axes>"
      ]
     },
     "metadata": {
      "needs_background": "light"
     },
     "output_type": "display_data"
    },
    {
     "name": "stderr",
     "output_type": "stream",
     "text": [
      "C:\\ProgramData\\Anaconda3\\lib\\site-packages\\seaborn\\distributions.py:2619: FutureWarning: `distplot` is a deprecated function and will be removed in a future version. Please adapt your code to use either `displot` (a figure-level function with similar flexibility) or `histplot` (an axes-level function for histograms).\n",
      "  warnings.warn(msg, FutureWarning)\n"
     ]
    },
    {
     "data": {
      "image/png": "[encoded data removed]",
      "text/plain": [
       "<Figure size 432x288 with 1 Axes>"
      ]
     },
     "metadata": {
      "needs_background": "light"
     },
     "output_type": "display_data"
    },
    {
     "name": "stderr",
     "output_type": "stream",
     "text": [
      "C:\\ProgramData\\Anaconda3\\lib\\site-packages\\seaborn\\distributions.py:2619: FutureWarning: `distplot` is a deprecated function and will be removed in a future version. Please adapt your code to use either `displot` (a figure-level function with similar flexibility) or `histplot` (an axes-level function for histograms).\n",
      "  warnings.warn(msg, FutureWarning)\n",
      "C:\\Users\\User\\AppData\\Local\\Temp/ipykernel_1976/49188110.py:9: UserWarning: Tight layout not applied. tight_layout cannot make axes width small enough to accommodate all axes decorations\n",
      "  plt.tight_layout()\n"
     ]
    },
    {
     "data": {
      "image/png": "[encoded data removed]",
      "text/plain": [
       "<Figure size 432x288 with 1 Axes>"
      ]
     },
     "metadata": {
      "needs_background": "light"
     },
     "output_type": "display_data"
    },
    {
     "name": "stderr",
     "output_type": "stream",
     "text": [
      "C:\\ProgramData\\Anaconda3\\lib\\site-packages\\seaborn\\distributions.py:2619: FutureWarning: `distplot` is a deprecated function and will be removed in a future version. Please adapt your code to use either `displot` (a figure-level function with similar flexibility) or `histplot` (an axes-level function for histograms).\n",
      "  warnings.warn(msg, FutureWarning)\n",
      "C:\\Users\\User\\AppData\\Local\\Temp/ipykernel_1976/49188110.py:9: UserWarning: Tight layout not applied. tight_layout cannot make axes width small enough to accommodate all axes decorations\n",
      "  plt.tight_layout()\n"
     ]
    },
    {
     "data": {
      "image/png": "[encoded data removed]",
      "text/plain": [
       "<Figure size 432x288 with 1 Axes>"
      ]
     },
     "metadata": {
      "needs_background": "light"
     },
     "output_type": "display_data"
    },
    {
     "name": "stderr",
     "output_type": "stream",
     "text": [
      "C:\\ProgramData\\Anaconda3\\lib\\site-packages\\seaborn\\distributions.py:2619: FutureWarning: `distplot` is a deprecated function and will be removed in a future version. Please adapt your code to use either `displot` (a figure-level function with similar flexibility) or `histplot` (an axes-level function for histograms).\n",
      "  warnings.warn(msg, FutureWarning)\n",
      "C:\\Users\\User\\AppData\\Local\\Temp/ipykernel_1976/49188110.py:9: UserWarning: Tight layout not applied. tight_layout cannot make axes width small enough to accommodate all axes decorations\n",
      "  plt.tight_layout()\n"
     ]
    },
    {
     "data": {
      "image/png": "[encoded data removed]",
      "text/plain": [
       "<Figure size 432x288 with 1 Axes>"
      ]
     },
     "metadata": {
      "needs_background": "light"
     },
     "output_type": "display_data"
    },
    {
     "name": "stderr",
     "output_type": "stream",
     "text": [
      "C:\\ProgramData\\Anaconda3\\lib\\site-packages\\seaborn\\distributions.py:2619: FutureWarning: `distplot` is a deprecated function and will be removed in a future version. Please adapt your code to use either `displot` (a figure-level function with similar flexibility) or `histplot` (an axes-level function for histograms).\n",
      "  warnings.warn(msg, FutureWarning)\n",
      "C:\\Users\\User\\AppData\\Local\\Temp/ipykernel_1976/49188110.py:9: UserWarning: Tight layout not applied. tight_layout cannot make axes width small enough to accommodate all axes decorations\n",
      "  plt.tight_layout()\n"
     ]
    },
    {
     "data": {
      "image/png": "[encoded data removed]",
      "text/plain": [
       "<Figure size 432x288 with 1 Axes>"
      ]
     },
     "metadata": {
      "needs_background": "light"
     },
     "output_type": "display_data"
    },
    {
     "name": "stderr",
     "output_type": "stream",
     "text": [
      "C:\\ProgramData\\Anaconda3\\lib\\site-packages\\seaborn\\distributions.py:2619: FutureWarning: `distplot` is a deprecated function and will be removed in a future version. Please adapt your code to use either `displot` (a figure-level function with similar flexibility) or `histplot` (an axes-level function for histograms).\n",
      "  warnings.warn(msg, FutureWarning)\n",
      "C:\\Users\\User\\AppData\\Local\\Temp/ipykernel_1976/49188110.py:9: UserWarning: Tight layout not applied. tight_layout cannot make axes width small enough to accommodate all axes decorations\n",
      "  plt.tight_layout()\n"
     ]
    },
    {
     "data": {
      "image/png": "[encoded data removed]",
      "text/plain": [
       "<Figure size 432x288 with 1 Axes>"
      ]
     },
     "metadata": {
      "needs_background": "light"
     },
     "output_type": "display_data"
    },
    {
     "name": "stderr",
     "output_type": "stream",
     "text": [
      "C:\\ProgramData\\Anaconda3\\lib\\site-packages\\seaborn\\distributions.py:2619: FutureWarning: `distplot` is a deprecated function and will be removed in a future version. Please adapt your code to use either `displot` (a figure-level function with similar flexibility) or `histplot` (an axes-level function for histograms).\n",
      "  warnings.warn(msg, FutureWarning)\n",
      "C:\\Users\\User\\AppData\\Local\\Temp/ipykernel_1976/49188110.py:9: UserWarning: Tight layout not applied. tight_layout cannot make axes width small enough to accommodate all axes decorations\n",
      "  plt.tight_layout()\n"
     ]
    },
    {
     "data": {
      "image/png": "[encoded data removed]",
      "text/plain": [
       "<Figure size 432x288 with 1 Axes>"
      ]
     },
     "metadata": {
      "needs_background": "light"
     },
     "output_type": "display_data"
    },
    {
     "name": "stderr",
     "output_type": "stream",
     "text": [
      "C:\\ProgramData\\Anaconda3\\lib\\site-packages\\seaborn\\distributions.py:2619: FutureWarning: `distplot` is a deprecated function and will be removed in a future version. Please adapt your code to use either `displot` (a figure-level function with similar flexibility) or `histplot` (an axes-level function for histograms).\n",
      "  warnings.warn(msg, FutureWarning)\n",
      "C:\\Users\\User\\AppData\\Local\\Temp/ipykernel_1976/49188110.py:9: UserWarning: Tight layout not applied. tight_layout cannot make axes width small enough to accommodate all axes decorations\n",
      "  plt.tight_layout()\n"
     ]
    },
    {
     "data": {
      "image/png": "[encoded data removed]",
      "text/plain": [
       "<Figure size 432x288 with 1 Axes>"
      ]
     },
     "metadata": {
      "needs_background": "light"
     },
     "output_type": "display_data"
    },
    {
     "name": "stderr",
     "output_type": "stream",
     "text": [
      "C:\\ProgramData\\Anaconda3\\lib\\site-packages\\seaborn\\distributions.py:2619: FutureWarning: `distplot` is a deprecated function and will be removed in a future version. Please adapt your code to use either `displot` (a figure-level function with similar flexibility) or `histplot` (an axes-level function for histograms).\n",
      "  warnings.warn(msg, FutureWarning)\n",
      "C:\\Users\\User\\AppData\\Local\\Temp/ipykernel_1976/49188110.py:9: UserWarning: Tight layout not applied. tight_layout cannot make axes width small enough to accommodate all axes decorations\n",
      "  plt.tight_layout()\n"
     ]
    },
    {
     "data": {
      "image/png": "[encoded data removed]",
      "text/plain": [
       "<Figure size 432x288 with 1 Axes>"
      ]
     },
     "metadata": {
      "needs_background": "light"
     },
     "output_type": "display_data"
    },
    {
     "name": "stderr",
     "output_type": "stream",
     "text": [
      "C:\\ProgramData\\Anaconda3\\lib\\site-packages\\seaborn\\distributions.py:2619: FutureWarning: `distplot` is a deprecated function and will be removed in a future version. Please adapt your code to use either `displot` (a figure-level function with similar flexibility) or `histplot` (an axes-level function for histograms).\n",
      "  warnings.warn(msg, FutureWarning)\n",
      "C:\\Users\\User\\AppData\\Local\\Temp/ipykernel_1976/49188110.py:9: UserWarning: Tight layout not applied. tight_layout cannot make axes width small enough to accommodate all axes decorations\n",
      "  plt.tight_layout()\n"
     ]
    },
    {
     "data": {
      "image/png": "[encoded data removed]",
      "text/plain": [
       "<Figure size 432x288 with 1 Axes>"
      ]
     },
     "metadata": {
      "needs_background": "light"
     },
     "output_type": "display_data"
    },
    {
     "name": "stderr",
     "output_type": "stream",
     "text": [
      "C:\\ProgramData\\Anaconda3\\lib\\site-packages\\seaborn\\distributions.py:2619: FutureWarning: `distplot` is a deprecated function and will be removed in a future version. Please adapt your code to use either `displot` (a figure-level function with similar flexibility) or `histplot` (an axes-level function for histograms).\n",
      "  warnings.warn(msg, FutureWarning)\n",
      "C:\\Users\\User\\AppData\\Local\\Temp/ipykernel_1976/49188110.py:9: UserWarning: Tight layout not applied. tight_layout cannot make axes width small enough to accommodate all axes decorations\n",
      "  plt.tight_layout()\n"
     ]
    },
    {
     "data": {
      "image/png": "[encoded data removed]",
      "text/plain": [
       "<Figure size 432x288 with 1 Axes>"
      ]
     },
     "metadata": {
      "needs_background": "light"
     },
     "output_type": "display_data"
    },
    {
     "name": "stderr",
     "output_type": "stream",
     "text": [
      "C:\\ProgramData\\Anaconda3\\lib\\site-packages\\seaborn\\distributions.py:2619: FutureWarning: `distplot` is a deprecated function and will be removed in a future version. Please adapt your code to use either `displot` (a figure-level function with similar flexibility) or `histplot` (an axes-level function for histograms).\n",
      "  warnings.warn(msg, FutureWarning)\n"
     ]
    },
    {
     "data": {
      "image/png": "[encoded data removed]",
      "text/plain": [
       "<Figure size 432x288 with 1 Axes>"
      ]
     },
     "metadata": {
      "needs_background": "light"
     },
     "output_type": "display_data"
    },
    {
     "name": "stderr",
     "output_type": "stream",
     "text": [
      "C:\\ProgramData\\Anaconda3\\lib\\site-packages\\seaborn\\distributions.py:2619: FutureWarning: `distplot` is a deprecated function and will be removed in a future version. Please adapt your code to use either `displot` (a figure-level function with similar flexibility) or `histplot` (an axes-level function for histograms).\n",
      "  warnings.warn(msg, FutureWarning)\n",
      "C:\\Users\\User\\AppData\\Local\\Temp/ipykernel_1976/49188110.py:9: UserWarning: Tight layout not applied. tight_layout cannot make axes width small enough to accommodate all axes decorations\n",
      "  plt.tight_layout()\n"
     ]
    },
    {
     "data": {
      "image/png": "[encoded data removed]",
      "text/plain": [
       "<Figure size 432x288 with 1 Axes>"
      ]
     },
     "metadata": {
      "needs_background": "light"
     },
     "output_type": "display_data"
    },
    {
     "name": "stderr",
     "output_type": "stream",
     "text": [
      "C:\\ProgramData\\Anaconda3\\lib\\site-packages\\seaborn\\distributions.py:2619: FutureWarning: `distplot` is a deprecated function and will be removed in a future version. Please adapt your code to use either `displot` (a figure-level function with similar flexibility) or `histplot` (an axes-level function for histograms).\n",
      "  warnings.warn(msg, FutureWarning)\n",
      "C:\\Users\\User\\AppData\\Local\\Temp/ipykernel_1976/49188110.py:9: UserWarning: Tight layout not applied. tight_layout cannot make axes width small enough to accommodate all axes decorations\n",
      "  plt.tight_layout()\n"
     ]
    },
    {
     "data": {
      "image/png": "[encoded data removed]",
      "text/plain": [
       "<Figure size 432x288 with 1 Axes>"
      ]
     },
     "metadata": {
      "needs_background": "light"
     },
     "output_type": "display_data"
    },
    {
     "name": "stderr",
     "output_type": "stream",
     "text": [
      "C:\\ProgramData\\Anaconda3\\lib\\site-packages\\seaborn\\distributions.py:2619: FutureWarning: `distplot` is a deprecated function and will be removed in a future version. Please adapt your code to use either `displot` (a figure-level function with similar flexibility) or `histplot` (an axes-level function for histograms).\n",
      "  warnings.warn(msg, FutureWarning)\n",
      "C:\\Users\\User\\AppData\\Local\\Temp/ipykernel_1976/49188110.py:9: UserWarning: Tight layout not applied. tight_layout cannot make axes width small enough to accommodate all axes decorations\n",
      "  plt.tight_layout()\n"
     ]
    },
    {
     "data": {
      "image/png": "[encoded data removed]",
      "text/plain": [
       "<Figure size 432x288 with 1 Axes>"
      ]
     },
     "metadata": {
      "needs_background": "light"
     },
     "output_type": "display_data"
    },
    {
     "name": "stderr",
     "output_type": "stream",
     "text": [
      "C:\\ProgramData\\Anaconda3\\lib\\site-packages\\seaborn\\distributions.py:2619: FutureWarning: `distplot` is a deprecated function and will be removed in a future version. Please adapt your code to use either `displot` (a figure-level function with similar flexibility) or `histplot` (an axes-level function for histograms).\n",
      "  warnings.warn(msg, FutureWarning)\n"
     ]
    },
    {
     "data": {
      "image/png": "[encoded data removed]",
      "text/plain": [
       "<Figure size 432x288 with 1 Axes>"
      ]
     },
     "metadata": {
      "needs_background": "light"
     },
     "output_type": "display_data"
    },
    {
     "name": "stderr",
     "output_type": "stream",
     "text": [
      "C:\\ProgramData\\Anaconda3\\lib\\site-packages\\seaborn\\distributions.py:2619: FutureWarning: `distplot` is a deprecated function and will be removed in a future version. Please adapt your code to use either `displot` (a figure-level function with similar flexibility) or `histplot` (an axes-level function for histograms).\n",
      "  warnings.warn(msg, FutureWarning)\n",
      "C:\\Users\\User\\AppData\\Local\\Temp/ipykernel_1976/49188110.py:9: UserWarning: Tight layout not applied. tight_layout cannot make axes width small enough to accommodate all axes decorations\n",
      "  plt.tight_layout()\n"
     ]
    },
    {
     "data": {
      "image/png": "[encoded data removed]",
      "text/plain": [
       "<Figure size 432x288 with 1 Axes>"
      ]
     },
     "metadata": {
      "needs_background": "light"
     },
     "output_type": "display_data"
    },
    {
     "name": "stderr",
     "output_type": "stream",
     "text": [
      "C:\\ProgramData\\Anaconda3\\lib\\site-packages\\seaborn\\distributions.py:2619: FutureWarning: `distplot` is a deprecated function and will be removed in a future version. Please adapt your code to use either `displot` (a figure-level function with similar flexibility) or `histplot` (an axes-level function for histograms).\n",
      "  warnings.warn(msg, FutureWarning)\n",
      "C:\\Users\\User\\AppData\\Local\\Temp/ipykernel_1976/49188110.py:9: UserWarning: Tight layout not applied. tight_layout cannot make axes width small enough to accommodate all axes decorations\n",
      "  plt.tight_layout()\n"
     ]
    },
    {
     "data": {
      "image/png": "[encoded data removed]",
      "text/plain": [
       "<Figure size 432x288 with 1 Axes>"
      ]
     },
     "metadata": {
      "needs_background": "light"
     },
     "output_type": "display_data"
    },
    {
     "name": "stderr",
     "output_type": "stream",
     "text": [
      "C:\\ProgramData\\Anaconda3\\lib\\site-packages\\seaborn\\distributions.py:2619: FutureWarning: `distplot` is a deprecated function and will be removed in a future version. Please adapt your code to use either `displot` (a figure-level function with similar flexibility) or `histplot` (an axes-level function for histograms).\n",
      "  warnings.warn(msg, FutureWarning)\n",
      "C:\\Users\\User\\AppData\\Local\\Temp/ipykernel_1976/49188110.py:9: UserWarning: Tight layout not applied. tight_layout cannot make axes width small enough to accommodate all axes decorations\n",
      "  plt.tight_layout()\n"
     ]
    },
    {
     "data": {
      "image/png": "[encoded data removed]",
      "text/plain": [
       "<Figure size 432x288 with 1 Axes>"
      ]
     },
     "metadata": {
      "needs_background": "light"
     },
     "output_type": "display_data"
    },
    {
     "name": "stderr",
     "output_type": "stream",
     "text": [
      "C:\\ProgramData\\Anaconda3\\lib\\site-packages\\seaborn\\distributions.py:2619: FutureWarning: `distplot` is a deprecated function and will be removed in a future version. Please adapt your code to use either `displot` (a figure-level function with similar flexibility) or `histplot` (an axes-level function for histograms).\n",
      "  warnings.warn(msg, FutureWarning)\n",
      "C:\\Users\\User\\AppData\\Local\\Temp/ipykernel_1976/49188110.py:9: UserWarning: Tight layout not applied. tight_layout cannot make axes width small enough to accommodate all axes decorations\n",
      "  plt.tight_layout()\n"
     ]
    },
    {
     "data": {
      "image/png": "[encoded data removed]",
      "text/plain": [
       "<Figure size 432x288 with 1 Axes>"
      ]
     },
     "metadata": {
      "needs_background": "light"
     },
     "output_type": "display_data"
    },
    {
     "name": "stderr",
     "output_type": "stream",
     "text": [
      "C:\\ProgramData\\Anaconda3\\lib\\site-packages\\seaborn\\distributions.py:2619: FutureWarning: `distplot` is a deprecated function and will be removed in a future version. Please adapt your code to use either `displot` (a figure-level function with similar flexibility) or `histplot` (an axes-level function for histograms).\n",
      "  warnings.warn(msg, FutureWarning)\n",
      "C:\\Users\\User\\AppData\\Local\\Temp/ipykernel_1976/49188110.py:9: UserWarning: Tight layout not applied. tight_layout cannot make axes width small enough to accommodate all axes decorations\n",
      "  plt.tight_layout()\n"
     ]
    },
    {
     "data": {
      "image/png": "[encoded data removed]",
      "text/plain": [
       "<Figure size 432x288 with 1 Axes>"
      ]
     },
     "metadata": {
      "needs_background": "light"
     },
     "output_type": "display_data"
    }
   ],
   "source": [
    "plt.figure(figsize=(20,15),facecolor=\"red\")\n",
    "plotnumber=1\n",
    "for column in df:\n",
    "    if plotnumber<=44:\n",
    "        ax=plt.subplot(4,11,plotnumber)\n",
    "    sns.distplot(df[column])\n",
    "    plt.xlabel(column,fontsize=20)\n",
    "    plotnumber+=1\n",
    "    plt.tight_layout()\n",
    "    plt.show()"
   ]
  },
  {
   "cell_type": "code",
   "execution_count": 103,
   "id": "d4808adf",
   "metadata": {},
   "outputs": [],
   "source": [
    "import seaborn as sns"
   ]
  },
  {
   "cell_type": "code",
   "execution_count": 104,
   "id": "a64bc79e",
   "metadata": {},
   "outputs": [],
   "source": [
    "corr=df.corr()"
   ]
  },
  {
   "cell_type": "code",
   "execution_count": 105,
   "id": "d7008073",
   "metadata": {},
   "outputs": [
    {
     "data": {
      "text/html": [
       "<div>\n",
       "<style scoped>\n",
       "    .dataframe tbody tr th:only-of-type {\n",
       "        vertical-align: middle;\n",
       "    }\n",
       "\n",
       "    .dataframe tbody tr th {\n",
       "        vertical-align: top;\n",
       "    }\n",
       "\n",
       "    .dataframe thead th {\n",
       "        text-align: right;\n",
       "    }\n",
       "</style>\n",
       "<table border=\"1\" class=\"dataframe\">\n",
       "  <thead>\n",
       "    <tr style=\"text-align: right;\">\n",
       "      <th></th>\n",
       "      <th>Seat No.</th>\n",
       "      <th>PH-121</th>\n",
       "      <th>HS-101</th>\n",
       "      <th>CY-105</th>\n",
       "      <th>HS-105/12</th>\n",
       "      <th>MT-111</th>\n",
       "      <th>CS-105</th>\n",
       "      <th>CS-106</th>\n",
       "      <th>EL-102</th>\n",
       "      <th>EE-119</th>\n",
       "      <th>...</th>\n",
       "      <th>CS-312</th>\n",
       "      <th>CS-317</th>\n",
       "      <th>CS-403</th>\n",
       "      <th>CS-421</th>\n",
       "      <th>CS-406</th>\n",
       "      <th>CS-414</th>\n",
       "      <th>CS-419</th>\n",
       "      <th>CS-423</th>\n",
       "      <th>CS-412</th>\n",
       "      <th>CGPA</th>\n",
       "    </tr>\n",
       "  </thead>\n",
       "  <tbody>\n",
       "    <tr>\n",
       "      <th>Seat No.</th>\n",
       "      <td>1.000000</td>\n",
       "      <td>0.068592</td>\n",
       "      <td>-0.044036</td>\n",
       "      <td>-0.263444</td>\n",
       "      <td>-0.261563</td>\n",
       "      <td>-0.200722</td>\n",
       "      <td>0.000623</td>\n",
       "      <td>-0.311303</td>\n",
       "      <td>-0.034679</td>\n",
       "      <td>0.041367</td>\n",
       "      <td>...</td>\n",
       "      <td>-0.460327</td>\n",
       "      <td>-0.067172</td>\n",
       "      <td>-0.420260</td>\n",
       "      <td>-0.218206</td>\n",
       "      <td>0.372300</td>\n",
       "      <td>0.483884</td>\n",
       "      <td>-0.124479</td>\n",
       "      <td>-0.007148</td>\n",
       "      <td>0.367683</td>\n",
       "      <td>0.054342</td>\n",
       "    </tr>\n",
       "    <tr>\n",
       "      <th>PH-121</th>\n",
       "      <td>0.068592</td>\n",
       "      <td>1.000000</td>\n",
       "      <td>0.382436</td>\n",
       "      <td>0.557843</td>\n",
       "      <td>0.498561</td>\n",
       "      <td>0.468968</td>\n",
       "      <td>0.609990</td>\n",
       "      <td>0.293963</td>\n",
       "      <td>0.423942</td>\n",
       "      <td>0.579964</td>\n",
       "      <td>...</td>\n",
       "      <td>0.038184</td>\n",
       "      <td>0.464022</td>\n",
       "      <td>0.321264</td>\n",
       "      <td>0.290351</td>\n",
       "      <td>0.280166</td>\n",
       "      <td>0.152437</td>\n",
       "      <td>0.462770</td>\n",
       "      <td>0.094921</td>\n",
       "      <td>0.293815</td>\n",
       "      <td>-0.663135</td>\n",
       "    </tr>\n",
       "    <tr>\n",
       "      <th>HS-101</th>\n",
       "      <td>-0.044036</td>\n",
       "      <td>0.382436</td>\n",
       "      <td>1.000000</td>\n",
       "      <td>0.335074</td>\n",
       "      <td>0.473132</td>\n",
       "      <td>0.432742</td>\n",
       "      <td>0.400713</td>\n",
       "      <td>0.312019</td>\n",
       "      <td>0.349412</td>\n",
       "      <td>0.309697</td>\n",
       "      <td>...</td>\n",
       "      <td>0.213380</td>\n",
       "      <td>0.364250</td>\n",
       "      <td>0.229546</td>\n",
       "      <td>0.301934</td>\n",
       "      <td>0.265551</td>\n",
       "      <td>0.225977</td>\n",
       "      <td>0.284668</td>\n",
       "      <td>0.228103</td>\n",
       "      <td>0.226039</td>\n",
       "      <td>-0.537170</td>\n",
       "    </tr>\n",
       "    <tr>\n",
       "      <th>CY-105</th>\n",
       "      <td>-0.263444</td>\n",
       "      <td>0.557843</td>\n",
       "      <td>0.335074</td>\n",
       "      <td>1.000000</td>\n",
       "      <td>0.510123</td>\n",
       "      <td>0.538380</td>\n",
       "      <td>0.578573</td>\n",
       "      <td>0.378223</td>\n",
       "      <td>0.447539</td>\n",
       "      <td>0.467250</td>\n",
       "      <td>...</td>\n",
       "      <td>0.261555</td>\n",
       "      <td>0.472137</td>\n",
       "      <td>0.464575</td>\n",
       "      <td>0.349827</td>\n",
       "      <td>0.129957</td>\n",
       "      <td>0.008774</td>\n",
       "      <td>0.430053</td>\n",
       "      <td>0.120885</td>\n",
       "      <td>0.064912</td>\n",
       "      <td>-0.658282</td>\n",
       "    </tr>\n",
       "    <tr>\n",
       "      <th>HS-105/12</th>\n",
       "      <td>-0.261563</td>\n",
       "      <td>0.498561</td>\n",
       "      <td>0.473132</td>\n",
       "      <td>0.510123</td>\n",
       "      <td>1.000000</td>\n",
       "      <td>0.494731</td>\n",
       "      <td>0.482406</td>\n",
       "      <td>0.499093</td>\n",
       "      <td>0.360304</td>\n",
       "      <td>0.400303</td>\n",
       "      <td>...</td>\n",
       "      <td>0.263143</td>\n",
       "      <td>0.478816</td>\n",
       "      <td>0.451907</td>\n",
       "      <td>0.415946</td>\n",
       "      <td>0.168150</td>\n",
       "      <td>0.142806</td>\n",
       "      <td>0.465352</td>\n",
       "      <td>0.235029</td>\n",
       "      <td>0.153293</td>\n",
       "      <td>-0.613989</td>\n",
       "    </tr>\n",
       "    <tr>\n",
       "      <th>MT-111</th>\n",
       "      <td>-0.200722</td>\n",
       "      <td>0.468968</td>\n",
       "      <td>0.432742</td>\n",
       "      <td>0.538380</td>\n",
       "      <td>0.494731</td>\n",
       "      <td>1.000000</td>\n",
       "      <td>0.393684</td>\n",
       "      <td>0.500729</td>\n",
       "      <td>0.555895</td>\n",
       "      <td>0.409161</td>\n",
       "      <td>...</td>\n",
       "      <td>0.467946</td>\n",
       "      <td>0.555098</td>\n",
       "      <td>0.410540</td>\n",
       "      <td>0.511463</td>\n",
       "      <td>0.300391</td>\n",
       "      <td>0.228637</td>\n",
       "      <td>0.502473</td>\n",
       "      <td>0.400679</td>\n",
       "      <td>0.269792</td>\n",
       "      <td>-0.730095</td>\n",
       "    </tr>\n",
       "    <tr>\n",
       "      <th>CS-105</th>\n",
       "      <td>0.000623</td>\n",
       "      <td>0.609990</td>\n",
       "      <td>0.400713</td>\n",
       "      <td>0.578573</td>\n",
       "      <td>0.482406</td>\n",
       "      <td>0.393684</td>\n",
       "      <td>1.000000</td>\n",
       "      <td>0.286324</td>\n",
       "      <td>0.353949</td>\n",
       "      <td>0.507357</td>\n",
       "      <td>...</td>\n",
       "      <td>0.059711</td>\n",
       "      <td>0.387639</td>\n",
       "      <td>0.279329</td>\n",
       "      <td>0.236345</td>\n",
       "      <td>0.237615</td>\n",
       "      <td>0.121965</td>\n",
       "      <td>0.306827</td>\n",
       "      <td>0.045134</td>\n",
       "      <td>0.179777</td>\n",
       "      <td>-0.613169</td>\n",
       "    </tr>\n",
       "    <tr>\n",
       "      <th>CS-106</th>\n",
       "      <td>-0.311303</td>\n",
       "      <td>0.293963</td>\n",
       "      <td>0.312019</td>\n",
       "      <td>0.378223</td>\n",
       "      <td>0.499093</td>\n",
       "      <td>0.500729</td>\n",
       "      <td>0.286324</td>\n",
       "      <td>1.000000</td>\n",
       "      <td>0.338645</td>\n",
       "      <td>0.269895</td>\n",
       "      <td>...</td>\n",
       "      <td>0.450752</td>\n",
       "      <td>0.416562</td>\n",
       "      <td>0.426402</td>\n",
       "      <td>0.397195</td>\n",
       "      <td>0.129554</td>\n",
       "      <td>0.108916</td>\n",
       "      <td>0.421989</td>\n",
       "      <td>0.339963</td>\n",
       "      <td>0.185782</td>\n",
       "      <td>-0.534995</td>\n",
       "    </tr>\n",
       "    <tr>\n",
       "      <th>EL-102</th>\n",
       "      <td>-0.034679</td>\n",
       "      <td>0.423942</td>\n",
       "      <td>0.349412</td>\n",
       "      <td>0.447539</td>\n",
       "      <td>0.360304</td>\n",
       "      <td>0.555895</td>\n",
       "      <td>0.353949</td>\n",
       "      <td>0.338645</td>\n",
       "      <td>1.000000</td>\n",
       "      <td>0.448908</td>\n",
       "      <td>...</td>\n",
       "      <td>0.301324</td>\n",
       "      <td>0.466556</td>\n",
       "      <td>0.304240</td>\n",
       "      <td>0.368959</td>\n",
       "      <td>0.253133</td>\n",
       "      <td>0.242234</td>\n",
       "      <td>0.379308</td>\n",
       "      <td>0.369173</td>\n",
       "      <td>0.265289</td>\n",
       "      <td>-0.642262</td>\n",
       "    </tr>\n",
       "    <tr>\n",
       "      <th>EE-119</th>\n",
       "      <td>0.041367</td>\n",
       "      <td>0.579964</td>\n",
       "      <td>0.309697</td>\n",
       "      <td>0.467250</td>\n",
       "      <td>0.400303</td>\n",
       "      <td>0.409161</td>\n",
       "      <td>0.507357</td>\n",
       "      <td>0.269895</td>\n",
       "      <td>0.448908</td>\n",
       "      <td>1.000000</td>\n",
       "      <td>...</td>\n",
       "      <td>0.156809</td>\n",
       "      <td>0.445496</td>\n",
       "      <td>0.341988</td>\n",
       "      <td>0.359230</td>\n",
       "      <td>0.297664</td>\n",
       "      <td>0.214165</td>\n",
       "      <td>0.465913</td>\n",
       "      <td>0.244615</td>\n",
       "      <td>0.320746</td>\n",
       "      <td>-0.646829</td>\n",
       "    </tr>\n",
       "    <tr>\n",
       "      <th>ME-107</th>\n",
       "      <td>0.076715</td>\n",
       "      <td>0.533558</td>\n",
       "      <td>0.336545</td>\n",
       "      <td>0.464418</td>\n",
       "      <td>0.320137</td>\n",
       "      <td>0.471685</td>\n",
       "      <td>0.455470</td>\n",
       "      <td>0.281233</td>\n",
       "      <td>0.461690</td>\n",
       "      <td>0.572964</td>\n",
       "      <td>...</td>\n",
       "      <td>0.199848</td>\n",
       "      <td>0.462568</td>\n",
       "      <td>0.336647</td>\n",
       "      <td>0.345832</td>\n",
       "      <td>0.300913</td>\n",
       "      <td>0.154184</td>\n",
       "      <td>0.440407</td>\n",
       "      <td>0.220977</td>\n",
       "      <td>0.293638</td>\n",
       "      <td>-0.663023</td>\n",
       "    </tr>\n",
       "    <tr>\n",
       "      <th>CS-107</th>\n",
       "      <td>-0.068288</td>\n",
       "      <td>0.477761</td>\n",
       "      <td>0.495906</td>\n",
       "      <td>0.481277</td>\n",
       "      <td>0.540405</td>\n",
       "      <td>0.488977</td>\n",
       "      <td>0.503239</td>\n",
       "      <td>0.422237</td>\n",
       "      <td>0.454290</td>\n",
       "      <td>0.390834</td>\n",
       "      <td>...</td>\n",
       "      <td>0.191575</td>\n",
       "      <td>0.413176</td>\n",
       "      <td>0.344073</td>\n",
       "      <td>0.354277</td>\n",
       "      <td>0.320558</td>\n",
       "      <td>0.238839</td>\n",
       "      <td>0.326423</td>\n",
       "      <td>0.210040</td>\n",
       "      <td>0.256777</td>\n",
       "      <td>-0.615309</td>\n",
       "    </tr>\n",
       "    <tr>\n",
       "      <th>HS-205/20</th>\n",
       "      <td>0.252816</td>\n",
       "      <td>0.296428</td>\n",
       "      <td>0.178344</td>\n",
       "      <td>0.261281</td>\n",
       "      <td>0.179766</td>\n",
       "      <td>0.328574</td>\n",
       "      <td>0.192982</td>\n",
       "      <td>0.115335</td>\n",
       "      <td>0.368922</td>\n",
       "      <td>0.339430</td>\n",
       "      <td>...</td>\n",
       "      <td>0.103594</td>\n",
       "      <td>0.379326</td>\n",
       "      <td>0.135639</td>\n",
       "      <td>0.216016</td>\n",
       "      <td>0.296059</td>\n",
       "      <td>0.342452</td>\n",
       "      <td>0.281403</td>\n",
       "      <td>0.311241</td>\n",
       "      <td>0.291550</td>\n",
       "      <td>-0.460525</td>\n",
       "    </tr>\n",
       "    <tr>\n",
       "      <th>MT-222</th>\n",
       "      <td>-0.025200</td>\n",
       "      <td>0.551805</td>\n",
       "      <td>0.391699</td>\n",
       "      <td>0.485371</td>\n",
       "      <td>0.459571</td>\n",
       "      <td>0.499415</td>\n",
       "      <td>0.477302</td>\n",
       "      <td>0.362293</td>\n",
       "      <td>0.451722</td>\n",
       "      <td>0.455881</td>\n",
       "      <td>...</td>\n",
       "      <td>0.265200</td>\n",
       "      <td>0.530873</td>\n",
       "      <td>0.381860</td>\n",
       "      <td>0.388496</td>\n",
       "      <td>0.267742</td>\n",
       "      <td>0.190067</td>\n",
       "      <td>0.452048</td>\n",
       "      <td>0.289483</td>\n",
       "      <td>0.300805</td>\n",
       "      <td>-0.656320</td>\n",
       "    </tr>\n",
       "    <tr>\n",
       "      <th>EE-222</th>\n",
       "      <td>0.256054</td>\n",
       "      <td>0.529273</td>\n",
       "      <td>0.381091</td>\n",
       "      <td>0.394398</td>\n",
       "      <td>0.379369</td>\n",
       "      <td>0.393494</td>\n",
       "      <td>0.487650</td>\n",
       "      <td>0.185709</td>\n",
       "      <td>0.402440</td>\n",
       "      <td>0.444792</td>\n",
       "      <td>...</td>\n",
       "      <td>0.059889</td>\n",
       "      <td>0.456051</td>\n",
       "      <td>0.214011</td>\n",
       "      <td>0.302700</td>\n",
       "      <td>0.412077</td>\n",
       "      <td>0.331988</td>\n",
       "      <td>0.323025</td>\n",
       "      <td>0.202543</td>\n",
       "      <td>0.361992</td>\n",
       "      <td>-0.575335</td>\n",
       "    </tr>\n",
       "    <tr>\n",
       "      <th>MT-224</th>\n",
       "      <td>-0.126782</td>\n",
       "      <td>0.348024</td>\n",
       "      <td>0.265585</td>\n",
       "      <td>0.437339</td>\n",
       "      <td>0.392068</td>\n",
       "      <td>0.567848</td>\n",
       "      <td>0.259561</td>\n",
       "      <td>0.383993</td>\n",
       "      <td>0.482855</td>\n",
       "      <td>0.418834</td>\n",
       "      <td>...</td>\n",
       "      <td>0.505537</td>\n",
       "      <td>0.604406</td>\n",
       "      <td>0.484533</td>\n",
       "      <td>0.568335</td>\n",
       "      <td>0.302246</td>\n",
       "      <td>0.310787</td>\n",
       "      <td>0.539805</td>\n",
       "      <td>0.516490</td>\n",
       "      <td>0.348210</td>\n",
       "      <td>-0.692696</td>\n",
       "    </tr>\n",
       "    <tr>\n",
       "      <th>CS-210</th>\n",
       "      <td>-0.080824</td>\n",
       "      <td>0.513314</td>\n",
       "      <td>0.322239</td>\n",
       "      <td>0.489937</td>\n",
       "      <td>0.462070</td>\n",
       "      <td>0.571972</td>\n",
       "      <td>0.440588</td>\n",
       "      <td>0.410678</td>\n",
       "      <td>0.476998</td>\n",
       "      <td>0.492919</td>\n",
       "      <td>...</td>\n",
       "      <td>0.415505</td>\n",
       "      <td>0.642069</td>\n",
       "      <td>0.477066</td>\n",
       "      <td>0.515188</td>\n",
       "      <td>0.355308</td>\n",
       "      <td>0.279121</td>\n",
       "      <td>0.569092</td>\n",
       "      <td>0.439021</td>\n",
       "      <td>0.386686</td>\n",
       "      <td>-0.761468</td>\n",
       "    </tr>\n",
       "    <tr>\n",
       "      <th>CS-211</th>\n",
       "      <td>-0.259250</td>\n",
       "      <td>0.329882</td>\n",
       "      <td>0.335788</td>\n",
       "      <td>0.453911</td>\n",
       "      <td>0.352640</td>\n",
       "      <td>0.556099</td>\n",
       "      <td>0.342449</td>\n",
       "      <td>0.358101</td>\n",
       "      <td>0.491606</td>\n",
       "      <td>0.448275</td>\n",
       "      <td>...</td>\n",
       "      <td>0.504395</td>\n",
       "      <td>0.479450</td>\n",
       "      <td>0.462391</td>\n",
       "      <td>0.476016</td>\n",
       "      <td>0.138827</td>\n",
       "      <td>0.059119</td>\n",
       "      <td>0.442987</td>\n",
       "      <td>0.353945</td>\n",
       "      <td>0.164143</td>\n",
       "      <td>-0.628070</td>\n",
       "    </tr>\n",
       "    <tr>\n",
       "      <th>CS-203</th>\n",
       "      <td>0.068994</td>\n",
       "      <td>0.462853</td>\n",
       "      <td>0.263205</td>\n",
       "      <td>0.400036</td>\n",
       "      <td>0.295711</td>\n",
       "      <td>0.512505</td>\n",
       "      <td>0.410614</td>\n",
       "      <td>0.284932</td>\n",
       "      <td>0.469012</td>\n",
       "      <td>0.462981</td>\n",
       "      <td>...</td>\n",
       "      <td>0.290420</td>\n",
       "      <td>0.486190</td>\n",
       "      <td>0.314714</td>\n",
       "      <td>0.376326</td>\n",
       "      <td>0.379555</td>\n",
       "      <td>0.184029</td>\n",
       "      <td>0.452491</td>\n",
       "      <td>0.317828</td>\n",
       "      <td>0.311719</td>\n",
       "      <td>-0.644191</td>\n",
       "    </tr>\n",
       "    <tr>\n",
       "      <th>CS-214</th>\n",
       "      <td>-0.071492</td>\n",
       "      <td>0.421076</td>\n",
       "      <td>0.461156</td>\n",
       "      <td>0.463044</td>\n",
       "      <td>0.413251</td>\n",
       "      <td>0.587102</td>\n",
       "      <td>0.414244</td>\n",
       "      <td>0.431639</td>\n",
       "      <td>0.514220</td>\n",
       "      <td>0.450265</td>\n",
       "      <td>...</td>\n",
       "      <td>0.415799</td>\n",
       "      <td>0.589481</td>\n",
       "      <td>0.439022</td>\n",
       "      <td>0.492425</td>\n",
       "      <td>0.306506</td>\n",
       "      <td>0.266606</td>\n",
       "      <td>0.519670</td>\n",
       "      <td>0.405549</td>\n",
       "      <td>0.309992</td>\n",
       "      <td>-0.733848</td>\n",
       "    </tr>\n",
       "    <tr>\n",
       "      <th>EE-217</th>\n",
       "      <td>0.139128</td>\n",
       "      <td>0.423468</td>\n",
       "      <td>0.328305</td>\n",
       "      <td>0.398219</td>\n",
       "      <td>0.357855</td>\n",
       "      <td>0.514243</td>\n",
       "      <td>0.339227</td>\n",
       "      <td>0.322608</td>\n",
       "      <td>0.524913</td>\n",
       "      <td>0.373293</td>\n",
       "      <td>...</td>\n",
       "      <td>0.258029</td>\n",
       "      <td>0.479828</td>\n",
       "      <td>0.300499</td>\n",
       "      <td>0.392174</td>\n",
       "      <td>0.382265</td>\n",
       "      <td>0.387290</td>\n",
       "      <td>0.381859</td>\n",
       "      <td>0.444733</td>\n",
       "      <td>0.435291</td>\n",
       "      <td>-0.655993</td>\n",
       "    </tr>\n",
       "    <tr>\n",
       "      <th>CS-212</th>\n",
       "      <td>-0.273931</td>\n",
       "      <td>0.351823</td>\n",
       "      <td>0.340568</td>\n",
       "      <td>0.420848</td>\n",
       "      <td>0.455820</td>\n",
       "      <td>0.565169</td>\n",
       "      <td>0.321335</td>\n",
       "      <td>0.521584</td>\n",
       "      <td>0.423416</td>\n",
       "      <td>0.386493</td>\n",
       "      <td>...</td>\n",
       "      <td>0.562091</td>\n",
       "      <td>0.534102</td>\n",
       "      <td>0.532900</td>\n",
       "      <td>0.499353</td>\n",
       "      <td>0.145369</td>\n",
       "      <td>0.128958</td>\n",
       "      <td>0.554180</td>\n",
       "      <td>0.443742</td>\n",
       "      <td>0.214160</td>\n",
       "      <td>-0.642878</td>\n",
       "    </tr>\n",
       "    <tr>\n",
       "      <th>CS-215</th>\n",
       "      <td>-0.115121</td>\n",
       "      <td>0.486069</td>\n",
       "      <td>0.401812</td>\n",
       "      <td>0.512438</td>\n",
       "      <td>0.453450</td>\n",
       "      <td>0.577513</td>\n",
       "      <td>0.456677</td>\n",
       "      <td>0.368240</td>\n",
       "      <td>0.471845</td>\n",
       "      <td>0.535725</td>\n",
       "      <td>...</td>\n",
       "      <td>0.380855</td>\n",
       "      <td>0.568719</td>\n",
       "      <td>0.519688</td>\n",
       "      <td>0.516758</td>\n",
       "      <td>0.260678</td>\n",
       "      <td>0.185934</td>\n",
       "      <td>0.519954</td>\n",
       "      <td>0.352341</td>\n",
       "      <td>0.284948</td>\n",
       "      <td>-0.730460</td>\n",
       "    </tr>\n",
       "    <tr>\n",
       "      <th>MT-331</th>\n",
       "      <td>-0.272326</td>\n",
       "      <td>0.183034</td>\n",
       "      <td>0.173494</td>\n",
       "      <td>0.366648</td>\n",
       "      <td>0.259306</td>\n",
       "      <td>0.431197</td>\n",
       "      <td>0.231626</td>\n",
       "      <td>0.271685</td>\n",
       "      <td>0.332554</td>\n",
       "      <td>0.339311</td>\n",
       "      <td>...</td>\n",
       "      <td>0.532604</td>\n",
       "      <td>0.457240</td>\n",
       "      <td>0.484290</td>\n",
       "      <td>0.483297</td>\n",
       "      <td>0.194213</td>\n",
       "      <td>0.152192</td>\n",
       "      <td>0.452272</td>\n",
       "      <td>0.348775</td>\n",
       "      <td>0.157803</td>\n",
       "      <td>-0.508428</td>\n",
       "    </tr>\n",
       "    <tr>\n",
       "      <th>EF-303</th>\n",
       "      <td>-0.407249</td>\n",
       "      <td>0.196272</td>\n",
       "      <td>0.240540</td>\n",
       "      <td>0.334633</td>\n",
       "      <td>0.384338</td>\n",
       "      <td>0.410918</td>\n",
       "      <td>0.196685</td>\n",
       "      <td>0.434706</td>\n",
       "      <td>0.238987</td>\n",
       "      <td>0.246592</td>\n",
       "      <td>...</td>\n",
       "      <td>0.575705</td>\n",
       "      <td>0.477660</td>\n",
       "      <td>0.529033</td>\n",
       "      <td>0.534636</td>\n",
       "      <td>0.149362</td>\n",
       "      <td>0.099614</td>\n",
       "      <td>0.466985</td>\n",
       "      <td>0.358836</td>\n",
       "      <td>0.159979</td>\n",
       "      <td>-0.485478</td>\n",
       "    </tr>\n",
       "    <tr>\n",
       "      <th>HS-304</th>\n",
       "      <td>0.254993</td>\n",
       "      <td>0.420629</td>\n",
       "      <td>0.418026</td>\n",
       "      <td>0.323331</td>\n",
       "      <td>0.345015</td>\n",
       "      <td>0.315129</td>\n",
       "      <td>0.456401</td>\n",
       "      <td>0.136400</td>\n",
       "      <td>0.355373</td>\n",
       "      <td>0.463639</td>\n",
       "      <td>...</td>\n",
       "      <td>0.057260</td>\n",
       "      <td>0.466469</td>\n",
       "      <td>0.238471</td>\n",
       "      <td>0.357145</td>\n",
       "      <td>0.466851</td>\n",
       "      <td>0.451833</td>\n",
       "      <td>0.365033</td>\n",
       "      <td>0.294728</td>\n",
       "      <td>0.422197</td>\n",
       "      <td>-0.557912</td>\n",
       "    </tr>\n",
       "    <tr>\n",
       "      <th>CS-301</th>\n",
       "      <td>-0.229858</td>\n",
       "      <td>0.300945</td>\n",
       "      <td>0.313397</td>\n",
       "      <td>0.368489</td>\n",
       "      <td>0.415815</td>\n",
       "      <td>0.538492</td>\n",
       "      <td>0.230551</td>\n",
       "      <td>0.482070</td>\n",
       "      <td>0.407084</td>\n",
       "      <td>0.371488</td>\n",
       "      <td>...</td>\n",
       "      <td>0.593763</td>\n",
       "      <td>0.629756</td>\n",
       "      <td>0.587964</td>\n",
       "      <td>0.611391</td>\n",
       "      <td>0.290854</td>\n",
       "      <td>0.239408</td>\n",
       "      <td>0.597939</td>\n",
       "      <td>0.575295</td>\n",
       "      <td>0.334259</td>\n",
       "      <td>-0.664117</td>\n",
       "    </tr>\n",
       "    <tr>\n",
       "      <th>CS-302</th>\n",
       "      <td>0.009170</td>\n",
       "      <td>0.448213</td>\n",
       "      <td>0.345292</td>\n",
       "      <td>0.460447</td>\n",
       "      <td>0.419373</td>\n",
       "      <td>0.507059</td>\n",
       "      <td>0.426776</td>\n",
       "      <td>0.361257</td>\n",
       "      <td>0.385230</td>\n",
       "      <td>0.449561</td>\n",
       "      <td>...</td>\n",
       "      <td>0.334988</td>\n",
       "      <td>0.644657</td>\n",
       "      <td>0.411946</td>\n",
       "      <td>0.498800</td>\n",
       "      <td>0.434100</td>\n",
       "      <td>0.337895</td>\n",
       "      <td>0.514652</td>\n",
       "      <td>0.462311</td>\n",
       "      <td>0.433362</td>\n",
       "      <td>-0.696112</td>\n",
       "    </tr>\n",
       "    <tr>\n",
       "      <th>TC-383</th>\n",
       "      <td>-0.289364</td>\n",
       "      <td>0.189226</td>\n",
       "      <td>0.320385</td>\n",
       "      <td>0.300547</td>\n",
       "      <td>0.397499</td>\n",
       "      <td>0.493420</td>\n",
       "      <td>0.214507</td>\n",
       "      <td>0.496586</td>\n",
       "      <td>0.352761</td>\n",
       "      <td>0.236318</td>\n",
       "      <td>...</td>\n",
       "      <td>0.634567</td>\n",
       "      <td>0.558119</td>\n",
       "      <td>0.539614</td>\n",
       "      <td>0.575640</td>\n",
       "      <td>0.260227</td>\n",
       "      <td>0.270151</td>\n",
       "      <td>0.489024</td>\n",
       "      <td>0.557347</td>\n",
       "      <td>0.318567</td>\n",
       "      <td>-0.572329</td>\n",
       "    </tr>\n",
       "    <tr>\n",
       "      <th>MT-442</th>\n",
       "      <td>0.071706</td>\n",
       "      <td>0.443980</td>\n",
       "      <td>0.226441</td>\n",
       "      <td>0.430456</td>\n",
       "      <td>0.320701</td>\n",
       "      <td>0.404591</td>\n",
       "      <td>0.407767</td>\n",
       "      <td>0.246647</td>\n",
       "      <td>0.348731</td>\n",
       "      <td>0.451023</td>\n",
       "      <td>...</td>\n",
       "      <td>0.178545</td>\n",
       "      <td>0.505454</td>\n",
       "      <td>0.323228</td>\n",
       "      <td>0.407669</td>\n",
       "      <td>0.387047</td>\n",
       "      <td>0.204975</td>\n",
       "      <td>0.429726</td>\n",
       "      <td>0.307477</td>\n",
       "      <td>0.285828</td>\n",
       "      <td>-0.582592</td>\n",
       "    </tr>\n",
       "    <tr>\n",
       "      <th>EL-332</th>\n",
       "      <td>0.115212</td>\n",
       "      <td>0.419078</td>\n",
       "      <td>0.378717</td>\n",
       "      <td>0.353731</td>\n",
       "      <td>0.354519</td>\n",
       "      <td>0.567875</td>\n",
       "      <td>0.360826</td>\n",
       "      <td>0.356132</td>\n",
       "      <td>0.492130</td>\n",
       "      <td>0.454683</td>\n",
       "      <td>...</td>\n",
       "      <td>0.422139</td>\n",
       "      <td>0.603148</td>\n",
       "      <td>0.396810</td>\n",
       "      <td>0.555600</td>\n",
       "      <td>0.540731</td>\n",
       "      <td>0.480356</td>\n",
       "      <td>0.516521</td>\n",
       "      <td>0.550370</td>\n",
       "      <td>0.531503</td>\n",
       "      <td>-0.729609</td>\n",
       "    </tr>\n",
       "    <tr>\n",
       "      <th>CS-318</th>\n",
       "      <td>0.219585</td>\n",
       "      <td>0.441321</td>\n",
       "      <td>0.404702</td>\n",
       "      <td>0.322503</td>\n",
       "      <td>0.373775</td>\n",
       "      <td>0.370270</td>\n",
       "      <td>0.444708</td>\n",
       "      <td>0.236944</td>\n",
       "      <td>0.339214</td>\n",
       "      <td>0.372546</td>\n",
       "      <td>...</td>\n",
       "      <td>0.154800</td>\n",
       "      <td>0.520600</td>\n",
       "      <td>0.294362</td>\n",
       "      <td>0.364940</td>\n",
       "      <td>0.404959</td>\n",
       "      <td>0.360014</td>\n",
       "      <td>0.380978</td>\n",
       "      <td>0.311134</td>\n",
       "      <td>0.418929</td>\n",
       "      <td>-0.566393</td>\n",
       "    </tr>\n",
       "    <tr>\n",
       "      <th>CS-306</th>\n",
       "      <td>0.173330</td>\n",
       "      <td>0.472384</td>\n",
       "      <td>0.432533</td>\n",
       "      <td>0.362537</td>\n",
       "      <td>0.484828</td>\n",
       "      <td>0.474400</td>\n",
       "      <td>0.418766</td>\n",
       "      <td>0.338987</td>\n",
       "      <td>0.411977</td>\n",
       "      <td>0.419649</td>\n",
       "      <td>...</td>\n",
       "      <td>0.281183</td>\n",
       "      <td>0.669105</td>\n",
       "      <td>0.408304</td>\n",
       "      <td>0.529908</td>\n",
       "      <td>0.509819</td>\n",
       "      <td>0.538837</td>\n",
       "      <td>0.507447</td>\n",
       "      <td>0.470397</td>\n",
       "      <td>0.536141</td>\n",
       "      <td>-0.708299</td>\n",
       "    </tr>\n",
       "    <tr>\n",
       "      <th>CS-312</th>\n",
       "      <td>-0.460327</td>\n",
       "      <td>0.038184</td>\n",
       "      <td>0.213380</td>\n",
       "      <td>0.261555</td>\n",
       "      <td>0.263143</td>\n",
       "      <td>0.467946</td>\n",
       "      <td>0.059711</td>\n",
       "      <td>0.450752</td>\n",
       "      <td>0.301324</td>\n",
       "      <td>0.156809</td>\n",
       "      <td>...</td>\n",
       "      <td>1.000000</td>\n",
       "      <td>0.456537</td>\n",
       "      <td>0.498944</td>\n",
       "      <td>0.607455</td>\n",
       "      <td>0.161424</td>\n",
       "      <td>0.098264</td>\n",
       "      <td>0.385377</td>\n",
       "      <td>0.504769</td>\n",
       "      <td>0.214541</td>\n",
       "      <td>-0.458019</td>\n",
       "    </tr>\n",
       "    <tr>\n",
       "      <th>CS-317</th>\n",
       "      <td>-0.067172</td>\n",
       "      <td>0.464022</td>\n",
       "      <td>0.364250</td>\n",
       "      <td>0.472137</td>\n",
       "      <td>0.478816</td>\n",
       "      <td>0.555098</td>\n",
       "      <td>0.387639</td>\n",
       "      <td>0.416562</td>\n",
       "      <td>0.466556</td>\n",
       "      <td>0.445496</td>\n",
       "      <td>...</td>\n",
       "      <td>0.456537</td>\n",
       "      <td>1.000000</td>\n",
       "      <td>0.537956</td>\n",
       "      <td>0.613257</td>\n",
       "      <td>0.400331</td>\n",
       "      <td>0.336153</td>\n",
       "      <td>0.613527</td>\n",
       "      <td>0.534027</td>\n",
       "      <td>0.434136</td>\n",
       "      <td>-0.760792</td>\n",
       "    </tr>\n",
       "    <tr>\n",
       "      <th>CS-403</th>\n",
       "      <td>-0.420260</td>\n",
       "      <td>0.321264</td>\n",
       "      <td>0.229546</td>\n",
       "      <td>0.464575</td>\n",
       "      <td>0.451907</td>\n",
       "      <td>0.410540</td>\n",
       "      <td>0.279329</td>\n",
       "      <td>0.426402</td>\n",
       "      <td>0.304240</td>\n",
       "      <td>0.341988</td>\n",
       "      <td>...</td>\n",
       "      <td>0.498944</td>\n",
       "      <td>0.537956</td>\n",
       "      <td>1.000000</td>\n",
       "      <td>0.545401</td>\n",
       "      <td>0.110617</td>\n",
       "      <td>0.055530</td>\n",
       "      <td>0.604815</td>\n",
       "      <td>0.359032</td>\n",
       "      <td>0.107225</td>\n",
       "      <td>-0.544543</td>\n",
       "    </tr>\n",
       "    <tr>\n",
       "      <th>CS-421</th>\n",
       "      <td>-0.218206</td>\n",
       "      <td>0.290351</td>\n",
       "      <td>0.301934</td>\n",
       "      <td>0.349827</td>\n",
       "      <td>0.415946</td>\n",
       "      <td>0.511463</td>\n",
       "      <td>0.236345</td>\n",
       "      <td>0.397195</td>\n",
       "      <td>0.368959</td>\n",
       "      <td>0.359230</td>\n",
       "      <td>...</td>\n",
       "      <td>0.607455</td>\n",
       "      <td>0.613257</td>\n",
       "      <td>0.545401</td>\n",
       "      <td>1.000000</td>\n",
       "      <td>0.417084</td>\n",
       "      <td>0.339391</td>\n",
       "      <td>0.549727</td>\n",
       "      <td>0.531746</td>\n",
       "      <td>0.456224</td>\n",
       "      <td>-0.633001</td>\n",
       "    </tr>\n",
       "    <tr>\n",
       "      <th>CS-406</th>\n",
       "      <td>0.372300</td>\n",
       "      <td>0.280166</td>\n",
       "      <td>0.265551</td>\n",
       "      <td>0.129957</td>\n",
       "      <td>0.168150</td>\n",
       "      <td>0.300391</td>\n",
       "      <td>0.237615</td>\n",
       "      <td>0.129554</td>\n",
       "      <td>0.253133</td>\n",
       "      <td>0.297664</td>\n",
       "      <td>...</td>\n",
       "      <td>0.161424</td>\n",
       "      <td>0.400331</td>\n",
       "      <td>0.110617</td>\n",
       "      <td>0.417084</td>\n",
       "      <td>1.000000</td>\n",
       "      <td>0.521701</td>\n",
       "      <td>0.316099</td>\n",
       "      <td>0.393759</td>\n",
       "      <td>0.582496</td>\n",
       "      <td>-0.474419</td>\n",
       "    </tr>\n",
       "    <tr>\n",
       "      <th>CS-414</th>\n",
       "      <td>0.483884</td>\n",
       "      <td>0.152437</td>\n",
       "      <td>0.225977</td>\n",
       "      <td>0.008774</td>\n",
       "      <td>0.142806</td>\n",
       "      <td>0.228637</td>\n",
       "      <td>0.121965</td>\n",
       "      <td>0.108916</td>\n",
       "      <td>0.242234</td>\n",
       "      <td>0.214165</td>\n",
       "      <td>...</td>\n",
       "      <td>0.098264</td>\n",
       "      <td>0.336153</td>\n",
       "      <td>0.055530</td>\n",
       "      <td>0.339391</td>\n",
       "      <td>0.521701</td>\n",
       "      <td>1.000000</td>\n",
       "      <td>0.274729</td>\n",
       "      <td>0.450601</td>\n",
       "      <td>0.570274</td>\n",
       "      <td>-0.384003</td>\n",
       "    </tr>\n",
       "    <tr>\n",
       "      <th>CS-419</th>\n",
       "      <td>-0.124479</td>\n",
       "      <td>0.462770</td>\n",
       "      <td>0.284668</td>\n",
       "      <td>0.430053</td>\n",
       "      <td>0.465352</td>\n",
       "      <td>0.502473</td>\n",
       "      <td>0.306827</td>\n",
       "      <td>0.421989</td>\n",
       "      <td>0.379308</td>\n",
       "      <td>0.465913</td>\n",
       "      <td>...</td>\n",
       "      <td>0.385377</td>\n",
       "      <td>0.613527</td>\n",
       "      <td>0.604815</td>\n",
       "      <td>0.549727</td>\n",
       "      <td>0.316099</td>\n",
       "      <td>0.274729</td>\n",
       "      <td>1.000000</td>\n",
       "      <td>0.460992</td>\n",
       "      <td>0.292648</td>\n",
       "      <td>-0.641804</td>\n",
       "    </tr>\n",
       "    <tr>\n",
       "      <th>CS-423</th>\n",
       "      <td>-0.007148</td>\n",
       "      <td>0.094921</td>\n",
       "      <td>0.228103</td>\n",
       "      <td>0.120885</td>\n",
       "      <td>0.235029</td>\n",
       "      <td>0.400679</td>\n",
       "      <td>0.045134</td>\n",
       "      <td>0.339963</td>\n",
       "      <td>0.369173</td>\n",
       "      <td>0.244615</td>\n",
       "      <td>...</td>\n",
       "      <td>0.504769</td>\n",
       "      <td>0.534027</td>\n",
       "      <td>0.359032</td>\n",
       "      <td>0.531746</td>\n",
       "      <td>0.393759</td>\n",
       "      <td>0.450601</td>\n",
       "      <td>0.460992</td>\n",
       "      <td>1.000000</td>\n",
       "      <td>0.470065</td>\n",
       "      <td>-0.520968</td>\n",
       "    </tr>\n",
       "    <tr>\n",
       "      <th>CS-412</th>\n",
       "      <td>0.367683</td>\n",
       "      <td>0.293815</td>\n",
       "      <td>0.226039</td>\n",
       "      <td>0.064912</td>\n",
       "      <td>0.153293</td>\n",
       "      <td>0.269792</td>\n",
       "      <td>0.179777</td>\n",
       "      <td>0.185782</td>\n",
       "      <td>0.265289</td>\n",
       "      <td>0.320746</td>\n",
       "      <td>...</td>\n",
       "      <td>0.214541</td>\n",
       "      <td>0.434136</td>\n",
       "      <td>0.107225</td>\n",
       "      <td>0.456224</td>\n",
       "      <td>0.582496</td>\n",
       "      <td>0.570274</td>\n",
       "      <td>0.292648</td>\n",
       "      <td>0.470065</td>\n",
       "      <td>1.000000</td>\n",
       "      <td>-0.466512</td>\n",
       "    </tr>\n",
       "    <tr>\n",
       "      <th>CGPA</th>\n",
       "      <td>0.054342</td>\n",
       "      <td>-0.663135</td>\n",
       "      <td>-0.537170</td>\n",
       "      <td>-0.658282</td>\n",
       "      <td>-0.613989</td>\n",
       "      <td>-0.730095</td>\n",
       "      <td>-0.613169</td>\n",
       "      <td>-0.534995</td>\n",
       "      <td>-0.642262</td>\n",
       "      <td>-0.646829</td>\n",
       "      <td>...</td>\n",
       "      <td>-0.458019</td>\n",
       "      <td>-0.760792</td>\n",
       "      <td>-0.544543</td>\n",
       "      <td>-0.633001</td>\n",
       "      <td>-0.474419</td>\n",
       "      <td>-0.384003</td>\n",
       "      <td>-0.641804</td>\n",
       "      <td>-0.520968</td>\n",
       "      <td>-0.466512</td>\n",
       "      <td>1.000000</td>\n",
       "    </tr>\n",
       "  </tbody>\n",
       "</table>\n",
       "<p>43 rows × 43 columns</p>\n",
       "</div>"
      ],
      "text/plain": [
       "           Seat No.    PH-121    HS-101    CY-105  HS-105/12    MT-111  \\\n",
       "Seat No.   1.000000  0.068592 -0.044036 -0.263444  -0.261563 -0.200722   \n",
       "PH-121     0.068592  1.000000  0.382436  0.557843   0.498561  0.468968   \n",
       "HS-101    -0.044036  0.382436  1.000000  0.335074   0.473132  0.432742   \n",
       "CY-105    -0.263444  0.557843  0.335074  1.000000   0.510123  0.538380   \n",
       "HS-105/12 -0.261563  0.498561  0.473132  0.510123   1.000000  0.494731   \n",
       "MT-111    -0.200722  0.468968  0.432742  0.538380   0.494731  1.000000   \n",
       "CS-105     0.000623  0.609990  0.400713  0.578573   0.482406  0.393684   \n",
       "CS-106    -0.311303  0.293963  0.312019  0.378223   0.499093  0.500729   \n",
       "EL-102    -0.034679  0.423942  0.349412  0.447539   0.360304  0.555895   \n",
       "EE-119     0.041367  0.579964  0.309697  0.467250   0.400303  0.409161   \n",
       "ME-107     0.076715  0.533558  0.336545  0.464418   0.320137  0.471685   \n",
       "CS-107    -0.068288  0.477761  0.495906  0.481277   0.540405  0.488977   \n",
       "HS-205/20  0.252816  0.296428  0.178344  0.261281   0.179766  0.328574   \n",
       "MT-222    -0.025200  0.551805  0.391699  0.485371   0.459571  0.499415   \n",
       "EE-222     0.256054  0.529273  0.381091  0.394398   0.379369  0.393494   \n",
       "MT-224    -0.126782  0.348024  0.265585  0.437339   0.392068  0.567848   \n",
       "CS-210    -0.080824  0.513314  0.322239  0.489937   0.462070  0.571972   \n",
       "CS-211    -0.259250  0.329882  0.335788  0.453911   0.352640  0.556099   \n",
       "CS-203     0.068994  0.462853  0.263205  0.400036   0.295711  0.512505   \n",
       "CS-214    -0.071492  0.421076  0.461156  0.463044   0.413251  0.587102   \n",
       "EE-217     0.139128  0.423468  0.328305  0.398219   0.357855  0.514243   \n",
       "CS-212    -0.273931  0.351823  0.340568  0.420848   0.455820  0.565169   \n",
       "CS-215    -0.115121  0.486069  0.401812  0.512438   0.453450  0.577513   \n",
       "MT-331    -0.272326  0.183034  0.173494  0.366648   0.259306  0.431197   \n",
       "EF-303    -0.407249  0.196272  0.240540  0.334633   0.384338  0.410918   \n",
       "HS-304     0.254993  0.420629  0.418026  0.323331   0.345015  0.315129   \n",
       "CS-301    -0.229858  0.300945  0.313397  0.368489   0.415815  0.538492   \n",
       "CS-302     0.009170  0.448213  0.345292  0.460447   0.419373  0.507059   \n",
       "TC-383    -0.289364  0.189226  0.320385  0.300547   0.397499  0.493420   \n",
       "MT-442     0.071706  0.443980  0.226441  0.430456   0.320701  0.404591   \n",
       "EL-332     0.115212  0.419078  0.378717  0.353731   0.354519  0.567875   \n",
       "CS-318     0.219585  0.441321  0.404702  0.322503   0.373775  0.370270   \n",
       "CS-306     0.173330  0.472384  0.432533  0.362537   0.484828  0.474400   \n",
       "CS-312    -0.460327  0.038184  0.213380  0.261555   0.263143  0.467946   \n",
       "CS-317    -0.067172  0.464022  0.364250  0.472137   0.478816  0.555098   \n",
       "CS-403    -0.420260  0.321264  0.229546  0.464575   0.451907  0.410540   \n",
       "CS-421    -0.218206  0.290351  0.301934  0.349827   0.415946  0.511463   \n",
       "CS-406     0.372300  0.280166  0.265551  0.129957   0.168150  0.300391   \n",
       "CS-414     0.483884  0.152437  0.225977  0.008774   0.142806  0.228637   \n",
       "CS-419    -0.124479  0.462770  0.284668  0.430053   0.465352  0.502473   \n",
       "CS-423    -0.007148  0.094921  0.228103  0.120885   0.235029  0.400679   \n",
       "CS-412     0.367683  0.293815  0.226039  0.064912   0.153293  0.269792   \n",
       "CGPA       0.054342 -0.663135 -0.537170 -0.658282  -0.613989 -0.730095   \n",
       "\n",
       "             CS-105    CS-106    EL-102    EE-119  ...    CS-312    CS-317  \\\n",
       "Seat No.   0.000623 -0.311303 -0.034679  0.041367  ... -0.460327 -0.067172   \n",
       "PH-121     0.609990  0.293963  0.423942  0.579964  ...  0.038184  0.464022   \n",
       "HS-101     0.400713  0.312019  0.349412  0.309697  ...  0.213380  0.364250   \n",
       "CY-105     0.578573  0.378223  0.447539  0.467250  ...  0.261555  0.472137   \n",
       "HS-105/12  0.482406  0.499093  0.360304  0.400303  ...  0.263143  0.478816   \n",
       "MT-111     0.393684  0.500729  0.555895  0.409161  ...  0.467946  0.555098   \n",
       "CS-105     1.000000  0.286324  0.353949  0.507357  ...  0.059711  0.387639   \n",
       "CS-106     0.286324  1.000000  0.338645  0.269895  ...  0.450752  0.416562   \n",
       "EL-102     0.353949  0.338645  1.000000  0.448908  ...  0.301324  0.466556   \n",
       "EE-119     0.507357  0.269895  0.448908  1.000000  ...  0.156809  0.445496   \n",
       "ME-107     0.455470  0.281233  0.461690  0.572964  ...  0.199848  0.462568   \n",
       "CS-107     0.503239  0.422237  0.454290  0.390834  ...  0.191575  0.413176   \n",
       "HS-205/20  0.192982  0.115335  0.368922  0.339430  ...  0.103594  0.379326   \n",
       "MT-222     0.477302  0.362293  0.451722  0.455881  ...  0.265200  0.530873   \n",
       "EE-222     0.487650  0.185709  0.402440  0.444792  ...  0.059889  0.456051   \n",
       "MT-224     0.259561  0.383993  0.482855  0.418834  ...  0.505537  0.604406   \n",
       "CS-210     0.440588  0.410678  0.476998  0.492919  ...  0.415505  0.642069   \n",
       "CS-211     0.342449  0.358101  0.491606  0.448275  ...  0.504395  0.479450   \n",
       "CS-203     0.410614  0.284932  0.469012  0.462981  ...  0.290420  0.486190   \n",
       "CS-214     0.414244  0.431639  0.514220  0.450265  ...  0.415799  0.589481   \n",
       "EE-217     0.339227  0.322608  0.524913  0.373293  ...  0.258029  0.479828   \n",
       "CS-212     0.321335  0.521584  0.423416  0.386493  ...  0.562091  0.534102   \n",
       "CS-215     0.456677  0.368240  0.471845  0.535725  ...  0.380855  0.568719   \n",
       "MT-331     0.231626  0.271685  0.332554  0.339311  ...  0.532604  0.457240   \n",
       "EF-303     0.196685  0.434706  0.238987  0.246592  ...  0.575705  0.477660   \n",
       "HS-304     0.456401  0.136400  0.355373  0.463639  ...  0.057260  0.466469   \n",
       "CS-301     0.230551  0.482070  0.407084  0.371488  ...  0.593763  0.629756   \n",
       "CS-302     0.426776  0.361257  0.385230  0.449561  ...  0.334988  0.644657   \n",
       "TC-383     0.214507  0.496586  0.352761  0.236318  ...  0.634567  0.558119   \n",
       "MT-442     0.407767  0.246647  0.348731  0.451023  ...  0.178545  0.505454   \n",
       "EL-332     0.360826  0.356132  0.492130  0.454683  ...  0.422139  0.603148   \n",
       "CS-318     0.444708  0.236944  0.339214  0.372546  ...  0.154800  0.520600   \n",
       "CS-306     0.418766  0.338987  0.411977  0.419649  ...  0.281183  0.669105   \n",
       "CS-312     0.059711  0.450752  0.301324  0.156809  ...  1.000000  0.456537   \n",
       "CS-317     0.387639  0.416562  0.466556  0.445496  ...  0.456537  1.000000   \n",
       "CS-403     0.279329  0.426402  0.304240  0.341988  ...  0.498944  0.537956   \n",
       "CS-421     0.236345  0.397195  0.368959  0.359230  ...  0.607455  0.613257   \n",
       "CS-406     0.237615  0.129554  0.253133  0.297664  ...  0.161424  0.400331   \n",
       "CS-414     0.121965  0.108916  0.242234  0.214165  ...  0.098264  0.336153   \n",
       "CS-419     0.306827  0.421989  0.379308  0.465913  ...  0.385377  0.613527   \n",
       "CS-423     0.045134  0.339963  0.369173  0.244615  ...  0.504769  0.534027   \n",
       "CS-412     0.179777  0.185782  0.265289  0.320746  ...  0.214541  0.434136   \n",
       "CGPA      -0.613169 -0.534995 -0.642262 -0.646829  ... -0.458019 -0.760792   \n",
       "\n",
       "             CS-403    CS-421    CS-406    CS-414    CS-419    CS-423  \\\n",
       "Seat No.  -0.420260 -0.218206  0.372300  0.483884 -0.124479 -0.007148   \n",
       "PH-121     0.321264  0.290351  0.280166  0.152437  0.462770  0.094921   \n",
       "HS-101     0.229546  0.301934  0.265551  0.225977  0.284668  0.228103   \n",
       "CY-105     0.464575  0.349827  0.129957  0.008774  0.430053  0.120885   \n",
       "HS-105/12  0.451907  0.415946  0.168150  0.142806  0.465352  0.235029   \n",
       "MT-111     0.410540  0.511463  0.300391  0.228637  0.502473  0.400679   \n",
       "CS-105     0.279329  0.236345  0.237615  0.121965  0.306827  0.045134   \n",
       "CS-106     0.426402  0.397195  0.129554  0.108916  0.421989  0.339963   \n",
       "EL-102     0.304240  0.368959  0.253133  0.242234  0.379308  0.369173   \n",
       "EE-119     0.341988  0.359230  0.297664  0.214165  0.465913  0.244615   \n",
       "ME-107     0.336647  0.345832  0.300913  0.154184  0.440407  0.220977   \n",
       "CS-107     0.344073  0.354277  0.320558  0.238839  0.326423  0.210040   \n",
       "HS-205/20  0.135639  0.216016  0.296059  0.342452  0.281403  0.311241   \n",
       "MT-222     0.381860  0.388496  0.267742  0.190067  0.452048  0.289483   \n",
       "EE-222     0.214011  0.302700  0.412077  0.331988  0.323025  0.202543   \n",
       "MT-224     0.484533  0.568335  0.302246  0.310787  0.539805  0.516490   \n",
       "CS-210     0.477066  0.515188  0.355308  0.279121  0.569092  0.439021   \n",
       "CS-211     0.462391  0.476016  0.138827  0.059119  0.442987  0.353945   \n",
       "CS-203     0.314714  0.376326  0.379555  0.184029  0.452491  0.317828   \n",
       "CS-214     0.439022  0.492425  0.306506  0.266606  0.519670  0.405549   \n",
       "EE-217     0.300499  0.392174  0.382265  0.387290  0.381859  0.444733   \n",
       "CS-212     0.532900  0.499353  0.145369  0.128958  0.554180  0.443742   \n",
       "CS-215     0.519688  0.516758  0.260678  0.185934  0.519954  0.352341   \n",
       "MT-331     0.484290  0.483297  0.194213  0.152192  0.452272  0.348775   \n",
       "EF-303     0.529033  0.534636  0.149362  0.099614  0.466985  0.358836   \n",
       "HS-304     0.238471  0.357145  0.466851  0.451833  0.365033  0.294728   \n",
       "CS-301     0.587964  0.611391  0.290854  0.239408  0.597939  0.575295   \n",
       "CS-302     0.411946  0.498800  0.434100  0.337895  0.514652  0.462311   \n",
       "TC-383     0.539614  0.575640  0.260227  0.270151  0.489024  0.557347   \n",
       "MT-442     0.323228  0.407669  0.387047  0.204975  0.429726  0.307477   \n",
       "EL-332     0.396810  0.555600  0.540731  0.480356  0.516521  0.550370   \n",
       "CS-318     0.294362  0.364940  0.404959  0.360014  0.380978  0.311134   \n",
       "CS-306     0.408304  0.529908  0.509819  0.538837  0.507447  0.470397   \n",
       "CS-312     0.498944  0.607455  0.161424  0.098264  0.385377  0.504769   \n",
       "CS-317     0.537956  0.613257  0.400331  0.336153  0.613527  0.534027   \n",
       "CS-403     1.000000  0.545401  0.110617  0.055530  0.604815  0.359032   \n",
       "CS-421     0.545401  1.000000  0.417084  0.339391  0.549727  0.531746   \n",
       "CS-406     0.110617  0.417084  1.000000  0.521701  0.316099  0.393759   \n",
       "CS-414     0.055530  0.339391  0.521701  1.000000  0.274729  0.450601   \n",
       "CS-419     0.604815  0.549727  0.316099  0.274729  1.000000  0.460992   \n",
       "CS-423     0.359032  0.531746  0.393759  0.450601  0.460992  1.000000   \n",
       "CS-412     0.107225  0.456224  0.582496  0.570274  0.292648  0.470065   \n",
       "CGPA      -0.544543 -0.633001 -0.474419 -0.384003 -0.641804 -0.520968   \n",
       "\n",
       "             CS-412      CGPA  \n",
       "Seat No.   0.367683  0.054342  \n",
       "PH-121     0.293815 -0.663135  \n",
       "HS-101     0.226039 -0.537170  \n",
       "CY-105     0.064912 -0.658282  \n",
       "HS-105/12  0.153293 -0.613989  \n",
       "MT-111     0.269792 -0.730095  \n",
       "CS-105     0.179777 -0.613169  \n",
       "CS-106     0.185782 -0.534995  \n",
       "EL-102     0.265289 -0.642262  \n",
       "EE-119     0.320746 -0.646829  \n",
       "ME-107     0.293638 -0.663023  \n",
       "CS-107     0.256777 -0.615309  \n",
       "HS-205/20  0.291550 -0.460525  \n",
       "MT-222     0.300805 -0.656320  \n",
       "EE-222     0.361992 -0.575335  \n",
       "MT-224     0.348210 -0.692696  \n",
       "CS-210     0.386686 -0.761468  \n",
       "CS-211     0.164143 -0.628070  \n",
       "CS-203     0.311719 -0.644191  \n",
       "CS-214     0.309992 -0.733848  \n",
       "EE-217     0.435291 -0.655993  \n",
       "CS-212     0.214160 -0.642878  \n",
       "CS-215     0.284948 -0.730460  \n",
       "MT-331     0.157803 -0.508428  \n",
       "EF-303     0.159979 -0.485478  \n",
       "HS-304     0.422197 -0.557912  \n",
       "CS-301     0.334259 -0.664117  \n",
       "CS-302     0.433362 -0.696112  \n",
       "TC-383     0.318567 -0.572329  \n",
       "MT-442     0.285828 -0.582592  \n",
       "EL-332     0.531503 -0.729609  \n",
       "CS-318     0.418929 -0.566393  \n",
       "CS-306     0.536141 -0.708299  \n",
       "CS-312     0.214541 -0.458019  \n",
       "CS-317     0.434136 -0.760792  \n",
       "CS-403     0.107225 -0.544543  \n",
       "CS-421     0.456224 -0.633001  \n",
       "CS-406     0.582496 -0.474419  \n",
       "CS-414     0.570274 -0.384003  \n",
       "CS-419     0.292648 -0.641804  \n",
       "CS-423     0.470065 -0.520968  \n",
       "CS-412     1.000000 -0.466512  \n",
       "CGPA      -0.466512  1.000000  \n",
       "\n",
       "[43 rows x 43 columns]"
      ]
     },
     "execution_count": 105,
     "metadata": {},
     "output_type": "execute_result"
    }
   ],
   "source": [
    "corr"
   ]
  },
  {
   "cell_type": "code",
   "execution_count": 109,
   "id": "9b61baf8",
   "metadata": {},
   "outputs": [
    {
     "data": {
      "image/png": "[encoded data removed]",
      "text/plain": [
       "<Figure size 432x288 with 2 Axes>"
      ]
     },
     "metadata": {
      "needs_background": "light"
     },
     "output_type": "display_data"
    }
   ],
   "source": [
    "sns.heatmap(df.corr())\n",
    "plt.show()"
   ]
  },
  {
   "cell_type": "code",
   "execution_count": 111,
   "id": "de14377d",
   "metadata": {},
   "outputs": [],
   "source": [
    "from sklearn.preprocessing import StandardScaler"
   ]
  },
  {
   "cell_type": "code",
   "execution_count": 113,
   "id": "4fe3601d",
   "metadata": {},
   "outputs": [],
   "source": [
    "y=df[\"CGPA\"]\n",
    "x=df.drop(columns=[\"CGPA\"])"
   ]
  },
  {
   "cell_type": "code",
   "execution_count": 114,
   "id": "8514c126",
   "metadata": {},
   "outputs": [
    {
     "data": {
      "text/plain": [
       "array([[-1.7290201 ,  0.40040198,  1.77089951, ...,  1.74051347,\n",
       "        -0.34612103, -0.45017773],\n",
       "       [-1.72295336, -1.24205154,  1.4115592 , ...,  0.90041779,\n",
       "         0.72798282, -0.02104337],\n",
       "       [-1.71688662, -1.24205154, -0.74448263, ..., -1.61986925,\n",
       "        -0.70415565, -1.30844646],\n",
       "       ...,\n",
       "       [ 1.71688662, -0.25657943, -1.82250355, ...,  0.06032211,\n",
       "        -0.70415565, -0.45017773],\n",
       "       [ 1.72295336, -1.24205154, -0.38514232, ..., -0.35972573,\n",
       "         0.3699482 ,  1.26635973],\n",
       "       [ 1.7290201 ,  0.72889268,  1.4115592 , ...,  0.06032211,\n",
       "         1.80208667,  2.12462846]])"
      ]
     },
     "execution_count": 114,
     "metadata": {},
     "output_type": "execute_result"
    }
   ],
   "source": [
    "# Scaling\n",
    "\n",
    "scaler=StandardScaler()\n",
    "X_scaled=scaler.fit_transform(x)\n",
    "X_scaled"
   ]
  },
  {
   "cell_type": "code",
   "execution_count": 115,
   "id": "1b1490a0",
   "metadata": {},
   "outputs": [],
   "source": [
    "from sklearn.model_selection import train_test_split"
   ]
  },
  {
   "cell_type": "code",
   "execution_count": 116,
   "id": "5966ea93",
   "metadata": {},
   "outputs": [
    {
     "data": {
      "text/plain": [
       "379    3.621\n",
       "400    2.451\n",
       "436    3.730\n",
       "273    2.391\n",
       "238    3.353\n",
       "Name: CGPA, dtype: float64"
      ]
     },
     "execution_count": 116,
     "metadata": {},
     "output_type": "execute_result"
    }
   ],
   "source": [
    "# train & test \n",
    "x_train,x_test,y_train,y_test=train_test_split(X_scaled,y,test_size=0.25,random_state=49)\n",
    "y_train.head()"
   ]
  },
  {
   "cell_type": "code",
   "execution_count": 122,
   "id": "2366db1b",
   "metadata": {},
   "outputs": [],
   "source": [
    "from sklearn.linear_model import LinearRegression\n",
    "lr=LinearRegression()"
   ]
  },
  {
   "cell_type": "code",
   "execution_count": 125,
   "id": "5b5b6ccd",
   "metadata": {},
   "outputs": [
    {
     "data": {
      "text/plain": [
       "LinearRegression()"
      ]
     },
     "execution_count": 125,
     "metadata": {},
     "output_type": "execute_result"
    }
   ],
   "source": [
    "lr.fit(x_train,y_train)"
   ]
  },
  {
   "cell_type": "code",
   "execution_count": 126,
   "id": "6edb2bca",
   "metadata": {},
   "outputs": [
    {
     "data": {
      "text/plain": [
       "0.9216860435263895"
      ]
     },
     "execution_count": 126,
     "metadata": {},
     "output_type": "execute_result"
    }
   ],
   "source": [
    "#training score\n",
    "lr.score(x_train,y_train)"
   ]
  },
  {
   "cell_type": "code",
   "execution_count": 145,
   "id": "b08b6ea3",
   "metadata": {},
   "outputs": [],
   "source": [
    "# testing Score\n",
    "y_pred=lr.predict(x_test)"
   ]
  },
  {
   "cell_type": "code",
   "execution_count": 135,
   "id": "b51cf3c9",
   "metadata": {},
   "outputs": [],
   "source": [
    "from sklearn.metrics import r2_score"
   ]
  },
  {
   "cell_type": "code",
   "execution_count": 137,
   "id": "f68510ba",
   "metadata": {},
   "outputs": [
    {
     "name": "stdout",
     "output_type": "stream",
     "text": [
      "0.9515236352244172\n"
     ]
    }
   ],
   "source": [
    "print(r2_score(y_test,y_pred))"
   ]
  },
  {
   "cell_type": "code",
   "execution_count": 138,
   "id": "c4898fa3",
   "metadata": {},
   "outputs": [],
   "source": [
    "from sklearn.metrics import mean_squared_error, mean_absolute_error\n"
   ]
  },
  {
   "cell_type": "code",
   "execution_count": 144,
   "id": "3e6c5a15",
   "metadata": {},
   "outputs": [],
   "source": [
    "# Calculate Mean Squared Error\n",
    "mse = mean_squared_error(y_test, y_pred)"
   ]
  },
  {
   "cell_type": "code",
   "execution_count": 147,
   "id": "d1e41e97",
   "metadata": {},
   "outputs": [
    {
     "name": "stdout",
     "output_type": "stream",
     "text": [
      "0.016279146361896993\n"
     ]
    }
   ],
   "source": [
    "print(mse)"
   ]
  },
  {
   "cell_type": "markdown",
   "id": "f9cda7a7",
   "metadata": {},
   "source": []
  },
  {
   "cell_type": "code",
   "execution_count": 141,
   "id": "2651eb27",
   "metadata": {},
   "outputs": [],
   "source": [
    "# Calculate Root Mean Squared Error\n",
    "rmse = mean_squared_error(y_test, y_pred, squared=False)\n"
   ]
  },
  {
   "cell_type": "code",
   "execution_count": 148,
   "id": "46589465",
   "metadata": {},
   "outputs": [
    {
     "name": "stdout",
     "output_type": "stream",
     "text": [
      "0.1275897580603435\n"
     ]
    }
   ],
   "source": [
    "print(rmse)"
   ]
  },
  {
   "cell_type": "code",
   "execution_count": 142,
   "id": "7686dd48",
   "metadata": {},
   "outputs": [],
   "source": [
    "# Calculate Mean Absolute Error\n",
    "mae = mean_absolute_error(y_test, y_pred)"
   ]
  },
  {
   "cell_type": "code",
   "execution_count": 149,
   "id": "7751fc4d",
   "metadata": {},
   "outputs": [
    {
     "name": "stdout",
     "output_type": "stream",
     "text": [
      "0.10276254109674816\n"
     ]
    }
   ],
   "source": [
    "print(mae)"
   ]
  },
  {
   "cell_type": "code",
   "execution_count": 146,
   "id": "2a62ceb9",
   "metadata": {},
   "outputs": [],
   "source": [
    "# Calculate R-squared Score\n",
    "r2 = r2_score(y_test, y_pred)"
   ]
  },
  {
   "cell_type": "code",
   "execution_count": 150,
   "id": "6ce799de",
   "metadata": {},
   "outputs": [
    {
     "data": {
      "text/plain": [
       "0.9515236352244172"
      ]
     },
     "execution_count": 150,
     "metadata": {},
     "output_type": "execute_result"
    }
   ],
   "source": [
    "r2"
   ]
  },
  {
   "cell_type": "code",
   "execution_count": null,
   "id": "bb192bfd",
   "metadata": {},
   "outputs": [],
   "source": [
    "# we have less error .& good r2 score.\n",
    "hence Accuracy score is 95%\n"
   ]
  },
  {
   "cell_type": "code",
   "execution_count": 151,
   "id": "797b09a8",
   "metadata": {},
   "outputs": [],
   "source": [
    "import pickle"
   ]
  },
  {
   "cell_type": "code",
   "execution_count": 152,
   "id": "0bd03810",
   "metadata": {},
   "outputs": [],
   "source": [
    "filename='students grade_file.pkl'\n",
    "pickle.dump('students grade',open(filename,'wb'))"
   ]
  },
  {
   "cell_type": "code",
   "execution_count": null,
   "id": "fad24a82",
   "metadata": {},
   "outputs": [],
   "source": []
  }
 ],
 "metadata": {
  "kernelspec": {
   "display_name": "Python 3 (ipykernel)",
   "language": "python",
   "name": "python3"
  },
  "language_info": {
   "codemirror_mode": {
    "name": "ipython",
    "version": 3
   },
   "file_extension": ".py",
   "mimetype": "text/x-python",
   "name": "python",
   "nbconvert_exporter": "python",
   "pygments_lexer": "ipython3",
   "version": "3.9.7"
  }
 },
 "nbformat": 4,
 "nbformat_minor": 5
}
